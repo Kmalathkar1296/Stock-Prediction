{
 "cells": [
  {
   "cell_type": "code",
   "execution_count": 1,
   "id": "d1500a09",
   "metadata": {},
   "outputs": [],
   "source": [
    "# Import basic libraries\n",
    "\n",
    "import pandas as pd\n",
    "import numpy as np\n",
    "%matplotlib inline\n",
    "import matplotlib.pyplot as plt"
   ]
  },
  {
   "cell_type": "code",
   "execution_count": 2,
   "id": "d427e784",
   "metadata": {},
   "outputs": [
    {
     "name": "stderr",
     "output_type": "stream",
     "text": [
      "2023-12-06 21:24:19.010611: I tensorflow/core/platform/cpu_feature_guard.cc:193] This TensorFlow binary is optimized with oneAPI Deep Neural Network Library (oneDNN) to use the following CPU instructions in performance-critical operations:  AVX2 FMA\n",
      "To enable them in other operations, rebuild TensorFlow with the appropriate compiler flags.\n",
      "2023-12-06 21:24:19.162683: W tensorflow/compiler/xla/stream_executor/platform/default/dso_loader.cc:64] Could not load dynamic library 'libcudart.so.11.0'; dlerror: libcudart.so.11.0: cannot open shared object file: No such file or directory\n",
      "2023-12-06 21:24:19.162711: I tensorflow/compiler/xla/stream_executor/cuda/cudart_stub.cc:29] Ignore above cudart dlerror if you do not have a GPU set up on your machine.\n",
      "2023-12-06 21:24:20.056555: W tensorflow/compiler/xla/stream_executor/platform/default/dso_loader.cc:64] Could not load dynamic library 'libnvinfer.so.7'; dlerror: libnvinfer.so.7: cannot open shared object file: No such file or directory\n",
      "2023-12-06 21:24:20.056655: W tensorflow/compiler/xla/stream_executor/platform/default/dso_loader.cc:64] Could not load dynamic library 'libnvinfer_plugin.so.7'; dlerror: libnvinfer_plugin.so.7: cannot open shared object file: No such file or directory\n",
      "2023-12-06 21:24:20.056666: W tensorflow/compiler/tf2tensorrt/utils/py_utils.cc:38] TF-TRT Warning: Cannot dlopen some TensorRT libraries. If you would like to use Nvidia GPU with TensorRT, please make sure the missing libraries mentioned above are installed properly.\n"
     ]
    }
   ],
   "source": [
    "# For timeseries RNN LSTM neural network\n",
    "\n",
    "from tensorflow.keras.models import Sequential\n",
    "from tensorflow.keras.layers import LSTM\n",
    "from tensorflow.keras.layers import Dropout\n",
    "from tensorflow.keras.layers import Dense"
   ]
  },
  {
   "cell_type": "code",
   "execution_count": 3,
   "id": "794d8daa",
   "metadata": {},
   "outputs": [],
   "source": [
    "# Import Kera:TimeSeriesGenerator\n",
    "\n",
    "from tensorflow.keras.preprocessing.sequence import TimeseriesGenerator\n",
    "\n",
    "# Import Keras:MinMax Scalar\n",
    "\n",
    "from sklearn.preprocessing import MinMaxScaler"
   ]
  },
  {
   "cell_type": "code",
   "execution_count": 4,
   "id": "c2e530a4",
   "metadata": {},
   "outputs": [],
   "source": [
    "dir_path_dataset_1 = 'GOOG_1.csv'"
   ]
  },
  {
   "cell_type": "markdown",
   "id": "e632c535",
   "metadata": {},
   "source": [
    "### Load Data"
   ]
  },
  {
   "cell_type": "code",
   "execution_count": 5,
   "id": "1fd13730",
   "metadata": {},
   "outputs": [
    {
     "data": {
      "text/html": [
       "<div>\n",
       "<style scoped>\n",
       "    .dataframe tbody tr th:only-of-type {\n",
       "        vertical-align: middle;\n",
       "    }\n",
       "\n",
       "    .dataframe tbody tr th {\n",
       "        vertical-align: top;\n",
       "    }\n",
       "\n",
       "    .dataframe thead th {\n",
       "        text-align: right;\n",
       "    }\n",
       "</style>\n",
       "<table border=\"1\" class=\"dataframe\">\n",
       "  <thead>\n",
       "    <tr style=\"text-align: right;\">\n",
       "      <th></th>\n",
       "      <th>Date</th>\n",
       "      <th>Open</th>\n",
       "      <th>High</th>\n",
       "      <th>Low</th>\n",
       "      <th>Close</th>\n",
       "      <th>Adj Close</th>\n",
       "      <th>Volume</th>\n",
       "    </tr>\n",
       "  </thead>\n",
       "  <tbody>\n",
       "    <tr>\n",
       "      <th>0</th>\n",
       "      <td>2015-01-02</td>\n",
       "      <td>26.378078</td>\n",
       "      <td>26.490770</td>\n",
       "      <td>26.133251</td>\n",
       "      <td>26.168653</td>\n",
       "      <td>26.168653</td>\n",
       "      <td>28951268</td>\n",
       "    </tr>\n",
       "    <tr>\n",
       "      <th>1</th>\n",
       "      <td>2015-01-05</td>\n",
       "      <td>26.091366</td>\n",
       "      <td>26.144720</td>\n",
       "      <td>25.582764</td>\n",
       "      <td>25.623152</td>\n",
       "      <td>25.623152</td>\n",
       "      <td>41196796</td>\n",
       "    </tr>\n",
       "    <tr>\n",
       "      <th>2</th>\n",
       "      <td>2015-01-06</td>\n",
       "      <td>25.679497</td>\n",
       "      <td>25.738087</td>\n",
       "      <td>24.983908</td>\n",
       "      <td>25.029282</td>\n",
       "      <td>25.029282</td>\n",
       "      <td>57998800</td>\n",
       "    </tr>\n",
       "    <tr>\n",
       "      <th>3</th>\n",
       "      <td>2015-01-07</td>\n",
       "      <td>25.280592</td>\n",
       "      <td>25.292759</td>\n",
       "      <td>24.914099</td>\n",
       "      <td>24.986401</td>\n",
       "      <td>24.986401</td>\n",
       "      <td>41301082</td>\n",
       "    </tr>\n",
       "    <tr>\n",
       "      <th>4</th>\n",
       "      <td>2015-01-08</td>\n",
       "      <td>24.831326</td>\n",
       "      <td>25.105074</td>\n",
       "      <td>24.482782</td>\n",
       "      <td>25.065184</td>\n",
       "      <td>25.065184</td>\n",
       "      <td>67071641</td>\n",
       "    </tr>\n",
       "  </tbody>\n",
       "</table>\n",
       "</div>"
      ],
      "text/plain": [
       "         Date       Open       High        Low      Close  Adj Close    Volume\n",
       "0  2015-01-02  26.378078  26.490770  26.133251  26.168653  26.168653  28951268\n",
       "1  2015-01-05  26.091366  26.144720  25.582764  25.623152  25.623152  41196796\n",
       "2  2015-01-06  25.679497  25.738087  24.983908  25.029282  25.029282  57998800\n",
       "3  2015-01-07  25.280592  25.292759  24.914099  24.986401  24.986401  41301082\n",
       "4  2015-01-08  24.831326  25.105074  24.482782  25.065184  25.065184  67071641"
      ]
     },
     "execution_count": 5,
     "metadata": {},
     "output_type": "execute_result"
    }
   ],
   "source": [
    "df_ALL = pd.read_csv(dir_path_dataset_1)\n",
    "df_ALL.head()"
   ]
  },
  {
   "cell_type": "code",
   "execution_count": 6,
   "id": "b61d15b8",
   "metadata": {},
   "outputs": [
    {
     "data": {
      "text/plain": [
       "(1382, 7)"
      ]
     },
     "execution_count": 6,
     "metadata": {},
     "output_type": "execute_result"
    }
   ],
   "source": [
    "df_ALL.shape"
   ]
  },
  {
   "cell_type": "code",
   "execution_count": 7,
   "id": "b8c66d10",
   "metadata": {},
   "outputs": [
    {
     "data": {
      "text/plain": [
       "Date          object\n",
       "Open         float64\n",
       "High         float64\n",
       "Low          float64\n",
       "Close        float64\n",
       "Adj Close    float64\n",
       "Volume         int64\n",
       "dtype: object"
      ]
     },
     "execution_count": 7,
     "metadata": {},
     "output_type": "execute_result"
    }
   ],
   "source": [
    "df_ALL.dtypes"
   ]
  },
  {
   "cell_type": "code",
   "execution_count": 8,
   "id": "ea6b6ce0",
   "metadata": {},
   "outputs": [
    {
     "data": {
      "text/html": [
       "<div>\n",
       "<style scoped>\n",
       "    .dataframe tbody tr th:only-of-type {\n",
       "        vertical-align: middle;\n",
       "    }\n",
       "\n",
       "    .dataframe tbody tr th {\n",
       "        vertical-align: top;\n",
       "    }\n",
       "\n",
       "    .dataframe thead th {\n",
       "        text-align: right;\n",
       "    }\n",
       "</style>\n",
       "<table border=\"1\" class=\"dataframe\">\n",
       "  <thead>\n",
       "    <tr style=\"text-align: right;\">\n",
       "      <th></th>\n",
       "      <th>Open</th>\n",
       "      <th>High</th>\n",
       "      <th>Low</th>\n",
       "      <th>Close</th>\n",
       "      <th>Adj Close</th>\n",
       "      <th>Volume</th>\n",
       "    </tr>\n",
       "  </thead>\n",
       "  <tbody>\n",
       "    <tr>\n",
       "      <th>count</th>\n",
       "      <td>1382.000000</td>\n",
       "      <td>1382.000000</td>\n",
       "      <td>1382.000000</td>\n",
       "      <td>1382.000000</td>\n",
       "      <td>1382.000000</td>\n",
       "      <td>1.382000e+03</td>\n",
       "    </tr>\n",
       "    <tr>\n",
       "      <th>mean</th>\n",
       "      <td>47.627746</td>\n",
       "      <td>48.066592</td>\n",
       "      <td>47.193521</td>\n",
       "      <td>47.650752</td>\n",
       "      <td>47.650752</td>\n",
       "      <td>3.479765e+07</td>\n",
       "    </tr>\n",
       "    <tr>\n",
       "      <th>std</th>\n",
       "      <td>12.790044</td>\n",
       "      <td>12.941852</td>\n",
       "      <td>12.666063</td>\n",
       "      <td>12.815438</td>\n",
       "      <td>12.815438</td>\n",
       "      <td>1.710484e+07</td>\n",
       "    </tr>\n",
       "    <tr>\n",
       "      <th>min</th>\n",
       "      <td>24.664783</td>\n",
       "      <td>24.730902</td>\n",
       "      <td>24.311253</td>\n",
       "      <td>24.560070</td>\n",
       "      <td>24.560070</td>\n",
       "      <td>6.950000e+06</td>\n",
       "    </tr>\n",
       "    <tr>\n",
       "      <th>25%</th>\n",
       "      <td>37.039625</td>\n",
       "      <td>37.255625</td>\n",
       "      <td>36.800625</td>\n",
       "      <td>37.042999</td>\n",
       "      <td>37.042999</td>\n",
       "      <td>2.456500e+07</td>\n",
       "    </tr>\n",
       "    <tr>\n",
       "      <th>50%</th>\n",
       "      <td>48.563249</td>\n",
       "      <td>48.886751</td>\n",
       "      <td>48.226500</td>\n",
       "      <td>48.628999</td>\n",
       "      <td>48.628999</td>\n",
       "      <td>3.040600e+07</td>\n",
       "    </tr>\n",
       "    <tr>\n",
       "      <th>75%</th>\n",
       "      <td>57.438376</td>\n",
       "      <td>58.337350</td>\n",
       "      <td>57.045499</td>\n",
       "      <td>57.691000</td>\n",
       "      <td>57.691000</td>\n",
       "      <td>3.960400e+07</td>\n",
       "    </tr>\n",
       "    <tr>\n",
       "      <th>max</th>\n",
       "      <td>76.253502</td>\n",
       "      <td>76.605301</td>\n",
       "      <td>76.070000</td>\n",
       "      <td>76.334503</td>\n",
       "      <td>76.334503</td>\n",
       "      <td>2.232980e+08</td>\n",
       "    </tr>\n",
       "  </tbody>\n",
       "</table>\n",
       "</div>"
      ],
      "text/plain": [
       "              Open         High          Low        Close    Adj Close  \\\n",
       "count  1382.000000  1382.000000  1382.000000  1382.000000  1382.000000   \n",
       "mean     47.627746    48.066592    47.193521    47.650752    47.650752   \n",
       "std      12.790044    12.941852    12.666063    12.815438    12.815438   \n",
       "min      24.664783    24.730902    24.311253    24.560070    24.560070   \n",
       "25%      37.039625    37.255625    36.800625    37.042999    37.042999   \n",
       "50%      48.563249    48.886751    48.226500    48.628999    48.628999   \n",
       "75%      57.438376    58.337350    57.045499    57.691000    57.691000   \n",
       "max      76.253502    76.605301    76.070000    76.334503    76.334503   \n",
       "\n",
       "             Volume  \n",
       "count  1.382000e+03  \n",
       "mean   3.479765e+07  \n",
       "std    1.710484e+07  \n",
       "min    6.950000e+06  \n",
       "25%    2.456500e+07  \n",
       "50%    3.040600e+07  \n",
       "75%    3.960400e+07  \n",
       "max    2.232980e+08  "
      ]
     },
     "execution_count": 8,
     "metadata": {},
     "output_type": "execute_result"
    }
   ],
   "source": [
    "# Statistic Summary\n",
    "\n",
    "df_ALL.describe()"
   ]
  },
  {
   "cell_type": "markdown",
   "id": "60fe2fba",
   "metadata": {},
   "source": [
    "### Keep only close price and filter out all other attributes"
   ]
  },
  {
   "cell_type": "code",
   "execution_count": 9,
   "id": "ec498b8f",
   "metadata": {},
   "outputs": [],
   "source": [
    "df = df_ALL.iloc[:,4:5]"
   ]
  },
  {
   "cell_type": "code",
   "execution_count": 10,
   "id": "ecd790df",
   "metadata": {},
   "outputs": [
    {
     "data": {
      "text/html": [
       "<div>\n",
       "<style scoped>\n",
       "    .dataframe tbody tr th:only-of-type {\n",
       "        vertical-align: middle;\n",
       "    }\n",
       "\n",
       "    .dataframe tbody tr th {\n",
       "        vertical-align: top;\n",
       "    }\n",
       "\n",
       "    .dataframe thead th {\n",
       "        text-align: right;\n",
       "    }\n",
       "</style>\n",
       "<table border=\"1\" class=\"dataframe\">\n",
       "  <thead>\n",
       "    <tr style=\"text-align: right;\">\n",
       "      <th></th>\n",
       "      <th>Close</th>\n",
       "    </tr>\n",
       "  </thead>\n",
       "  <tbody>\n",
       "    <tr>\n",
       "      <th>0</th>\n",
       "      <td>26.168653</td>\n",
       "    </tr>\n",
       "    <tr>\n",
       "      <th>1</th>\n",
       "      <td>25.623152</td>\n",
       "    </tr>\n",
       "    <tr>\n",
       "      <th>2</th>\n",
       "      <td>25.029282</td>\n",
       "    </tr>\n",
       "    <tr>\n",
       "      <th>3</th>\n",
       "      <td>24.986401</td>\n",
       "    </tr>\n",
       "    <tr>\n",
       "      <th>4</th>\n",
       "      <td>25.065184</td>\n",
       "    </tr>\n",
       "  </tbody>\n",
       "</table>\n",
       "</div>"
      ],
      "text/plain": [
       "       Close\n",
       "0  26.168653\n",
       "1  25.623152\n",
       "2  25.029282\n",
       "3  24.986401\n",
       "4  25.065184"
      ]
     },
     "execution_count": 10,
     "metadata": {},
     "output_type": "execute_result"
    }
   ],
   "source": [
    "df.head()"
   ]
  },
  {
   "cell_type": "code",
   "execution_count": 11,
   "id": "91c57757",
   "metadata": {},
   "outputs": [
    {
     "data": {
      "text/plain": [
       "<AxesSubplot:>"
      ]
     },
     "execution_count": 11,
     "metadata": {},
     "output_type": "execute_result"
    },
    {
     "data": {
      "image/png": "[encoded data removed]",
      "text/plain": [
       "<Figure size 1200x800 with 1 Axes>"
      ]
     },
     "metadata": {},
     "output_type": "display_data"
    }
   ],
   "source": [
    "df.plot(figsize=(12,8))"
   ]
  },
  {
   "cell_type": "markdown",
   "id": "39a84f3d",
   "metadata": {},
   "source": [
    "### Length of input Time Series-Number of Input Time Steps"
   ]
  },
  {
   "cell_type": "code",
   "execution_count": 12,
   "id": "91e0c5ad",
   "metadata": {},
   "outputs": [],
   "source": [
    "length60 = 60"
   ]
  },
  {
   "cell_type": "code",
   "execution_count": 13,
   "id": "db4e1ad5",
   "metadata": {},
   "outputs": [
    {
     "data": {
      "text/plain": [
       "60"
      ]
     },
     "execution_count": 13,
     "metadata": {},
     "output_type": "execute_result"
    }
   ],
   "source": [
    "length60"
   ]
  },
  {
   "cell_type": "markdown",
   "id": "a056c5c4",
   "metadata": {},
   "source": [
    "### Time Series Dataset: Train/ test split"
   ]
  },
  {
   "cell_type": "code",
   "execution_count": 14,
   "id": "ae533f94",
   "metadata": {},
   "outputs": [
    {
     "data": {
      "text/plain": [
       "1382"
      ]
     },
     "execution_count": 14,
     "metadata": {},
     "output_type": "execute_result"
    }
   ],
   "source": [
    "len(df)"
   ]
  },
  {
   "cell_type": "code",
   "execution_count": 15,
   "id": "a66dbe7d",
   "metadata": {},
   "outputs": [],
   "source": [
    "# Set percentage of data used for testing\n",
    "\n",
    "test_percent = 0.1"
   ]
  },
  {
   "cell_type": "code",
   "execution_count": 16,
   "id": "4fd38333",
   "metadata": {},
   "outputs": [
    {
     "data": {
      "text/plain": [
       "138.20000000000002"
      ]
     },
     "execution_count": 16,
     "metadata": {},
     "output_type": "execute_result"
    }
   ],
   "source": [
    "len(df)*test_percent"
   ]
  },
  {
   "cell_type": "markdown",
   "id": "9678272a",
   "metadata": {},
   "source": [
    "### Split Data -> Train/Test"
   ]
  },
  {
   "cell_type": "code",
   "execution_count": 17,
   "id": "f961768d",
   "metadata": {},
   "outputs": [
    {
     "data": {
      "text/plain": [
       "138.0"
      ]
     },
     "execution_count": 17,
     "metadata": {},
     "output_type": "execute_result"
    }
   ],
   "source": [
    "test_length = np.round(len(df)*test_percent)\n",
    "test_length"
   ]
  },
  {
   "cell_type": "code",
   "execution_count": 18,
   "id": "92f163d3",
   "metadata": {},
   "outputs": [
    {
     "data": {
      "text/plain": [
       "1244"
      ]
     },
     "execution_count": 18,
     "metadata": {},
     "output_type": "execute_result"
    }
   ],
   "source": [
    "split_index = int(len(df)-test_length)\n",
    "\n",
    "split_index"
   ]
  },
  {
   "cell_type": "code",
   "execution_count": 19,
   "id": "93c7577f",
   "metadata": {},
   "outputs": [],
   "source": [
    "data_train = df.iloc[:split_index]"
   ]
  },
  {
   "cell_type": "code",
   "execution_count": 20,
   "id": "2056a645",
   "metadata": {},
   "outputs": [],
   "source": [
    "data_test = df.iloc[split_index - length60:]"
   ]
  },
  {
   "cell_type": "code",
   "execution_count": 21,
   "id": "cd4ab5c8",
   "metadata": {},
   "outputs": [
    {
     "data": {
      "text/html": [
       "<div>\n",
       "<style scoped>\n",
       "    .dataframe tbody tr th:only-of-type {\n",
       "        vertical-align: middle;\n",
       "    }\n",
       "\n",
       "    .dataframe tbody tr th {\n",
       "        vertical-align: top;\n",
       "    }\n",
       "\n",
       "    .dataframe thead th {\n",
       "        text-align: right;\n",
       "    }\n",
       "</style>\n",
       "<table border=\"1\" class=\"dataframe\">\n",
       "  <thead>\n",
       "    <tr style=\"text-align: right;\">\n",
       "      <th></th>\n",
       "      <th>Close</th>\n",
       "    </tr>\n",
       "  </thead>\n",
       "  <tbody>\n",
       "    <tr>\n",
       "      <th>0</th>\n",
       "      <td>26.168653</td>\n",
       "    </tr>\n",
       "    <tr>\n",
       "      <th>1</th>\n",
       "      <td>25.623152</td>\n",
       "    </tr>\n",
       "    <tr>\n",
       "      <th>2</th>\n",
       "      <td>25.029282</td>\n",
       "    </tr>\n",
       "    <tr>\n",
       "      <th>3</th>\n",
       "      <td>24.986401</td>\n",
       "    </tr>\n",
       "    <tr>\n",
       "      <th>4</th>\n",
       "      <td>25.065184</td>\n",
       "    </tr>\n",
       "  </tbody>\n",
       "</table>\n",
       "</div>"
      ],
      "text/plain": [
       "       Close\n",
       "0  26.168653\n",
       "1  25.623152\n",
       "2  25.029282\n",
       "3  24.986401\n",
       "4  25.065184"
      ]
     },
     "execution_count": 21,
     "metadata": {},
     "output_type": "execute_result"
    }
   ],
   "source": [
    "data_train.head(5)"
   ]
  },
  {
   "cell_type": "code",
   "execution_count": 22,
   "id": "4b6b90db",
   "metadata": {},
   "outputs": [
    {
     "data": {
      "text/html": [
       "<div>\n",
       "<style scoped>\n",
       "    .dataframe tbody tr th:only-of-type {\n",
       "        vertical-align: middle;\n",
       "    }\n",
       "\n",
       "    .dataframe tbody tr th {\n",
       "        vertical-align: top;\n",
       "    }\n",
       "\n",
       "    .dataframe thead th {\n",
       "        text-align: right;\n",
       "    }\n",
       "</style>\n",
       "<table border=\"1\" class=\"dataframe\">\n",
       "  <thead>\n",
       "    <tr style=\"text-align: right;\">\n",
       "      <th></th>\n",
       "      <th>Close</th>\n",
       "    </tr>\n",
       "  </thead>\n",
       "  <tbody>\n",
       "    <tr>\n",
       "      <th>1239</th>\n",
       "      <td>66.027000</td>\n",
       "    </tr>\n",
       "    <tr>\n",
       "      <th>1240</th>\n",
       "      <td>66.406502</td>\n",
       "    </tr>\n",
       "    <tr>\n",
       "      <th>1241</th>\n",
       "      <td>67.030998</td>\n",
       "    </tr>\n",
       "    <tr>\n",
       "      <th>1242</th>\n",
       "      <td>67.178001</td>\n",
       "    </tr>\n",
       "    <tr>\n",
       "      <th>1243</th>\n",
       "      <td>67.233002</td>\n",
       "    </tr>\n",
       "  </tbody>\n",
       "</table>\n",
       "</div>"
      ],
      "text/plain": [
       "          Close\n",
       "1239  66.027000\n",
       "1240  66.406502\n",
       "1241  67.030998\n",
       "1242  67.178001\n",
       "1243  67.233002"
      ]
     },
     "execution_count": 22,
     "metadata": {},
     "output_type": "execute_result"
    }
   ],
   "source": [
    "data_train.tail()"
   ]
  },
  {
   "cell_type": "code",
   "execution_count": 23,
   "id": "37fe0191",
   "metadata": {},
   "outputs": [
    {
     "data": {
      "text/html": [
       "<div>\n",
       "<style scoped>\n",
       "    .dataframe tbody tr th:only-of-type {\n",
       "        vertical-align: middle;\n",
       "    }\n",
       "\n",
       "    .dataframe tbody tr th {\n",
       "        vertical-align: top;\n",
       "    }\n",
       "\n",
       "    .dataframe thead th {\n",
       "        text-align: right;\n",
       "    }\n",
       "</style>\n",
       "<table border=\"1\" class=\"dataframe\">\n",
       "  <thead>\n",
       "    <tr style=\"text-align: right;\">\n",
       "      <th></th>\n",
       "      <th>Close</th>\n",
       "    </tr>\n",
       "  </thead>\n",
       "  <tbody>\n",
       "    <tr>\n",
       "      <th>1184</th>\n",
       "      <td>61.457500</td>\n",
       "    </tr>\n",
       "    <tr>\n",
       "      <th>1185</th>\n",
       "      <td>61.620499</td>\n",
       "    </tr>\n",
       "    <tr>\n",
       "      <th>1186</th>\n",
       "      <td>61.935501</td>\n",
       "    </tr>\n",
       "    <tr>\n",
       "      <th>1187</th>\n",
       "      <td>61.496498</td>\n",
       "    </tr>\n",
       "    <tr>\n",
       "      <th>1188</th>\n",
       "      <td>61.701500</td>\n",
       "    </tr>\n",
       "  </tbody>\n",
       "</table>\n",
       "</div>"
      ],
      "text/plain": [
       "          Close\n",
       "1184  61.457500\n",
       "1185  61.620499\n",
       "1186  61.935501\n",
       "1187  61.496498\n",
       "1188  61.701500"
      ]
     },
     "execution_count": 23,
     "metadata": {},
     "output_type": "execute_result"
    }
   ],
   "source": [
    "data_test.head(5)"
   ]
  },
  {
   "cell_type": "code",
   "execution_count": 24,
   "id": "d491ff77",
   "metadata": {},
   "outputs": [
    {
     "data": {
      "text/html": [
       "<div>\n",
       "<style scoped>\n",
       "    .dataframe tbody tr th:only-of-type {\n",
       "        vertical-align: middle;\n",
       "    }\n",
       "\n",
       "    .dataframe tbody tr th {\n",
       "        vertical-align: top;\n",
       "    }\n",
       "\n",
       "    .dataframe thead th {\n",
       "        text-align: right;\n",
       "    }\n",
       "</style>\n",
       "<table border=\"1\" class=\"dataframe\">\n",
       "  <thead>\n",
       "    <tr style=\"text-align: right;\">\n",
       "      <th></th>\n",
       "      <th>Close</th>\n",
       "    </tr>\n",
       "  </thead>\n",
       "  <tbody>\n",
       "    <tr>\n",
       "      <th>1377</th>\n",
       "      <td>73.220497</td>\n",
       "    </tr>\n",
       "    <tr>\n",
       "      <th>1378</th>\n",
       "      <td>71.598503</td>\n",
       "    </tr>\n",
       "    <tr>\n",
       "      <th>1379</th>\n",
       "      <td>72.066498</td>\n",
       "    </tr>\n",
       "    <tr>\n",
       "      <th>1380</th>\n",
       "      <td>67.995003</td>\n",
       "    </tr>\n",
       "    <tr>\n",
       "      <th>1381</th>\n",
       "      <td>69.748497</td>\n",
       "    </tr>\n",
       "  </tbody>\n",
       "</table>\n",
       "</div>"
      ],
      "text/plain": [
       "          Close\n",
       "1377  73.220497\n",
       "1378  71.598503\n",
       "1379  72.066498\n",
       "1380  67.995003\n",
       "1381  69.748497"
      ]
     },
     "execution_count": 24,
     "metadata": {},
     "output_type": "execute_result"
    }
   ],
   "source": [
    "data_test.tail()"
   ]
  },
  {
   "cell_type": "markdown",
   "id": "9a2e3ae7",
   "metadata": {},
   "source": [
    "### Normalize Data in range [0, 1]"
   ]
  },
  {
   "cell_type": "code",
   "execution_count": 25,
   "id": "01eca84b",
   "metadata": {},
   "outputs": [],
   "source": [
    "scaler = MinMaxScaler()"
   ]
  },
  {
   "cell_type": "code",
   "execution_count": 26,
   "id": "4b431ab6",
   "metadata": {},
   "outputs": [
    {
     "data": {
      "text/plain": [
       "MinMaxScaler()"
      ]
     },
     "execution_count": 26,
     "metadata": {},
     "output_type": "execute_result"
    }
   ],
   "source": [
    "scaler.fit(data_train)"
   ]
  },
  {
   "cell_type": "code",
   "execution_count": 27,
   "id": "cef13901",
   "metadata": {},
   "outputs": [],
   "source": [
    "normalized_train = scaler.transform(data_train)\n",
    "normalized_test = scaler.transform(data_test)"
   ]
  },
  {
   "cell_type": "markdown",
   "id": "d7ea9dbe",
   "metadata": {},
   "source": [
    "### Create TimeseriesGenerator for Training"
   ]
  },
  {
   "cell_type": "code",
   "execution_count": 28,
   "id": "53983dba",
   "metadata": {},
   "outputs": [],
   "source": [
    "batch_size32 = 32\n",
    "\n",
    "train_tsGenerator60 = TimeseriesGenerator(normalized_train, normalized_train, length=length60, batch_size=batch_size32)"
   ]
  },
  {
   "cell_type": "code",
   "execution_count": 29,
   "id": "adb0eb5b",
   "metadata": {},
   "outputs": [
    {
     "data": {
      "text/plain": [
       "1244"
      ]
     },
     "execution_count": 29,
     "metadata": {},
     "output_type": "execute_result"
    }
   ],
   "source": [
    "len(normalized_train)"
   ]
  },
  {
   "cell_type": "code",
   "execution_count": 30,
   "id": "14c1d97a",
   "metadata": {},
   "outputs": [
    {
     "data": {
      "text/plain": [
       "37"
      ]
     },
     "execution_count": 30,
     "metadata": {},
     "output_type": "execute_result"
    }
   ],
   "source": [
    "len(train_tsGenerator60)"
   ]
  },
  {
   "cell_type": "code",
   "execution_count": 31,
   "id": "13646299",
   "metadata": {},
   "outputs": [],
   "source": [
    "x,y = train_tsGenerator60[0]"
   ]
  },
  {
   "cell_type": "code",
   "execution_count": 32,
   "id": "18ba0865",
   "metadata": {},
   "outputs": [
    {
     "data": {
      "text/plain": [
       "array([[[0.03769563],\n",
       "        [0.02491233],\n",
       "        [0.01099554],\n",
       "        ...,\n",
       "        [0.07317118],\n",
       "        [0.06519032],\n",
       "        [0.06950209]],\n",
       "\n",
       "       [[0.02491233],\n",
       "        [0.01099554],\n",
       "        [0.00999067],\n",
       "        ...,\n",
       "        [0.06519032],\n",
       "        [0.06950209],\n",
       "        [0.06479306]],\n",
       "\n",
       "       [[0.01099554],\n",
       "        [0.00999067],\n",
       "        [0.01183687],\n",
       "        ...,\n",
       "        [0.06950209],\n",
       "        [0.06479306],\n",
       "        [0.05843643]],\n",
       "\n",
       "       ...,\n",
       "\n",
       "       [[0.06597323],\n",
       "        [0.05876362],\n",
       "        [0.05509455],\n",
       "        ...,\n",
       "        [0.04628063],\n",
       "        [0.05509181],\n",
       "        [0.05213914]],\n",
       "\n",
       "       [[0.05876362],\n",
       "        [0.05509455],\n",
       "        [0.05879865],\n",
       "        ...,\n",
       "        [0.05509181],\n",
       "        [0.05213914],\n",
       "        [0.0443356 ]],\n",
       "\n",
       "       [[0.05509455],\n",
       "        [0.05879865],\n",
       "        [0.05421816],\n",
       "        ...,\n",
       "        [0.05213914],\n",
       "        [0.0443356 ],\n",
       "        [0.04501521]]])"
      ]
     },
     "execution_count": 32,
     "metadata": {},
     "output_type": "execute_result"
    }
   ],
   "source": [
    "x"
   ]
  },
  {
   "cell_type": "code",
   "execution_count": 33,
   "id": "52f93d43",
   "metadata": {},
   "outputs": [
    {
     "data": {
      "text/plain": [
       "array([[0.06479306],\n",
       "       [0.05843643],\n",
       "       [0.05022191],\n",
       "       [0.051665  ],\n",
       "       [0.05196294],\n",
       "       [0.05732634],\n",
       "       [0.05635652],\n",
       "       [0.05545677],\n",
       "       [0.05447521],\n",
       "       [0.04421585],\n",
       "       [0.04671641],\n",
       "       [0.04820039],\n",
       "       [0.0368076 ],\n",
       "       [0.05004664],\n",
       "       [0.04839909],\n",
       "       [0.05470308],\n",
       "       [0.06362455],\n",
       "       [0.08472757],\n",
       "       [0.07518651],\n",
       "       [0.07320636],\n",
       "       [0.06781653],\n",
       "       [0.05406076],\n",
       "       [0.05471689],\n",
       "       [0.05809139],\n",
       "       [0.04639782],\n",
       "       [0.03868799],\n",
       "       [0.04628063],\n",
       "       [0.05509181],\n",
       "       [0.05213914],\n",
       "       [0.0443356 ],\n",
       "       [0.04501521],\n",
       "       [0.05530274]])"
      ]
     },
     "execution_count": 33,
     "metadata": {},
     "output_type": "execute_result"
    }
   ],
   "source": [
    "y"
   ]
  },
  {
   "cell_type": "markdown",
   "id": "af53bca7",
   "metadata": {},
   "source": [
    "### Build LSTM Model"
   ]
  },
  {
   "cell_type": "code",
   "execution_count": 34,
   "id": "4fb537dc",
   "metadata": {},
   "outputs": [],
   "source": [
    "n_features = 1"
   ]
  },
  {
   "cell_type": "code",
   "execution_count": 35,
   "id": "7a29ce32",
   "metadata": {},
   "outputs": [
    {
     "name": "stderr",
     "output_type": "stream",
     "text": [
      "2023-12-06 21:24:21.640733: W tensorflow/compiler/xla/stream_executor/platform/default/dso_loader.cc:64] Could not load dynamic library 'libcuda.so.1'; dlerror: libcuda.so.1: cannot open shared object file: No such file or directory\n",
      "2023-12-06 21:24:21.640775: W tensorflow/compiler/xla/stream_executor/cuda/cuda_driver.cc:265] failed call to cuInit: UNKNOWN ERROR (303)\n",
      "2023-12-06 21:24:21.640795: I tensorflow/compiler/xla/stream_executor/cuda/cuda_diagnostics.cc:156] kernel driver does not appear to be running on this host (deep-learning-vm-tf2): /proc/driver/nvidia/version does not exist\n",
      "2023-12-06 21:24:21.641111: I tensorflow/core/platform/cpu_feature_guard.cc:193] This TensorFlow binary is optimized with oneAPI Deep Neural Network Library (oneDNN) to use the following CPU instructions in performance-critical operations:  AVX2 FMA\n",
      "To enable them in other operations, rebuild TensorFlow with the appropriate compiler flags.\n"
     ]
    }
   ],
   "source": [
    "model = Sequential()\n",
    "model.add(LSTM(50, activation='relu', return_sequences=True, input_shape=(length60, n_features)))\n",
    "model.add(Dropout(0.2))\n",
    "model.add(LSTM(units=50, activation='relu',return_sequences=True))\n",
    "model.add(Dropout(0.2))\n",
    "model.add(LSTM(units=50, activation='relu'))\n",
    "model.add(Dense(1))"
   ]
  },
  {
   "cell_type": "markdown",
   "id": "ff47f904",
   "metadata": {},
   "source": [
    "### Compile model"
   ]
  },
  {
   "cell_type": "code",
   "execution_count": 36,
   "id": "fac48af3",
   "metadata": {},
   "outputs": [
    {
     "name": "stdout",
     "output_type": "stream",
     "text": [
      "Model: \"sequential\"\n",
      "_________________________________________________________________\n",
      " Layer (type)                Output Shape              Param #   \n",
      "=================================================================\n",
      " lstm (LSTM)                 (None, 60, 50)            10400     \n",
      "                                                                 \n",
      " dropout (Dropout)           (None, 60, 50)            0         \n",
      "                                                                 \n",
      " lstm_1 (LSTM)               (None, 60, 50)            20200     \n",
      "                                                                 \n",
      " dropout_1 (Dropout)         (None, 60, 50)            0         \n",
      "                                                                 \n",
      " lstm_2 (LSTM)               (None, 50)                20200     \n",
      "                                                                 \n",
      " dense (Dense)               (None, 1)                 51        \n",
      "                                                                 \n",
      "=================================================================\n",
      "Total params: 50,851\n",
      "Trainable params: 50,851\n",
      "Non-trainable params: 0\n",
      "_________________________________________________________________\n"
     ]
    }
   ],
   "source": [
    "model.compile(optimizer='adam',loss='mse')\n",
    "model.summary()"
   ]
  },
  {
   "cell_type": "markdown",
   "id": "117858a8",
   "metadata": {},
   "source": [
    "### Train(Fit) Model using fit_generator()"
   ]
  },
  {
   "cell_type": "code",
   "execution_count": 37,
   "id": "8d7d354e",
   "metadata": {},
   "outputs": [
    {
     "name": "stdout",
     "output_type": "stream",
     "text": [
      "Epoch 1/100\n"
     ]
    },
    {
     "name": "stderr",
     "output_type": "stream",
     "text": [
      "/opt/conda/lib/python3.7/site-packages/ipykernel_launcher.py:1: UserWarning: `Model.fit_generator` is deprecated and will be removed in a future version. Please use `Model.fit`, which supports generators.\n",
      "  \"\"\"Entry point for launching an IPython kernel.\n"
     ]
    },
    {
     "name": "stdout",
     "output_type": "stream",
     "text": [
      "37/37 [==============================] - 6s 61ms/step - loss: 0.1091\n",
      "Epoch 2/100\n",
      "37/37 [==============================] - 2s 61ms/step - loss: 0.0118\n",
      "Epoch 3/100\n",
      "37/37 [==============================] - 2s 62ms/step - loss: 0.0039\n",
      "Epoch 4/100\n",
      "37/37 [==============================] - 2s 59ms/step - loss: 0.0074\n",
      "Epoch 5/100\n",
      "37/37 [==============================] - 2s 60ms/step - loss: 0.0071\n",
      "Epoch 6/100\n",
      "37/37 [==============================] - 2s 61ms/step - loss: 0.0041\n",
      "Epoch 7/100\n",
      "37/37 [==============================] - 2s 61ms/step - loss: 0.0050\n",
      "Epoch 8/100\n",
      "37/37 [==============================] - 2s 60ms/step - loss: 0.0035\n",
      "Epoch 9/100\n",
      "37/37 [==============================] - 2s 61ms/step - loss: 0.0043\n",
      "Epoch 10/100\n",
      "37/37 [==============================] - 2s 61ms/step - loss: 0.0029\n",
      "Epoch 11/100\n",
      "37/37 [==============================] - 2s 61ms/step - loss: 0.0055\n",
      "Epoch 12/100\n",
      "37/37 [==============================] - 2s 60ms/step - loss: 0.0035\n",
      "Epoch 13/100\n",
      "37/37 [==============================] - 2s 62ms/step - loss: 0.0048\n",
      "Epoch 14/100\n",
      "37/37 [==============================] - 2s 61ms/step - loss: 0.0038\n",
      "Epoch 15/100\n",
      "37/37 [==============================] - 2s 61ms/step - loss: 0.0028\n",
      "Epoch 16/100\n",
      "37/37 [==============================] - 2s 64ms/step - loss: 0.0025\n",
      "Epoch 17/100\n",
      "37/37 [==============================] - 2s 65ms/step - loss: 0.0026\n",
      "Epoch 18/100\n",
      "37/37 [==============================] - 2s 61ms/step - loss: 0.0027\n",
      "Epoch 19/100\n",
      "37/37 [==============================] - 2s 60ms/step - loss: 0.0030\n",
      "Epoch 20/100\n",
      "37/37 [==============================] - 2s 60ms/step - loss: 0.0031\n",
      "Epoch 21/100\n",
      "37/37 [==============================] - 2s 59ms/step - loss: 0.0025\n",
      "Epoch 22/100\n",
      "37/37 [==============================] - 2s 61ms/step - loss: 0.0025\n",
      "Epoch 23/100\n",
      "37/37 [==============================] - 2s 61ms/step - loss: 0.0026\n",
      "Epoch 24/100\n",
      "37/37 [==============================] - 2s 60ms/step - loss: 0.0036\n",
      "Epoch 25/100\n",
      "37/37 [==============================] - 2s 61ms/step - loss: 0.0025\n",
      "Epoch 26/100\n",
      "37/37 [==============================] - 2s 61ms/step - loss: 0.0043\n",
      "Epoch 27/100\n",
      "37/37 [==============================] - 2s 60ms/step - loss: 0.0030\n",
      "Epoch 28/100\n",
      "37/37 [==============================] - 2s 62ms/step - loss: 0.0027\n",
      "Epoch 29/100\n",
      "37/37 [==============================] - 2s 61ms/step - loss: 0.0028\n",
      "Epoch 30/100\n",
      "37/37 [==============================] - 2s 61ms/step - loss: 0.0038\n",
      "Epoch 31/100\n",
      "37/37 [==============================] - 2s 59ms/step - loss: 0.0025\n",
      "Epoch 32/100\n",
      "37/37 [==============================] - 2s 61ms/step - loss: 0.0025\n",
      "Epoch 33/100\n",
      "37/37 [==============================] - 2s 61ms/step - loss: 0.0022\n",
      "Epoch 34/100\n",
      "37/37 [==============================] - 2s 61ms/step - loss: 0.0021\n",
      "Epoch 35/100\n",
      "37/37 [==============================] - 2s 61ms/step - loss: 0.0023\n",
      "Epoch 36/100\n",
      "37/37 [==============================] - 2s 61ms/step - loss: 0.0022\n",
      "Epoch 37/100\n",
      "37/37 [==============================] - 2s 60ms/step - loss: 0.0024\n",
      "Epoch 38/100\n",
      "37/37 [==============================] - 2s 60ms/step - loss: 0.0023\n",
      "Epoch 39/100\n",
      "37/37 [==============================] - 2s 60ms/step - loss: 0.0023\n",
      "Epoch 40/100\n",
      "37/37 [==============================] - 2s 61ms/step - loss: 0.0025\n",
      "Epoch 41/100\n",
      "37/37 [==============================] - 2s 60ms/step - loss: 0.0020\n",
      "Epoch 42/100\n",
      "37/37 [==============================] - 2s 67ms/step - loss: 0.0017\n",
      "Epoch 43/100\n",
      "37/37 [==============================] - 2s 61ms/step - loss: 0.0030\n",
      "Epoch 44/100\n",
      "37/37 [==============================] - 2s 62ms/step - loss: 0.0021\n",
      "Epoch 45/100\n",
      "37/37 [==============================] - 2s 62ms/step - loss: 0.0020\n",
      "Epoch 46/100\n",
      "37/37 [==============================] - 2s 60ms/step - loss: 0.0021\n",
      "Epoch 47/100\n",
      "37/37 [==============================] - 2s 61ms/step - loss: 0.0028\n",
      "Epoch 48/100\n",
      "37/37 [==============================] - 2s 61ms/step - loss: 0.0021\n",
      "Epoch 49/100\n",
      "37/37 [==============================] - 2s 62ms/step - loss: 0.0022\n",
      "Epoch 50/100\n",
      "37/37 [==============================] - 2s 60ms/step - loss: 0.0018\n",
      "Epoch 51/100\n",
      "37/37 [==============================] - 2s 59ms/step - loss: 0.0029\n",
      "Epoch 52/100\n",
      "37/37 [==============================] - 2s 61ms/step - loss: 0.0025\n",
      "Epoch 53/100\n",
      "37/37 [==============================] - 2s 60ms/step - loss: 0.0021\n",
      "Epoch 54/100\n",
      "37/37 [==============================] - 2s 61ms/step - loss: 0.0026\n",
      "Epoch 55/100\n",
      "37/37 [==============================] - 2s 60ms/step - loss: 0.0024\n",
      "Epoch 56/100\n",
      "37/37 [==============================] - 2s 61ms/step - loss: 0.0020\n",
      "Epoch 57/100\n",
      "37/37 [==============================] - 2s 60ms/step - loss: 0.0020\n",
      "Epoch 58/100\n",
      "37/37 [==============================] - 2s 60ms/step - loss: 0.0018\n",
      "Epoch 59/100\n",
      "37/37 [==============================] - 2s 61ms/step - loss: 0.0018\n",
      "Epoch 60/100\n",
      "37/37 [==============================] - 2s 60ms/step - loss: 0.0017\n",
      "Epoch 61/100\n",
      "37/37 [==============================] - 2s 60ms/step - loss: 0.0023\n",
      "Epoch 62/100\n",
      "37/37 [==============================] - 2s 59ms/step - loss: 0.0036\n",
      "Epoch 63/100\n",
      "37/37 [==============================] - 2s 59ms/step - loss: 0.0021\n",
      "Epoch 64/100\n",
      "37/37 [==============================] - 2s 58ms/step - loss: 0.0025\n",
      "Epoch 65/100\n",
      "37/37 [==============================] - 2s 60ms/step - loss: 0.0029\n",
      "Epoch 66/100\n",
      "37/37 [==============================] - 2s 60ms/step - loss: 0.0019\n",
      "Epoch 67/100\n",
      "37/37 [==============================] - 2s 59ms/step - loss: 0.0017\n",
      "Epoch 68/100\n",
      "37/37 [==============================] - 2s 64ms/step - loss: 0.0020\n",
      "Epoch 69/100\n",
      "37/37 [==============================] - 2s 61ms/step - loss: 0.0027\n",
      "Epoch 70/100\n",
      "37/37 [==============================] - 2s 59ms/step - loss: 0.0018\n",
      "Epoch 71/100\n",
      "37/37 [==============================] - 2s 60ms/step - loss: 0.0016\n",
      "Epoch 72/100\n",
      "37/37 [==============================] - 2s 59ms/step - loss: 0.0031\n",
      "Epoch 73/100\n",
      "37/37 [==============================] - 2s 59ms/step - loss: 0.0048\n",
      "Epoch 74/100\n",
      "37/37 [==============================] - 2s 59ms/step - loss: 0.0019\n",
      "Epoch 75/100\n",
      "37/37 [==============================] - 2s 59ms/step - loss: 0.0023\n",
      "Epoch 76/100\n",
      "37/37 [==============================] - 2s 59ms/step - loss: 0.0017\n",
      "Epoch 77/100\n",
      "37/37 [==============================] - 2s 58ms/step - loss: 0.0020\n",
      "Epoch 78/100\n",
      "37/37 [==============================] - 2s 59ms/step - loss: 0.0019\n",
      "Epoch 79/100\n",
      "37/37 [==============================] - 2s 59ms/step - loss: 0.0016\n",
      "Epoch 80/100\n",
      "37/37 [==============================] - 2s 58ms/step - loss: 0.0016\n",
      "Epoch 81/100\n",
      "37/37 [==============================] - 2s 59ms/step - loss: 0.0017\n",
      "Epoch 82/100\n",
      "37/37 [==============================] - 2s 59ms/step - loss: 0.0019\n",
      "Epoch 83/100\n",
      "37/37 [==============================] - 2s 59ms/step - loss: 0.0018\n",
      "Epoch 84/100\n",
      "37/37 [==============================] - 2s 58ms/step - loss: 0.0017\n",
      "Epoch 85/100\n",
      "37/37 [==============================] - 2s 60ms/step - loss: 0.0017\n",
      "Epoch 86/100\n",
      "37/37 [==============================] - 2s 58ms/step - loss: 0.0015\n",
      "Epoch 87/100\n",
      "37/37 [==============================] - 2s 59ms/step - loss: 0.0017\n",
      "Epoch 88/100\n",
      "37/37 [==============================] - 2s 59ms/step - loss: 0.0015\n",
      "Epoch 89/100\n",
      "37/37 [==============================] - 2s 60ms/step - loss: 0.0025\n",
      "Epoch 90/100\n",
      "37/37 [==============================] - 2s 60ms/step - loss: 0.0017\n",
      "Epoch 91/100\n",
      "37/37 [==============================] - 2s 60ms/step - loss: 0.0018\n",
      "Epoch 92/100\n",
      "37/37 [==============================] - 2s 59ms/step - loss: 0.0015\n",
      "Epoch 93/100\n",
      "37/37 [==============================] - 2s 59ms/step - loss: 0.0024\n",
      "Epoch 94/100\n",
      "37/37 [==============================] - 2s 61ms/step - loss: 0.0019\n",
      "Epoch 95/100\n",
      "37/37 [==============================] - 2s 65ms/step - loss: 0.0017\n",
      "Epoch 96/100\n",
      "37/37 [==============================] - 2s 60ms/step - loss: 0.0025\n",
      "Epoch 97/100\n",
      "37/37 [==============================] - 2s 60ms/step - loss: 0.0016\n",
      "Epoch 98/100\n",
      "37/37 [==============================] - 2s 60ms/step - loss: 0.0013\n",
      "Epoch 99/100\n",
      "37/37 [==============================] - 2s 60ms/step - loss: 0.0017\n",
      "Epoch 100/100\n",
      "37/37 [==============================] - 2s 60ms/step - loss: 0.0026\n"
     ]
    },
    {
     "data": {
      "text/plain": [
       "<keras.callbacks.History at 0x7f47b327a710>"
      ]
     },
     "execution_count": 37,
     "metadata": {},
     "output_type": "execute_result"
    }
   ],
   "source": [
    "model.fit_generator(train_tsGenerator60, epochs=100)"
   ]
  },
  {
   "cell_type": "markdown",
   "id": "00bd68d2",
   "metadata": {},
   "source": [
    "### Visualize model"
   ]
  },
  {
   "cell_type": "code",
   "execution_count": 38,
   "id": "140c3e1c",
   "metadata": {},
   "outputs": [
    {
     "data": {
      "text/plain": [
       "dict_keys(['loss'])"
      ]
     },
     "execution_count": 38,
     "metadata": {},
     "output_type": "execute_result"
    }
   ],
   "source": [
    "loss_history_keys = model.history.history.keys()\n",
    "loss_history_keys"
   ]
  },
  {
   "cell_type": "code",
   "execution_count": 39,
   "id": "7b555ad4",
   "metadata": {},
   "outputs": [
    {
     "data": {
      "text/plain": [
       "<AxesSubplot:>"
      ]
     },
     "execution_count": 39,
     "metadata": {},
     "output_type": "execute_result"
    },
    {
     "data": {
      "image/png": "[encoded data removed]",
      "text/plain": [
       "<Figure size 640x480 with 1 Axes>"
      ]
     },
     "metadata": {},
     "output_type": "display_data"
    }
   ],
   "source": [
    "df_model_loss = pd.DataFrame(model.history.history)\n",
    "df_model_loss.plot()"
   ]
  },
  {
   "cell_type": "markdown",
   "id": "647b962c",
   "metadata": {},
   "source": [
    "### Prediction for testing: Using TimeSeriesGenerator"
   ]
  },
  {
   "cell_type": "code",
   "execution_count": 40,
   "id": "f244d8f8",
   "metadata": {},
   "outputs": [],
   "source": [
    "batch_size1 = 1"
   ]
  },
  {
   "cell_type": "code",
   "execution_count": 41,
   "id": "3ff61969",
   "metadata": {},
   "outputs": [],
   "source": [
    "test_tsGenerator60 = TimeseriesGenerator(normalized_test, normalized_test, length=length60, batch_size=batch_size1)"
   ]
  },
  {
   "cell_type": "markdown",
   "id": "77b1dfed",
   "metadata": {},
   "source": [
    "### Predict Future Data Points for Testing"
   ]
  },
  {
   "cell_type": "code",
   "execution_count": 42,
   "id": "1743ea78",
   "metadata": {},
   "outputs": [
    {
     "name": "stdout",
     "output_type": "stream",
     "text": [
      "138/138 [==============================] - 2s 8ms/step\n"
     ]
    }
   ],
   "source": [
    "normalized_prediction = model.predict(test_tsGenerator60)"
   ]
  },
  {
   "cell_type": "code",
   "execution_count": 43,
   "id": "867d517b",
   "metadata": {},
   "outputs": [
    {
     "data": {
      "text/plain": [
       "array([[0.89014447],\n",
       "       [0.8936646 ],\n",
       "       [0.89735   ],\n",
       "       [0.9009193 ],\n",
       "       [0.90457755],\n",
       "       [0.90804696],\n",
       "       [0.91111517],\n",
       "       [0.91382957],\n",
       "       [0.9159767 ],\n",
       "       [0.9175633 ],\n",
       "       [0.9185052 ],\n",
       "       [0.9194742 ],\n",
       "       [0.92029434],\n",
       "       [0.9203805 ],\n",
       "       [0.9198557 ],\n",
       "       [0.91991574],\n",
       "       [0.92046535],\n",
       "       [0.92224455],\n",
       "       [0.92503905],\n",
       "       [0.9287637 ],\n",
       "       [0.9335181 ],\n",
       "       [0.9391033 ],\n",
       "       [0.94530815],\n",
       "       [0.95140815],\n",
       "       [0.95740765],\n",
       "       [0.9634169 ],\n",
       "       [0.9700109 ],\n",
       "       [0.97704405],\n",
       "       [0.98420453],\n",
       "       [0.9912012 ],\n",
       "       [0.9971514 ],\n",
       "       [1.0007228 ],\n",
       "       [1.0029474 ],\n",
       "       [1.0044886 ],\n",
       "       [1.0055645 ],\n",
       "       [1.0055771 ],\n",
       "       [1.006408  ],\n",
       "       [1.0069358 ],\n",
       "       [1.0071454 ],\n",
       "       [1.0080098 ],\n",
       "       [1.0095862 ],\n",
       "       [1.0124304 ],\n",
       "       [1.0162355 ],\n",
       "       [1.0208511 ],\n",
       "       [1.0257831 ],\n",
       "       [1.0308268 ],\n",
       "       [1.0356913 ],\n",
       "       [1.0403882 ],\n",
       "       [1.0444862 ],\n",
       "       [1.0466534 ],\n",
       "       [1.0439166 ],\n",
       "       [1.0356516 ],\n",
       "       [1.02415   ],\n",
       "       [1.0078323 ],\n",
       "       [0.9899855 ],\n",
       "       [0.9748974 ],\n",
       "       [0.9617713 ],\n",
       "       [0.9523438 ],\n",
       "       [0.94396836],\n",
       "       [0.93532616],\n",
       "       [0.92274076],\n",
       "       [0.909961  ],\n",
       "       [0.8954825 ],\n",
       "       [0.8760615 ],\n",
       "       [0.8574255 ],\n",
       "       [0.8359225 ],\n",
       "       [0.8139218 ],\n",
       "       [0.7920665 ],\n",
       "       [0.77223843],\n",
       "       [0.7536312 ],\n",
       "       [0.7359275 ],\n",
       "       [0.72217214],\n",
       "       [0.71198815],\n",
       "       [0.70679796],\n",
       "       [0.7045143 ],\n",
       "       [0.7053659 ],\n",
       "       [0.708793  ],\n",
       "       [0.7110143 ],\n",
       "       [0.71247417],\n",
       "       [0.7122001 ],\n",
       "       [0.71367913],\n",
       "       [0.71745086],\n",
       "       [0.72375053],\n",
       "       [0.7317122 ],\n",
       "       [0.74058163],\n",
       "       [0.751432  ],\n",
       "       [0.7630678 ],\n",
       "       [0.7745751 ],\n",
       "       [0.7860269 ],\n",
       "       [0.7962304 ],\n",
       "       [0.802151  ],\n",
       "       [0.80685496],\n",
       "       [0.8115991 ],\n",
       "       [0.8166098 ],\n",
       "       [0.82158333],\n",
       "       [0.8242485 ],\n",
       "       [0.82891357],\n",
       "       [0.8360712 ],\n",
       "       [0.8436747 ],\n",
       "       [0.85121197],\n",
       "       [0.8591803 ],\n",
       "       [0.86692166],\n",
       "       [0.875089  ],\n",
       "       [0.883838  ],\n",
       "       [0.89316976],\n",
       "       [0.90121585],\n",
       "       [0.90712637],\n",
       "       [0.91165304],\n",
       "       [0.9155835 ],\n",
       "       [0.91941947],\n",
       "       [0.9229126 ],\n",
       "       [0.92689395],\n",
       "       [0.9312024 ],\n",
       "       [0.93582237],\n",
       "       [0.9406953 ],\n",
       "       [0.94562334],\n",
       "       [0.95037895],\n",
       "       [0.95510787],\n",
       "       [0.9597673 ],\n",
       "       [0.9644141 ],\n",
       "       [0.96885836],\n",
       "       [0.97213125],\n",
       "       [0.9751485 ],\n",
       "       [0.9782287 ],\n",
       "       [0.98159885],\n",
       "       [0.98539084],\n",
       "       [0.987146  ],\n",
       "       [0.9873791 ],\n",
       "       [0.98682266],\n",
       "       [0.9866832 ],\n",
       "       [0.9873625 ],\n",
       "       [0.9882858 ],\n",
       "       [0.98911864],\n",
       "       [0.9904394 ],\n",
       "       [0.9924863 ],\n",
       "       [0.99401957],\n",
       "       [0.99522644],\n",
       "       [0.99232125]], dtype=float32)"
      ]
     },
     "execution_count": 43,
     "metadata": {},
     "output_type": "execute_result"
    }
   ],
   "source": [
    "normalized_prediction"
   ]
  },
  {
   "cell_type": "code",
   "execution_count": 44,
   "id": "aa71eeb9",
   "metadata": {},
   "outputs": [
    {
     "data": {
      "text/plain": [
       "138"
      ]
     },
     "execution_count": 44,
     "metadata": {},
     "output_type": "execute_result"
    }
   ],
   "source": [
    "len(normalized_prediction)"
   ]
  },
  {
   "cell_type": "code",
   "execution_count": 45,
   "id": "8849e5a8",
   "metadata": {},
   "outputs": [],
   "source": [
    "prediction = scaler.inverse_transform(normalized_prediction)"
   ]
  },
  {
   "cell_type": "code",
   "execution_count": 46,
   "id": "f3413368",
   "metadata": {},
   "outputs": [],
   "source": [
    "prediction_index = np.arange(1244, 1382, step=1)\n",
    "df_prediction = pd.DataFrame(data=prediction,index=prediction_index,columns=['Prediction'])"
   ]
  },
  {
   "cell_type": "code",
   "execution_count": 47,
   "id": "59246ce2",
   "metadata": {},
   "outputs": [
    {
     "data": {
      "text/html": [
       "<div>\n",
       "<style scoped>\n",
       "    .dataframe tbody tr th:only-of-type {\n",
       "        vertical-align: middle;\n",
       "    }\n",
       "\n",
       "    .dataframe tbody tr th {\n",
       "        vertical-align: top;\n",
       "    }\n",
       "\n",
       "    .dataframe thead th {\n",
       "        text-align: right;\n",
       "    }\n",
       "</style>\n",
       "<table border=\"1\" class=\"dataframe\">\n",
       "  <thead>\n",
       "    <tr style=\"text-align: right;\">\n",
       "      <th></th>\n",
       "      <th>Prediction</th>\n",
       "    </tr>\n",
       "  </thead>\n",
       "  <tbody>\n",
       "    <tr>\n",
       "      <th>1244</th>\n",
       "      <td>62.545143</td>\n",
       "    </tr>\n",
       "    <tr>\n",
       "      <th>1245</th>\n",
       "      <td>62.695358</td>\n",
       "    </tr>\n",
       "    <tr>\n",
       "      <th>1246</th>\n",
       "      <td>62.852627</td>\n",
       "    </tr>\n",
       "    <tr>\n",
       "      <th>1247</th>\n",
       "      <td>63.004936</td>\n",
       "    </tr>\n",
       "    <tr>\n",
       "      <th>1248</th>\n",
       "      <td>63.161049</td>\n",
       "    </tr>\n",
       "    <tr>\n",
       "      <th>...</th>\n",
       "      <td>...</td>\n",
       "    </tr>\n",
       "    <tr>\n",
       "      <th>1377</th>\n",
       "      <td>66.825020</td>\n",
       "    </tr>\n",
       "    <tr>\n",
       "      <th>1378</th>\n",
       "      <td>66.912369</td>\n",
       "    </tr>\n",
       "    <tr>\n",
       "      <th>1379</th>\n",
       "      <td>66.977798</td>\n",
       "    </tr>\n",
       "    <tr>\n",
       "      <th>1380</th>\n",
       "      <td>67.029305</td>\n",
       "    </tr>\n",
       "    <tr>\n",
       "      <th>1381</th>\n",
       "      <td>66.905327</td>\n",
       "    </tr>\n",
       "  </tbody>\n",
       "</table>\n",
       "<p>138 rows × 1 columns</p>\n",
       "</div>"
      ],
      "text/plain": [
       "      Prediction\n",
       "1244   62.545143\n",
       "1245   62.695358\n",
       "1246   62.852627\n",
       "1247   63.004936\n",
       "1248   63.161049\n",
       "...          ...\n",
       "1377   66.825020\n",
       "1378   66.912369\n",
       "1379   66.977798\n",
       "1380   67.029305\n",
       "1381   66.905327\n",
       "\n",
       "[138 rows x 1 columns]"
      ]
     },
     "execution_count": 47,
     "metadata": {},
     "output_type": "execute_result"
    }
   ],
   "source": [
    "df_prediction"
   ]
  },
  {
   "cell_type": "markdown",
   "id": "e30d6db7",
   "metadata": {},
   "source": [
    "### Visualize Prediction"
   ]
  },
  {
   "cell_type": "code",
   "execution_count": 48,
   "id": "709294e4",
   "metadata": {},
   "outputs": [
    {
     "data": {
      "text/plain": [
       "<AxesSubplot:>"
      ]
     },
     "execution_count": 48,
     "metadata": {},
     "output_type": "execute_result"
    },
    {
     "data": {
      "image/png": "[encoded data removed]",
      "text/plain": [
       "<Figure size 800x1200 with 1 Axes>"
      ]
     },
     "metadata": {},
     "output_type": "display_data"
    }
   ],
   "source": [
    "ax = data_train.plot()\n",
    "df_prediction.plot(ax=ax, figsize=(8,12))"
   ]
  },
  {
   "cell_type": "markdown",
   "id": "4b6206bd",
   "metadata": {},
   "source": [
    "### visualize prediction and compare actual close price"
   ]
  },
  {
   "cell_type": "code",
   "execution_count": 49,
   "id": "d2a82ccc",
   "metadata": {},
   "outputs": [
    {
     "data": {
      "text/plain": [
       "<AxesSubplot:>"
      ]
     },
     "execution_count": 49,
     "metadata": {},
     "output_type": "execute_result"
    },
    {
     "data": {
      "image/png": "[encoded data removed]",
      "text/plain": [
       "<Figure size 800x1200 with 1 Axes>"
      ]
     },
     "metadata": {},
     "output_type": "display_data"
    }
   ],
   "source": [
    "ax=df.plot()\n",
    "df_prediction.plot(ax=ax, figsize=(8,12))"
   ]
  },
  {
   "cell_type": "markdown",
   "id": "7989eeb5",
   "metadata": {},
   "source": [
    "### Time series data Forecasting with LSTM"
   ]
  },
  {
   "cell_type": "code",
   "execution_count": 50,
   "id": "d8b852f6",
   "metadata": {},
   "outputs": [],
   "source": [
    "full_scaler=MinMaxScaler()\n",
    "normalized_full_data = full_scaler.fit_transform(df)"
   ]
  },
  {
   "cell_type": "code",
   "execution_count": 51,
   "id": "5b4cee62",
   "metadata": {},
   "outputs": [
    {
     "data": {
      "text/plain": [
       "60"
      ]
     },
     "execution_count": 51,
     "metadata": {},
     "output_type": "execute_result"
    }
   ],
   "source": [
    "length60"
   ]
  },
  {
   "cell_type": "code",
   "execution_count": 52,
   "id": "b3691372",
   "metadata": {},
   "outputs": [],
   "source": [
    "forecast_tsGenerator = TimeseriesGenerator(normalized_full_data, normalized_full_data, length=length60, batch_size=batch_size32)"
   ]
  },
  {
   "cell_type": "markdown",
   "id": "79255a7f",
   "metadata": {},
   "source": [
    "### Build, Compile, and Fit LSTM Model for Forecasting"
   ]
  },
  {
   "cell_type": "code",
   "execution_count": 53,
   "id": "8a0260ca",
   "metadata": {},
   "outputs": [
    {
     "name": "stdout",
     "output_type": "stream",
     "text": [
      "Epoch 1/100\n",
      " 2/42 [>.............................] - ETA: 2s - loss: 0.0037    "
     ]
    },
    {
     "name": "stderr",
     "output_type": "stream",
     "text": [
      "/opt/conda/lib/python3.7/site-packages/ipykernel_launcher.py:1: UserWarning: `Model.fit_generator` is deprecated and will be removed in a future version. Please use `Model.fit`, which supports generators.\n",
      "  \"\"\"Entry point for launching an IPython kernel.\n"
     ]
    },
    {
     "name": "stdout",
     "output_type": "stream",
     "text": [
      "42/42 [==============================] - 3s 61ms/step - loss: 0.0015\n",
      "Epoch 2/100\n",
      "42/42 [==============================] - 2s 59ms/step - loss: 0.0020\n",
      "Epoch 3/100\n",
      "42/42 [==============================] - 2s 59ms/step - loss: 0.0012\n",
      "Epoch 4/100\n",
      "42/42 [==============================] - 3s 60ms/step - loss: 0.0013\n",
      "Epoch 5/100\n",
      "42/42 [==============================] - 3s 60ms/step - loss: 0.0014\n",
      "Epoch 6/100\n",
      "42/42 [==============================] - 3s 60ms/step - loss: 0.0014\n",
      "Epoch 7/100\n",
      "42/42 [==============================] - 3s 60ms/step - loss: 0.0016\n",
      "Epoch 8/100\n",
      "42/42 [==============================] - 3s 60ms/step - loss: 0.0011\n",
      "Epoch 9/100\n",
      "42/42 [==============================] - 3s 61ms/step - loss: 0.0012\n",
      "Epoch 10/100\n",
      "42/42 [==============================] - 2s 59ms/step - loss: 0.0012\n",
      "Epoch 11/100\n",
      "42/42 [==============================] - 2s 59ms/step - loss: 0.0011\n",
      "Epoch 12/100\n",
      "42/42 [==============================] - 3s 61ms/step - loss: 0.0013\n",
      "Epoch 13/100\n",
      "42/42 [==============================] - 2s 59ms/step - loss: 0.0016\n",
      "Epoch 14/100\n",
      "42/42 [==============================] - 3s 60ms/step - loss: 0.0014\n",
      "Epoch 15/100\n",
      "42/42 [==============================] - 3s 60ms/step - loss: 0.0017\n",
      "Epoch 16/100\n",
      "42/42 [==============================] - 2s 59ms/step - loss: 0.0014\n",
      "Epoch 17/100\n",
      "42/42 [==============================] - 3s 65ms/step - loss: 0.0012\n",
      "Epoch 18/100\n",
      "42/42 [==============================] - 3s 60ms/step - loss: 0.0011\n",
      "Epoch 19/100\n",
      "42/42 [==============================] - 3s 60ms/step - loss: 0.0011\n",
      "Epoch 20/100\n",
      "42/42 [==============================] - 3s 60ms/step - loss: 0.0012\n",
      "Epoch 21/100\n",
      "42/42 [==============================] - 3s 59ms/step - loss: 0.0012\n",
      "Epoch 22/100\n",
      "42/42 [==============================] - 3s 59ms/step - loss: 0.0011\n",
      "Epoch 23/100\n",
      "42/42 [==============================] - 3s 60ms/step - loss: 0.0015\n",
      "Epoch 24/100\n",
      "42/42 [==============================] - 3s 60ms/step - loss: 0.0012\n",
      "Epoch 25/100\n",
      "42/42 [==============================] - 3s 61ms/step - loss: 0.0015\n",
      "Epoch 26/100\n",
      "42/42 [==============================] - 3s 60ms/step - loss: 0.0012\n",
      "Epoch 27/100\n",
      "42/42 [==============================] - 3s 59ms/step - loss: 0.0012\n",
      "Epoch 28/100\n",
      "42/42 [==============================] - 3s 61ms/step - loss: 0.0015\n",
      "Epoch 29/100\n",
      "42/42 [==============================] - 3s 61ms/step - loss: 0.0016\n",
      "Epoch 30/100\n",
      "42/42 [==============================] - 3s 61ms/step - loss: 0.0014\n",
      "Epoch 31/100\n",
      "42/42 [==============================] - 2s 59ms/step - loss: 0.0013\n",
      "Epoch 32/100\n",
      "42/42 [==============================] - 3s 60ms/step - loss: 0.0011\n",
      "Epoch 33/100\n",
      "42/42 [==============================] - 2s 59ms/step - loss: 0.0012\n",
      "Epoch 34/100\n",
      "42/42 [==============================] - 2s 59ms/step - loss: 0.0011\n",
      "Epoch 35/100\n",
      "42/42 [==============================] - 3s 60ms/step - loss: 0.0011\n",
      "Epoch 36/100\n",
      "42/42 [==============================] - 3s 59ms/step - loss: 0.0012\n",
      "Epoch 37/100\n",
      "42/42 [==============================] - 3s 60ms/step - loss: 0.0015\n",
      "Epoch 38/100\n",
      "42/42 [==============================] - 3s 59ms/step - loss: 0.0017\n",
      "Epoch 39/100\n",
      "42/42 [==============================] - 2s 59ms/step - loss: 0.0012\n",
      "Epoch 40/100\n",
      "42/42 [==============================] - 3s 62ms/step - loss: 0.0011\n",
      "Epoch 41/100\n",
      "42/42 [==============================] - 3s 65ms/step - loss: 0.0011\n",
      "Epoch 42/100\n",
      "42/42 [==============================] - 3s 60ms/step - loss: 0.0017\n",
      "Epoch 43/100\n",
      "42/42 [==============================] - 3s 59ms/step - loss: 0.0015\n",
      "Epoch 44/100\n",
      "42/42 [==============================] - 2s 59ms/step - loss: 0.0014\n",
      "Epoch 45/100\n",
      "42/42 [==============================] - 3s 60ms/step - loss: 9.8896e-04\n",
      "Epoch 46/100\n",
      "42/42 [==============================] - 3s 59ms/step - loss: 0.0010\n",
      "Epoch 47/100\n",
      "42/42 [==============================] - 3s 60ms/step - loss: 0.0010\n",
      "Epoch 48/100\n",
      "42/42 [==============================] - 2s 59ms/step - loss: 0.0015\n",
      "Epoch 49/100\n",
      "42/42 [==============================] - 3s 60ms/step - loss: 0.0015\n",
      "Epoch 50/100\n",
      "42/42 [==============================] - 3s 60ms/step - loss: 0.0013\n",
      "Epoch 51/100\n",
      "42/42 [==============================] - 2s 58ms/step - loss: 9.8109e-04\n",
      "Epoch 52/100\n",
      "42/42 [==============================] - 3s 60ms/step - loss: 0.0011\n",
      "Epoch 53/100\n",
      "42/42 [==============================] - 3s 59ms/step - loss: 0.0011\n",
      "Epoch 54/100\n",
      "42/42 [==============================] - 3s 61ms/step - loss: 0.0010\n",
      "Epoch 55/100\n",
      "42/42 [==============================] - 3s 61ms/step - loss: 0.0015\n",
      "Epoch 56/100\n",
      "42/42 [==============================] - 3s 61ms/step - loss: 0.0011\n",
      "Epoch 57/100\n",
      "42/42 [==============================] - 3s 59ms/step - loss: 0.0013\n",
      "Epoch 58/100\n",
      "42/42 [==============================] - 3s 60ms/step - loss: 0.0013\n",
      "Epoch 59/100\n",
      "42/42 [==============================] - 2s 59ms/step - loss: 8.3636e-04\n",
      "Epoch 60/100\n",
      "42/42 [==============================] - 3s 60ms/step - loss: 9.4154e-04\n",
      "Epoch 61/100\n",
      "42/42 [==============================] - 3s 61ms/step - loss: 9.5382e-04\n",
      "Epoch 62/100\n",
      "42/42 [==============================] - 3s 60ms/step - loss: 0.0014\n",
      "Epoch 63/100\n",
      "42/42 [==============================] - 3s 65ms/step - loss: 0.0013\n",
      "Epoch 64/100\n",
      "42/42 [==============================] - 3s 61ms/step - loss: 0.0016\n",
      "Epoch 65/100\n",
      "42/42 [==============================] - 3s 60ms/step - loss: 9.8555e-04\n",
      "Epoch 66/100\n",
      "42/42 [==============================] - 2s 59ms/step - loss: 0.0010\n",
      "Epoch 67/100\n",
      "42/42 [==============================] - 3s 60ms/step - loss: 9.0742e-04\n",
      "Epoch 68/100\n",
      "42/42 [==============================] - 3s 61ms/step - loss: 0.0010\n",
      "Epoch 69/100\n",
      "42/42 [==============================] - 2s 59ms/step - loss: 0.0011\n",
      "Epoch 70/100\n",
      "42/42 [==============================] - 3s 60ms/step - loss: 0.0011\n",
      "Epoch 71/100\n",
      "42/42 [==============================] - 3s 60ms/step - loss: 0.0010\n",
      "Epoch 72/100\n",
      "42/42 [==============================] - 3s 62ms/step - loss: 9.5752e-04\n",
      "Epoch 73/100\n",
      "42/42 [==============================] - 3s 60ms/step - loss: 0.0013\n",
      "Epoch 74/100\n",
      "42/42 [==============================] - 3s 61ms/step - loss: 0.0011\n",
      "Epoch 75/100\n",
      "42/42 [==============================] - 3s 60ms/step - loss: 9.0750e-04\n",
      "Epoch 76/100\n",
      "42/42 [==============================] - 3s 60ms/step - loss: 7.8452e-04\n",
      "Epoch 77/100\n",
      "42/42 [==============================] - 3s 60ms/step - loss: 9.5253e-04\n",
      "Epoch 78/100\n",
      "42/42 [==============================] - 2s 59ms/step - loss: 0.0010\n",
      "Epoch 79/100\n",
      "42/42 [==============================] - 3s 60ms/step - loss: 0.0011\n",
      "Epoch 80/100\n",
      "42/42 [==============================] - 3s 60ms/step - loss: 8.5156e-04\n",
      "Epoch 81/100\n",
      "42/42 [==============================] - 2s 59ms/step - loss: 9.1679e-04\n",
      "Epoch 82/100\n",
      "42/42 [==============================] - 2s 59ms/step - loss: 9.7025e-04\n",
      "Epoch 83/100\n",
      "42/42 [==============================] - 3s 60ms/step - loss: 7.8501e-04\n",
      "Epoch 84/100\n",
      "42/42 [==============================] - 3s 59ms/step - loss: 0.0011\n",
      "Epoch 85/100\n",
      "42/42 [==============================] - 3s 60ms/step - loss: 0.0010\n",
      "Epoch 86/100\n",
      "42/42 [==============================] - 3s 62ms/step - loss: 8.5261e-04\n",
      "Epoch 87/100\n",
      "42/42 [==============================] - 3s 63ms/step - loss: 8.0665e-04\n",
      "Epoch 88/100\n",
      "42/42 [==============================] - 3s 60ms/step - loss: 9.9899e-04\n",
      "Epoch 89/100\n",
      "42/42 [==============================] - 3s 60ms/step - loss: 7.6917e-04\n",
      "Epoch 90/100\n",
      "42/42 [==============================] - 3s 60ms/step - loss: 8.3362e-04\n",
      "Epoch 91/100\n",
      "42/42 [==============================] - 3s 60ms/step - loss: 0.0017\n",
      "Epoch 92/100\n",
      "42/42 [==============================] - 3s 60ms/step - loss: 0.0017\n",
      "Epoch 93/100\n",
      "42/42 [==============================] - 3s 60ms/step - loss: 0.0012\n",
      "Epoch 94/100\n",
      "42/42 [==============================] - 3s 60ms/step - loss: 0.0024\n",
      "Epoch 95/100\n",
      "42/42 [==============================] - 3s 59ms/step - loss: 0.0010\n",
      "Epoch 96/100\n",
      "42/42 [==============================] - 3s 61ms/step - loss: 0.0012\n",
      "Epoch 97/100\n",
      "42/42 [==============================] - 3s 60ms/step - loss: 9.7683e-04\n",
      "Epoch 98/100\n",
      "42/42 [==============================] - 3s 60ms/step - loss: 8.9769e-04\n",
      "Epoch 99/100\n",
      "42/42 [==============================] - 2s 59ms/step - loss: 7.3983e-04\n",
      "Epoch 100/100\n",
      "42/42 [==============================] - 3s 59ms/step - loss: 7.8377e-04\n"
     ]
    },
    {
     "data": {
      "text/plain": [
       "<keras.callbacks.History at 0x7f4763f76b10>"
      ]
     },
     "execution_count": 53,
     "metadata": {},
     "output_type": "execute_result"
    }
   ],
   "source": [
    "model.fit_generator(forecast_tsGenerator, epochs=100)"
   ]
  },
  {
   "cell_type": "code",
   "execution_count": 54,
   "id": "997c24f8",
   "metadata": {},
   "outputs": [
    {
     "name": "stdout",
     "output_type": "stream",
     "text": [
      "1/1 [==============================] - 0s 386ms/step\n",
      "1/1 [==============================] - 0s 30ms/step\n",
      "1/1 [==============================] - 0s 26ms/step\n",
      "1/1 [==============================] - 0s 27ms/step\n",
      "1/1 [==============================] - 0s 28ms/step\n",
      "1/1 [==============================] - 0s 27ms/step\n",
      "1/1 [==============================] - 0s 27ms/step\n",
      "1/1 [==============================] - 0s 24ms/step\n",
      "1/1 [==============================] - 0s 24ms/step\n",
      "1/1 [==============================] - 0s 24ms/step\n",
      "1/1 [==============================] - 0s 26ms/step\n",
      "1/1 [==============================] - 0s 26ms/step\n",
      "1/1 [==============================] - 0s 25ms/step\n",
      "1/1 [==============================] - 0s 25ms/step\n",
      "1/1 [==============================] - 0s 24ms/step\n",
      "1/1 [==============================] - 0s 27ms/step\n",
      "1/1 [==============================] - 0s 26ms/step\n",
      "1/1 [==============================] - 0s 25ms/step\n",
      "1/1 [==============================] - 0s 25ms/step\n",
      "1/1 [==============================] - 0s 28ms/step\n",
      "1/1 [==============================] - 0s 25ms/step\n",
      "1/1 [==============================] - 0s 26ms/step\n",
      "1/1 [==============================] - 0s 24ms/step\n",
      "1/1 [==============================] - 0s 26ms/step\n",
      "1/1 [==============================] - 0s 28ms/step\n",
      "1/1 [==============================] - 0s 28ms/step\n",
      "1/1 [==============================] - 0s 25ms/step\n",
      "1/1 [==============================] - 0s 25ms/step\n",
      "1/1 [==============================] - 0s 25ms/step\n",
      "1/1 [==============================] - 0s 25ms/step\n",
      "1/1 [==============================] - 0s 25ms/step\n",
      "1/1 [==============================] - 0s 25ms/step\n",
      "1/1 [==============================] - 0s 24ms/step\n",
      "1/1 [==============================] - 0s 25ms/step\n",
      "1/1 [==============================] - 0s 25ms/step\n",
      "1/1 [==============================] - 0s 26ms/step\n",
      "1/1 [==============================] - 0s 28ms/step\n",
      "1/1 [==============================] - 0s 28ms/step\n",
      "1/1 [==============================] - 0s 27ms/step\n",
      "1/1 [==============================] - 0s 26ms/step\n",
      "1/1 [==============================] - 0s 26ms/step\n",
      "1/1 [==============================] - 0s 26ms/step\n",
      "1/1 [==============================] - 0s 24ms/step\n",
      "1/1 [==============================] - 0s 25ms/step\n",
      "1/1 [==============================] - 0s 24ms/step\n",
      "1/1 [==============================] - 0s 25ms/step\n",
      "1/1 [==============================] - 0s 26ms/step\n",
      "1/1 [==============================] - 0s 28ms/step\n",
      "1/1 [==============================] - 0s 25ms/step\n",
      "1/1 [==============================] - 0s 25ms/step\n",
      "1/1 [==============================] - 0s 25ms/step\n",
      "1/1 [==============================] - 0s 26ms/step\n",
      "1/1 [==============================] - 0s 25ms/step\n",
      "1/1 [==============================] - 0s 25ms/step\n",
      "1/1 [==============================] - 0s 25ms/step\n",
      "1/1 [==============================] - 0s 25ms/step\n",
      "1/1 [==============================] - 0s 26ms/step\n",
      "1/1 [==============================] - 0s 26ms/step\n",
      "1/1 [==============================] - 0s 25ms/step\n",
      "1/1 [==============================] - 0s 25ms/step\n",
      "1/1 [==============================] - 0s 25ms/step\n",
      "1/1 [==============================] - 0s 26ms/step\n",
      "1/1 [==============================] - 0s 26ms/step\n",
      "1/1 [==============================] - 0s 25ms/step\n",
      "1/1 [==============================] - 0s 26ms/step\n",
      "1/1 [==============================] - 0s 26ms/step\n",
      "1/1 [==============================] - 0s 26ms/step\n",
      "1/1 [==============================] - 0s 27ms/step\n",
      "1/1 [==============================] - 0s 28ms/step\n",
      "1/1 [==============================] - 0s 26ms/step\n",
      "1/1 [==============================] - 0s 28ms/step\n",
      "1/1 [==============================] - 0s 26ms/step\n",
      "1/1 [==============================] - 0s 25ms/step\n",
      "1/1 [==============================] - 0s 25ms/step\n",
      "1/1 [==============================] - 0s 28ms/step\n",
      "1/1 [==============================] - 0s 26ms/step\n",
      "1/1 [==============================] - 0s 25ms/step\n",
      "1/1 [==============================] - 0s 25ms/step\n",
      "1/1 [==============================] - 0s 27ms/step\n",
      "1/1 [==============================] - 0s 26ms/step\n",
      "1/1 [==============================] - 0s 26ms/step\n",
      "1/1 [==============================] - 0s 26ms/step\n",
      "1/1 [==============================] - 0s 24ms/step\n",
      "1/1 [==============================] - 0s 26ms/step\n",
      "1/1 [==============================] - 0s 25ms/step\n",
      "1/1 [==============================] - 0s 26ms/step\n",
      "1/1 [==============================] - 0s 25ms/step\n",
      "1/1 [==============================] - 0s 25ms/step\n",
      "1/1 [==============================] - 0s 27ms/step\n",
      "1/1 [==============================] - 0s 25ms/step\n",
      "1/1 [==============================] - 0s 27ms/step\n",
      "1/1 [==============================] - 0s 27ms/step\n",
      "1/1 [==============================] - 0s 25ms/step\n",
      "1/1 [==============================] - 0s 25ms/step\n",
      "1/1 [==============================] - 0s 26ms/step\n",
      "1/1 [==============================] - 0s 25ms/step\n",
      "1/1 [==============================] - 0s 26ms/step\n",
      "1/1 [==============================] - 0s 28ms/step\n",
      "1/1 [==============================] - 0s 27ms/step\n",
      "1/1 [==============================] - 0s 25ms/step\n",
      "1/1 [==============================] - 0s 25ms/step\n",
      "1/1 [==============================] - 0s 26ms/step\n",
      "1/1 [==============================] - 0s 25ms/step\n",
      "1/1 [==============================] - 0s 26ms/step\n",
      "1/1 [==============================] - 0s 25ms/step\n",
      "1/1 [==============================] - 0s 26ms/step\n"
     ]
    }
   ],
   "source": [
    "forecast = []\n",
    "periods = 106\n",
    "first_eval_batch = normalized_full_data[-length60:]\n",
    "current_batch = first_eval_batch.reshape((1,length60,n_features))\n",
    "for i in range(periods):\n",
    "    current_pred = model.predict(current_batch)[0]\n",
    "    forecast.append(current_pred)\n",
    "    current_batch=np.append(current_batch[:,1:,:],[[current_pred]],axis=1)"
   ]
  },
  {
   "cell_type": "code",
   "execution_count": 55,
   "id": "db8e1089",
   "metadata": {},
   "outputs": [
    {
     "data": {
      "text/plain": [
       "array([[67.42091325],\n",
       "       [66.43261664],\n",
       "       [65.50650595],\n",
       "       [64.67712891],\n",
       "       [63.9457477 ],\n",
       "       [63.29568867],\n",
       "       [62.70473573],\n",
       "       [62.15363227],\n",
       "       [61.62634036],\n",
       "       [61.11372545],\n",
       "       [60.61527527],\n",
       "       [60.13304199],\n",
       "       [59.66942037],\n",
       "       [59.22627124],\n",
       "       [58.80486296],\n",
       "       [58.4055998 ],\n",
       "       [58.0274572 ],\n",
       "       [57.66860516],\n",
       "       [57.32675387],\n",
       "       [56.99952713],\n",
       "       [56.68463203],\n",
       "       [56.38032189],\n",
       "       [56.08543022],\n",
       "       [55.798593  ],\n",
       "       [55.51850486],\n",
       "       [55.24415049],\n",
       "       [54.97529538],\n",
       "       [54.71149821],\n",
       "       [54.45245039],\n",
       "       [54.19794515],\n",
       "       [53.94779735],\n",
       "       [53.70183415],\n",
       "       [53.46020679],\n",
       "       [53.22285044],\n",
       "       [52.98965401],\n",
       "       [52.76126557],\n",
       "       [52.53749995],\n",
       "       [52.31813496],\n",
       "       [52.10293298],\n",
       "       [51.89168725],\n",
       "       [51.68415397],\n",
       "       [51.47994123],\n",
       "       [51.27871573],\n",
       "       [51.08039724],\n",
       "       [50.88500427],\n",
       "       [50.69253683],\n",
       "       [50.50296714],\n",
       "       [50.31622268],\n",
       "       [50.13259507],\n",
       "       [49.9520797 ],\n",
       "       [49.77460403],\n",
       "       [49.60201966],\n",
       "       [49.43478796],\n",
       "       [49.27295521],\n",
       "       [49.11643037],\n",
       "       [48.96499743],\n",
       "       [48.81837864],\n",
       "       [48.67622992],\n",
       "       [48.53832907],\n",
       "       [48.40456191],\n",
       "       [48.27455041],\n",
       "       [48.14803844],\n",
       "       [48.02539013],\n",
       "       [47.9062506 ],\n",
       "       [47.7902773 ],\n",
       "       [47.67718941],\n",
       "       [47.56676936],\n",
       "       [47.45881348],\n",
       "       [47.35321993],\n",
       "       [47.250896  ],\n",
       "       [47.1519142 ],\n",
       "       [47.05622515],\n",
       "       [46.96373938],\n",
       "       [46.87438126],\n",
       "       [46.78805204],\n",
       "       [46.70458046],\n",
       "       [46.62378135],\n",
       "       [46.54546184],\n",
       "       [46.46944448],\n",
       "       [46.39557035],\n",
       "       [46.3237839 ],\n",
       "       [46.25415918],\n",
       "       [46.18673941],\n",
       "       [46.12152922],\n",
       "       [46.05844527],\n",
       "       [45.99737494],\n",
       "       [45.9382025 ],\n",
       "       [45.88083691],\n",
       "       [45.8252041 ],\n",
       "       [45.77124236],\n",
       "       [45.71891157],\n",
       "       [45.66816699],\n",
       "       [45.6189762 ],\n",
       "       [45.57128675],\n",
       "       [45.52506932],\n",
       "       [45.48027917],\n",
       "       [45.43685765],\n",
       "       [45.39476928],\n",
       "       [45.35395698],\n",
       "       [45.31438216],\n",
       "       [45.2759939 ],\n",
       "       [45.23875363],\n",
       "       [45.2026089 ],\n",
       "       [45.16753346],\n",
       "       [45.1334872 ],\n",
       "       [45.10043155]])"
      ]
     },
     "execution_count": 55,
     "metadata": {},
     "output_type": "execute_result"
    }
   ],
   "source": [
    "forecast = full_scaler.inverse_transform(forecast)\n",
    "forecast"
   ]
  },
  {
   "cell_type": "code",
   "execution_count": 56,
   "id": "91041802",
   "metadata": {},
   "outputs": [
    {
     "data": {
      "text/html": [
       "<div>\n",
       "<style scoped>\n",
       "    .dataframe tbody tr th:only-of-type {\n",
       "        vertical-align: middle;\n",
       "    }\n",
       "\n",
       "    .dataframe tbody tr th {\n",
       "        vertical-align: top;\n",
       "    }\n",
       "\n",
       "    .dataframe thead th {\n",
       "        text-align: right;\n",
       "    }\n",
       "</style>\n",
       "<table border=\"1\" class=\"dataframe\">\n",
       "  <thead>\n",
       "    <tr style=\"text-align: right;\">\n",
       "      <th></th>\n",
       "      <th>Close</th>\n",
       "    </tr>\n",
       "  </thead>\n",
       "  <tbody>\n",
       "    <tr>\n",
       "      <th>0</th>\n",
       "      <td>26.168653</td>\n",
       "    </tr>\n",
       "    <tr>\n",
       "      <th>1</th>\n",
       "      <td>25.623152</td>\n",
       "    </tr>\n",
       "    <tr>\n",
       "      <th>2</th>\n",
       "      <td>25.029282</td>\n",
       "    </tr>\n",
       "    <tr>\n",
       "      <th>3</th>\n",
       "      <td>24.986401</td>\n",
       "    </tr>\n",
       "    <tr>\n",
       "      <th>4</th>\n",
       "      <td>25.065184</td>\n",
       "    </tr>\n",
       "    <tr>\n",
       "      <th>...</th>\n",
       "      <td>...</td>\n",
       "    </tr>\n",
       "    <tr>\n",
       "      <th>1377</th>\n",
       "      <td>73.220497</td>\n",
       "    </tr>\n",
       "    <tr>\n",
       "      <th>1378</th>\n",
       "      <td>71.598503</td>\n",
       "    </tr>\n",
       "    <tr>\n",
       "      <th>1379</th>\n",
       "      <td>72.066498</td>\n",
       "    </tr>\n",
       "    <tr>\n",
       "      <th>1380</th>\n",
       "      <td>67.995003</td>\n",
       "    </tr>\n",
       "    <tr>\n",
       "      <th>1381</th>\n",
       "      <td>69.748497</td>\n",
       "    </tr>\n",
       "  </tbody>\n",
       "</table>\n",
       "<p>1382 rows × 1 columns</p>\n",
       "</div>"
      ],
      "text/plain": [
       "          Close\n",
       "0     26.168653\n",
       "1     25.623152\n",
       "2     25.029282\n",
       "3     24.986401\n",
       "4     25.065184\n",
       "...         ...\n",
       "1377  73.220497\n",
       "1378  71.598503\n",
       "1379  72.066498\n",
       "1380  67.995003\n",
       "1381  69.748497\n",
       "\n",
       "[1382 rows x 1 columns]"
      ]
     },
     "execution_count": 56,
     "metadata": {},
     "output_type": "execute_result"
    }
   ],
   "source": [
    "df"
   ]
  },
  {
   "cell_type": "code",
   "execution_count": 57,
   "id": "35c5effd",
   "metadata": {},
   "outputs": [],
   "source": [
    "forecast_index=np.arange(1382,1488,step=1)\n"
   ]
  },
  {
   "cell_type": "code",
   "execution_count": 58,
   "id": "55369b1e",
   "metadata": {},
   "outputs": [],
   "source": [
    "forecast_df = pd.DataFrame(data=forecast,index=forecast_index,columns=['Forecast'])"
   ]
  },
  {
   "cell_type": "code",
   "execution_count": 59,
   "id": "aea95612",
   "metadata": {},
   "outputs": [
    {
     "data": {
      "text/html": [
       "<div>\n",
       "<style scoped>\n",
       "    .dataframe tbody tr th:only-of-type {\n",
       "        vertical-align: middle;\n",
       "    }\n",
       "\n",
       "    .dataframe tbody tr th {\n",
       "        vertical-align: top;\n",
       "    }\n",
       "\n",
       "    .dataframe thead th {\n",
       "        text-align: right;\n",
       "    }\n",
       "</style>\n",
       "<table border=\"1\" class=\"dataframe\">\n",
       "  <thead>\n",
       "    <tr style=\"text-align: right;\">\n",
       "      <th></th>\n",
       "      <th>Forecast</th>\n",
       "    </tr>\n",
       "  </thead>\n",
       "  <tbody>\n",
       "    <tr>\n",
       "      <th>1382</th>\n",
       "      <td>67.420913</td>\n",
       "    </tr>\n",
       "    <tr>\n",
       "      <th>1383</th>\n",
       "      <td>66.432617</td>\n",
       "    </tr>\n",
       "    <tr>\n",
       "      <th>1384</th>\n",
       "      <td>65.506506</td>\n",
       "    </tr>\n",
       "    <tr>\n",
       "      <th>1385</th>\n",
       "      <td>64.677129</td>\n",
       "    </tr>\n",
       "    <tr>\n",
       "      <th>1386</th>\n",
       "      <td>63.945748</td>\n",
       "    </tr>\n",
       "    <tr>\n",
       "      <th>...</th>\n",
       "      <td>...</td>\n",
       "    </tr>\n",
       "    <tr>\n",
       "      <th>1483</th>\n",
       "      <td>45.238754</td>\n",
       "    </tr>\n",
       "    <tr>\n",
       "      <th>1484</th>\n",
       "      <td>45.202609</td>\n",
       "    </tr>\n",
       "    <tr>\n",
       "      <th>1485</th>\n",
       "      <td>45.167533</td>\n",
       "    </tr>\n",
       "    <tr>\n",
       "      <th>1486</th>\n",
       "      <td>45.133487</td>\n",
       "    </tr>\n",
       "    <tr>\n",
       "      <th>1487</th>\n",
       "      <td>45.100432</td>\n",
       "    </tr>\n",
       "  </tbody>\n",
       "</table>\n",
       "<p>106 rows × 1 columns</p>\n",
       "</div>"
      ],
      "text/plain": [
       "       Forecast\n",
       "1382  67.420913\n",
       "1383  66.432617\n",
       "1384  65.506506\n",
       "1385  64.677129\n",
       "1386  63.945748\n",
       "...         ...\n",
       "1483  45.238754\n",
       "1484  45.202609\n",
       "1485  45.167533\n",
       "1486  45.133487\n",
       "1487  45.100432\n",
       "\n",
       "[106 rows x 1 columns]"
      ]
     },
     "execution_count": 59,
     "metadata": {},
     "output_type": "execute_result"
    }
   ],
   "source": [
    "forecast_df"
   ]
  },
  {
   "cell_type": "code",
   "execution_count": 60,
   "id": "42a13f9f",
   "metadata": {},
   "outputs": [
    {
     "data": {
      "text/plain": [
       "<AxesSubplot:>"
      ]
     },
     "execution_count": 60,
     "metadata": {},
     "output_type": "execute_result"
    },
    {
     "data": {
      "image/png": "[encoded data removed]",
      "text/plain": [
       "<Figure size 640x480 with 1 Axes>"
      ]
     },
     "metadata": {},
     "output_type": "display_data"
    },
    {
     "data": {
      "image/png": "[encoded data removed]",
      "text/plain": [
       "<Figure size 640x480 with 1 Axes>"
      ]
     },
     "metadata": {},
     "output_type": "display_data"
    }
   ],
   "source": [
    "df.plot()\n",
    "forecast_df.plot()"
   ]
  },
  {
   "cell_type": "code",
   "execution_count": 61,
   "id": "d8276b7f",
   "metadata": {},
   "outputs": [
    {
     "data": {
      "text/plain": [
       "<AxesSubplot:>"
      ]
     },
     "execution_count": 61,
     "metadata": {},
     "output_type": "execute_result"
    },
    {
     "data": {
      "image/png": "[encoded data removed]",
      "text/plain": [
       "<Figure size 1200x800 with 1 Axes>"
      ]
     },
     "metadata": {},
     "output_type": "display_data"
    }
   ],
   "source": [
    "ax=df.plot()\n",
    "forecast_df.plot(ax=ax, figsize=(12,8))"
   ]
  },
  {
   "cell_type": "code",
   "execution_count": 62,
   "id": "541ebb4f",
   "metadata": {},
   "outputs": [],
   "source": [
    "dir_path_dataset_2 = 'GOOG_2.csv'"
   ]
  },
  {
   "cell_type": "code",
   "execution_count": 63,
   "id": "e8ae75e0",
   "metadata": {},
   "outputs": [],
   "source": [
    "df_ALL_JUL_DEC_2019 = pd.read_csv(dir_path_dataset_2)\n"
   ]
  },
  {
   "cell_type": "code",
   "execution_count": 64,
   "id": "b545d34c",
   "metadata": {},
   "outputs": [
    {
     "data": {
      "text/html": [
       "<div>\n",
       "<style scoped>\n",
       "    .dataframe tbody tr th:only-of-type {\n",
       "        vertical-align: middle;\n",
       "    }\n",
       "\n",
       "    .dataframe tbody tr th {\n",
       "        vertical-align: top;\n",
       "    }\n",
       "\n",
       "    .dataframe thead th {\n",
       "        text-align: right;\n",
       "    }\n",
       "</style>\n",
       "<table border=\"1\" class=\"dataframe\">\n",
       "  <thead>\n",
       "    <tr style=\"text-align: right;\">\n",
       "      <th></th>\n",
       "      <th>Date</th>\n",
       "      <th>Open</th>\n",
       "      <th>High</th>\n",
       "      <th>Low</th>\n",
       "      <th>Close</th>\n",
       "      <th>Adj Close</th>\n",
       "      <th>Volume</th>\n",
       "    </tr>\n",
       "  </thead>\n",
       "  <tbody>\n",
       "    <tr>\n",
       "      <th>0</th>\n",
       "      <td>2022-06-30</td>\n",
       "      <td>110.499496</td>\n",
       "      <td>111.329803</td>\n",
       "      <td>107.309998</td>\n",
       "      <td>109.372498</td>\n",
       "      <td>109.372498</td>\n",
       "      <td>38046000</td>\n",
       "    </tr>\n",
       "    <tr>\n",
       "      <th>1</th>\n",
       "      <td>2022-07-01</td>\n",
       "      <td>108.336998</td>\n",
       "      <td>109.806351</td>\n",
       "      <td>107.105003</td>\n",
       "      <td>109.081001</td>\n",
       "      <td>109.081001</td>\n",
       "      <td>31028000</td>\n",
       "    </tr>\n",
       "    <tr>\n",
       "      <th>2</th>\n",
       "      <td>2022-07-05</td>\n",
       "      <td>107.514503</td>\n",
       "      <td>114.052597</td>\n",
       "      <td>106.249496</td>\n",
       "      <td>113.887001</td>\n",
       "      <td>113.887001</td>\n",
       "      <td>36398000</td>\n",
       "    </tr>\n",
       "    <tr>\n",
       "      <th>3</th>\n",
       "      <td>2022-07-06</td>\n",
       "      <td>114.092003</td>\n",
       "      <td>116.351997</td>\n",
       "      <td>112.250504</td>\n",
       "      <td>115.213501</td>\n",
       "      <td>115.213501</td>\n",
       "      <td>28852000</td>\n",
       "    </tr>\n",
       "    <tr>\n",
       "      <th>4</th>\n",
       "      <td>2022-07-07</td>\n",
       "      <td>116.008003</td>\n",
       "      <td>119.862000</td>\n",
       "      <td>115.533997</td>\n",
       "      <td>119.306000</td>\n",
       "      <td>119.306000</td>\n",
       "      <td>32184000</td>\n",
       "    </tr>\n",
       "    <tr>\n",
       "      <th>...</th>\n",
       "      <td>...</td>\n",
       "      <td>...</td>\n",
       "      <td>...</td>\n",
       "      <td>...</td>\n",
       "      <td>...</td>\n",
       "      <td>...</td>\n",
       "      <td>...</td>\n",
       "    </tr>\n",
       "    <tr>\n",
       "      <th>101</th>\n",
       "      <td>2022-11-22</td>\n",
       "      <td>96.160004</td>\n",
       "      <td>97.547997</td>\n",
       "      <td>94.410004</td>\n",
       "      <td>97.330002</td>\n",
       "      <td>97.330002</td>\n",
       "      <td>18868900</td>\n",
       "    </tr>\n",
       "    <tr>\n",
       "      <th>102</th>\n",
       "      <td>2022-11-23</td>\n",
       "      <td>97.339996</td>\n",
       "      <td>99.069000</td>\n",
       "      <td>97.339996</td>\n",
       "      <td>98.820000</td>\n",
       "      <td>98.820000</td>\n",
       "      <td>17568900</td>\n",
       "    </tr>\n",
       "    <tr>\n",
       "      <th>103</th>\n",
       "      <td>2022-11-25</td>\n",
       "      <td>98.464996</td>\n",
       "      <td>98.940002</td>\n",
       "      <td>97.529999</td>\n",
       "      <td>97.599998</td>\n",
       "      <td>97.599998</td>\n",
       "      <td>8567800</td>\n",
       "    </tr>\n",
       "    <tr>\n",
       "      <th>104</th>\n",
       "      <td>2022-11-28</td>\n",
       "      <td>97.199997</td>\n",
       "      <td>97.830002</td>\n",
       "      <td>95.889999</td>\n",
       "      <td>96.250000</td>\n",
       "      <td>96.250000</td>\n",
       "      <td>19974500</td>\n",
       "    </tr>\n",
       "    <tr>\n",
       "      <th>105</th>\n",
       "      <td>2022-11-29</td>\n",
       "      <td>96.000000</td>\n",
       "      <td>96.389999</td>\n",
       "      <td>94.389999</td>\n",
       "      <td>95.440002</td>\n",
       "      <td>95.440002</td>\n",
       "      <td>20220000</td>\n",
       "    </tr>\n",
       "  </tbody>\n",
       "</table>\n",
       "<p>106 rows × 7 columns</p>\n",
       "</div>"
      ],
      "text/plain": [
       "           Date        Open        High         Low       Close   Adj Close  \\\n",
       "0    2022-06-30  110.499496  111.329803  107.309998  109.372498  109.372498   \n",
       "1    2022-07-01  108.336998  109.806351  107.105003  109.081001  109.081001   \n",
       "2    2022-07-05  107.514503  114.052597  106.249496  113.887001  113.887001   \n",
       "3    2022-07-06  114.092003  116.351997  112.250504  115.213501  115.213501   \n",
       "4    2022-07-07  116.008003  119.862000  115.533997  119.306000  119.306000   \n",
       "..          ...         ...         ...         ...         ...         ...   \n",
       "101  2022-11-22   96.160004   97.547997   94.410004   97.330002   97.330002   \n",
       "102  2022-11-23   97.339996   99.069000   97.339996   98.820000   98.820000   \n",
       "103  2022-11-25   98.464996   98.940002   97.529999   97.599998   97.599998   \n",
       "104  2022-11-28   97.199997   97.830002   95.889999   96.250000   96.250000   \n",
       "105  2022-11-29   96.000000   96.389999   94.389999   95.440002   95.440002   \n",
       "\n",
       "       Volume  \n",
       "0    38046000  \n",
       "1    31028000  \n",
       "2    36398000  \n",
       "3    28852000  \n",
       "4    32184000  \n",
       "..        ...  \n",
       "101  18868900  \n",
       "102  17568900  \n",
       "103   8567800  \n",
       "104  19974500  \n",
       "105  20220000  \n",
       "\n",
       "[106 rows x 7 columns]"
      ]
     },
     "execution_count": 64,
     "metadata": {},
     "output_type": "execute_result"
    }
   ],
   "source": [
    "df_ALL_JUL_DEC_2019"
   ]
  },
  {
   "cell_type": "code",
   "execution_count": 65,
   "id": "d434679b",
   "metadata": {},
   "outputs": [],
   "source": [
    "df_JUL_DEC_2019=df_ALL_JUL_DEC_2019.iloc[:,4:5]"
   ]
  },
  {
   "cell_type": "code",
   "execution_count": 66,
   "id": "5fcb2ae6",
   "metadata": {},
   "outputs": [
    {
     "data": {
      "text/html": [
       "<div>\n",
       "<style scoped>\n",
       "    .dataframe tbody tr th:only-of-type {\n",
       "        vertical-align: middle;\n",
       "    }\n",
       "\n",
       "    .dataframe tbody tr th {\n",
       "        vertical-align: top;\n",
       "    }\n",
       "\n",
       "    .dataframe thead th {\n",
       "        text-align: right;\n",
       "    }\n",
       "</style>\n",
       "<table border=\"1\" class=\"dataframe\">\n",
       "  <thead>\n",
       "    <tr style=\"text-align: right;\">\n",
       "      <th></th>\n",
       "      <th>Close</th>\n",
       "    </tr>\n",
       "  </thead>\n",
       "  <tbody>\n",
       "    <tr>\n",
       "      <th>0</th>\n",
       "      <td>109.372498</td>\n",
       "    </tr>\n",
       "    <tr>\n",
       "      <th>1</th>\n",
       "      <td>109.081001</td>\n",
       "    </tr>\n",
       "    <tr>\n",
       "      <th>2</th>\n",
       "      <td>113.887001</td>\n",
       "    </tr>\n",
       "    <tr>\n",
       "      <th>3</th>\n",
       "      <td>115.213501</td>\n",
       "    </tr>\n",
       "    <tr>\n",
       "      <th>4</th>\n",
       "      <td>119.306000</td>\n",
       "    </tr>\n",
       "    <tr>\n",
       "      <th>...</th>\n",
       "      <td>...</td>\n",
       "    </tr>\n",
       "    <tr>\n",
       "      <th>101</th>\n",
       "      <td>97.330002</td>\n",
       "    </tr>\n",
       "    <tr>\n",
       "      <th>102</th>\n",
       "      <td>98.820000</td>\n",
       "    </tr>\n",
       "    <tr>\n",
       "      <th>103</th>\n",
       "      <td>97.599998</td>\n",
       "    </tr>\n",
       "    <tr>\n",
       "      <th>104</th>\n",
       "      <td>96.250000</td>\n",
       "    </tr>\n",
       "    <tr>\n",
       "      <th>105</th>\n",
       "      <td>95.440002</td>\n",
       "    </tr>\n",
       "  </tbody>\n",
       "</table>\n",
       "<p>106 rows × 1 columns</p>\n",
       "</div>"
      ],
      "text/plain": [
       "          Close\n",
       "0    109.372498\n",
       "1    109.081001\n",
       "2    113.887001\n",
       "3    115.213501\n",
       "4    119.306000\n",
       "..          ...\n",
       "101   97.330002\n",
       "102   98.820000\n",
       "103   97.599998\n",
       "104   96.250000\n",
       "105   95.440002\n",
       "\n",
       "[106 rows x 1 columns]"
      ]
     },
     "execution_count": 66,
     "metadata": {},
     "output_type": "execute_result"
    }
   ],
   "source": [
    "df_JUL_DEC_2019"
   ]
  },
  {
   "cell_type": "code",
   "execution_count": 67,
   "id": "6e6fd3b5",
   "metadata": {},
   "outputs": [
    {
     "data": {
      "text/plain": [
       "<AxesSubplot:>"
      ]
     },
     "execution_count": 67,
     "metadata": {},
     "output_type": "execute_result"
    },
    {
     "data": {
      "image/png": "[encoded data removed]",
      "text/plain": [
       "<Figure size 640x480 with 1 Axes>"
      ]
     },
     "metadata": {},
     "output_type": "display_data"
    }
   ],
   "source": [
    "df_JUL_DEC_2019.plot()"
   ]
  },
  {
   "cell_type": "code",
   "execution_count": 68,
   "id": "2acfeed7",
   "metadata": {},
   "outputs": [
    {
     "data": {
      "text/plain": [
       "array([67.42091325, 66.43261664, 65.50650595, 64.67712891, 63.9457477 ,\n",
       "       63.29568867, 62.70473573, 62.15363227, 61.62634036, 61.11372545,\n",
       "       60.61527527, 60.13304199, 59.66942037, 59.22627124, 58.80486296,\n",
       "       58.4055998 , 58.0274572 , 57.66860516, 57.32675387, 56.99952713,\n",
       "       56.68463203, 56.38032189, 56.08543022, 55.798593  , 55.51850486,\n",
       "       55.24415049, 54.97529538, 54.71149821, 54.45245039, 54.19794515,\n",
       "       53.94779735, 53.70183415, 53.46020679, 53.22285044, 52.98965401,\n",
       "       52.76126557, 52.53749995, 52.31813496, 52.10293298, 51.89168725,\n",
       "       51.68415397, 51.47994123, 51.27871573, 51.08039724, 50.88500427,\n",
       "       50.69253683, 50.50296714, 50.31622268, 50.13259507, 49.9520797 ,\n",
       "       49.77460403, 49.60201966, 49.43478796, 49.27295521, 49.11643037,\n",
       "       48.96499743, 48.81837864, 48.67622992, 48.53832907, 48.40456191,\n",
       "       48.27455041, 48.14803844, 48.02539013, 47.9062506 , 47.7902773 ,\n",
       "       47.67718941, 47.56676936, 47.45881348, 47.35321993, 47.250896  ,\n",
       "       47.1519142 , 47.05622515, 46.96373938, 46.87438126, 46.78805204,\n",
       "       46.70458046, 46.62378135, 46.54546184, 46.46944448, 46.39557035,\n",
       "       46.3237839 , 46.25415918, 46.18673941, 46.12152922, 46.05844527,\n",
       "       45.99737494, 45.9382025 , 45.88083691, 45.8252041 , 45.77124236,\n",
       "       45.71891157, 45.66816699, 45.6189762 , 45.57128675, 45.52506932,\n",
       "       45.48027917, 45.43685765, 45.39476928, 45.35395698, 45.31438216,\n",
       "       45.2759939 , 45.23875363, 45.2026089 , 45.16753346, 45.1334872 ,\n",
       "       45.10043155])"
      ]
     },
     "execution_count": 68,
     "metadata": {},
     "output_type": "execute_result"
    }
   ],
   "source": [
    "forecast_df['Forecast'].values"
   ]
  },
  {
   "cell_type": "code",
   "execution_count": 69,
   "id": "7826b05a",
   "metadata": {},
   "outputs": [],
   "source": [
    "df_JUL_DEC_2019['Forecast']=forecast_df['Forecast'].values"
   ]
  },
  {
   "cell_type": "code",
   "execution_count": 70,
   "id": "c8b3219f",
   "metadata": {},
   "outputs": [
    {
     "data": {
      "text/html": [
       "<div>\n",
       "<style scoped>\n",
       "    .dataframe tbody tr th:only-of-type {\n",
       "        vertical-align: middle;\n",
       "    }\n",
       "\n",
       "    .dataframe tbody tr th {\n",
       "        vertical-align: top;\n",
       "    }\n",
       "\n",
       "    .dataframe thead th {\n",
       "        text-align: right;\n",
       "    }\n",
       "</style>\n",
       "<table border=\"1\" class=\"dataframe\">\n",
       "  <thead>\n",
       "    <tr style=\"text-align: right;\">\n",
       "      <th></th>\n",
       "      <th>Close</th>\n",
       "      <th>Forecast</th>\n",
       "    </tr>\n",
       "  </thead>\n",
       "  <tbody>\n",
       "    <tr>\n",
       "      <th>0</th>\n",
       "      <td>109.372498</td>\n",
       "      <td>67.420913</td>\n",
       "    </tr>\n",
       "    <tr>\n",
       "      <th>1</th>\n",
       "      <td>109.081001</td>\n",
       "      <td>66.432617</td>\n",
       "    </tr>\n",
       "    <tr>\n",
       "      <th>2</th>\n",
       "      <td>113.887001</td>\n",
       "      <td>65.506506</td>\n",
       "    </tr>\n",
       "    <tr>\n",
       "      <th>3</th>\n",
       "      <td>115.213501</td>\n",
       "      <td>64.677129</td>\n",
       "    </tr>\n",
       "    <tr>\n",
       "      <th>4</th>\n",
       "      <td>119.306000</td>\n",
       "      <td>63.945748</td>\n",
       "    </tr>\n",
       "    <tr>\n",
       "      <th>...</th>\n",
       "      <td>...</td>\n",
       "      <td>...</td>\n",
       "    </tr>\n",
       "    <tr>\n",
       "      <th>101</th>\n",
       "      <td>97.330002</td>\n",
       "      <td>45.238754</td>\n",
       "    </tr>\n",
       "    <tr>\n",
       "      <th>102</th>\n",
       "      <td>98.820000</td>\n",
       "      <td>45.202609</td>\n",
       "    </tr>\n",
       "    <tr>\n",
       "      <th>103</th>\n",
       "      <td>97.599998</td>\n",
       "      <td>45.167533</td>\n",
       "    </tr>\n",
       "    <tr>\n",
       "      <th>104</th>\n",
       "      <td>96.250000</td>\n",
       "      <td>45.133487</td>\n",
       "    </tr>\n",
       "    <tr>\n",
       "      <th>105</th>\n",
       "      <td>95.440002</td>\n",
       "      <td>45.100432</td>\n",
       "    </tr>\n",
       "  </tbody>\n",
       "</table>\n",
       "<p>106 rows × 2 columns</p>\n",
       "</div>"
      ],
      "text/plain": [
       "          Close   Forecast\n",
       "0    109.372498  67.420913\n",
       "1    109.081001  66.432617\n",
       "2    113.887001  65.506506\n",
       "3    115.213501  64.677129\n",
       "4    119.306000  63.945748\n",
       "..          ...        ...\n",
       "101   97.330002  45.238754\n",
       "102   98.820000  45.202609\n",
       "103   97.599998  45.167533\n",
       "104   96.250000  45.133487\n",
       "105   95.440002  45.100432\n",
       "\n",
       "[106 rows x 2 columns]"
      ]
     },
     "execution_count": 70,
     "metadata": {},
     "output_type": "execute_result"
    }
   ],
   "source": [
    "df_JUL_DEC_2019"
   ]
  },
  {
   "cell_type": "code",
   "execution_count": 71,
   "id": "5099555f",
   "metadata": {},
   "outputs": [
    {
     "data": {
      "text/plain": [
       "<AxesSubplot:>"
      ]
     },
     "execution_count": 71,
     "metadata": {},
     "output_type": "execute_result"
    },
    {
     "data": {
      "image/png": "[encoded data removed]",
      "text/plain": [
       "<Figure size 640x480 with 1 Axes>"
      ]
     },
     "metadata": {},
     "output_type": "display_data"
    }
   ],
   "source": [
    "df_JUL_DEC_2019.plot()"
   ]
  },
  {
   "cell_type": "code",
   "execution_count": null,
   "id": "7efc4208",
   "metadata": {},
   "outputs": [],
   "source": []
  },
  {
   "cell_type": "code",
   "execution_count": null,
   "id": "60b57d3d",
   "metadata": {},
   "outputs": [],
   "source": []
  }
 ],
 "metadata": {
  "kernelspec": {
   "display_name": "Python 3",
   "language": "python",
   "name": "python3"
  },
  "language_info": {
   "codemirror_mode": {
    "name": "ipython",
    "version": 3
   },
   "file_extension": ".py",
   "mimetype": "text/x-python",
   "name": "python",
   "nbconvert_exporter": "python",
   "pygments_lexer": "ipython3",
   "version": "3.7.12"
  }
 },
 "nbformat": 4,
 "nbformat_minor": 5
}
