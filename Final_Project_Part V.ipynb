{
 "cells": [
  {
   "cell_type": "code",
   "execution_count": 82,
   "id": "d1500a09",
   "metadata": {},
   "outputs": [],
   "source": [
    "# Import basic libraries\n",
    "\n",
    "import pandas as pd\n",
    "import numpy as np\n",
    "%matplotlib inline\n",
    "import matplotlib.pyplot as plt"
   ]
  },
  {
   "cell_type": "code",
   "execution_count": 83,
   "id": "d427e784",
   "metadata": {},
   "outputs": [],
   "source": [
    "# For timeseries RNN LSTM neural network\n",
    "\n",
    "from tensorflow.keras.models import Sequential\n",
    "from tensorflow.keras.layers import LSTM\n",
    "from tensorflow.keras.layers import Dropout\n",
    "from tensorflow.keras.layers import Dense"
   ]
  },
  {
   "cell_type": "code",
   "execution_count": 84,
   "id": "794d8daa",
   "metadata": {},
   "outputs": [],
   "source": [
    "# Import Kera:TimeSeriesGenerator\n",
    "\n",
    "from tensorflow.keras.preprocessing.sequence import TimeseriesGenerator\n",
    "\n",
    "# Import Keras:MinMax Scalar\n",
    "\n",
    "from sklearn.preprocessing import MinMaxScaler"
   ]
  },
  {
   "cell_type": "code",
   "execution_count": 85,
   "id": "c2e530a4",
   "metadata": {},
   "outputs": [],
   "source": [
    "dir_path_dataset_1 = 'GOOG_1.csv'"
   ]
  },
  {
   "cell_type": "markdown",
   "id": "e632c535",
   "metadata": {},
   "source": [
    "### Load Data"
   ]
  },
  {
   "cell_type": "code",
   "execution_count": 86,
   "id": "1fd13730",
   "metadata": {},
   "outputs": [
    {
     "data": {
      "text/html": [
       "<div>\n",
       "<style scoped>\n",
       "    .dataframe tbody tr th:only-of-type {\n",
       "        vertical-align: middle;\n",
       "    }\n",
       "\n",
       "    .dataframe tbody tr th {\n",
       "        vertical-align: top;\n",
       "    }\n",
       "\n",
       "    .dataframe thead th {\n",
       "        text-align: right;\n",
       "    }\n",
       "</style>\n",
       "<table border=\"1\" class=\"dataframe\">\n",
       "  <thead>\n",
       "    <tr style=\"text-align: right;\">\n",
       "      <th></th>\n",
       "      <th>Date</th>\n",
       "      <th>Open</th>\n",
       "      <th>High</th>\n",
       "      <th>Low</th>\n",
       "      <th>Close</th>\n",
       "      <th>Adj Close</th>\n",
       "      <th>Volume</th>\n",
       "    </tr>\n",
       "  </thead>\n",
       "  <tbody>\n",
       "    <tr>\n",
       "      <th>0</th>\n",
       "      <td>2015-01-02</td>\n",
       "      <td>26.378078</td>\n",
       "      <td>26.490770</td>\n",
       "      <td>26.133251</td>\n",
       "      <td>26.168653</td>\n",
       "      <td>26.168653</td>\n",
       "      <td>28951268</td>\n",
       "    </tr>\n",
       "    <tr>\n",
       "      <th>1</th>\n",
       "      <td>2015-01-05</td>\n",
       "      <td>26.091366</td>\n",
       "      <td>26.144720</td>\n",
       "      <td>25.582764</td>\n",
       "      <td>25.623152</td>\n",
       "      <td>25.623152</td>\n",
       "      <td>41196796</td>\n",
       "    </tr>\n",
       "    <tr>\n",
       "      <th>2</th>\n",
       "      <td>2015-01-06</td>\n",
       "      <td>25.679497</td>\n",
       "      <td>25.738087</td>\n",
       "      <td>24.983908</td>\n",
       "      <td>25.029282</td>\n",
       "      <td>25.029282</td>\n",
       "      <td>57998800</td>\n",
       "    </tr>\n",
       "    <tr>\n",
       "      <th>3</th>\n",
       "      <td>2015-01-07</td>\n",
       "      <td>25.280592</td>\n",
       "      <td>25.292759</td>\n",
       "      <td>24.914099</td>\n",
       "      <td>24.986401</td>\n",
       "      <td>24.986401</td>\n",
       "      <td>41301082</td>\n",
       "    </tr>\n",
       "    <tr>\n",
       "      <th>4</th>\n",
       "      <td>2015-01-08</td>\n",
       "      <td>24.831326</td>\n",
       "      <td>25.105074</td>\n",
       "      <td>24.482782</td>\n",
       "      <td>25.065184</td>\n",
       "      <td>25.065184</td>\n",
       "      <td>67071641</td>\n",
       "    </tr>\n",
       "  </tbody>\n",
       "</table>\n",
       "</div>"
      ],
      "text/plain": [
       "         Date       Open       High        Low      Close  Adj Close    Volume\n",
       "0  2015-01-02  26.378078  26.490770  26.133251  26.168653  26.168653  28951268\n",
       "1  2015-01-05  26.091366  26.144720  25.582764  25.623152  25.623152  41196796\n",
       "2  2015-01-06  25.679497  25.738087  24.983908  25.029282  25.029282  57998800\n",
       "3  2015-01-07  25.280592  25.292759  24.914099  24.986401  24.986401  41301082\n",
       "4  2015-01-08  24.831326  25.105074  24.482782  25.065184  25.065184  67071641"
      ]
     },
     "execution_count": 86,
     "metadata": {},
     "output_type": "execute_result"
    }
   ],
   "source": [
    "df_ALL = pd.read_csv(dir_path_dataset_1)\n",
    "df_ALL.head()"
   ]
  },
  {
   "cell_type": "code",
   "execution_count": 87,
   "id": "b61d15b8",
   "metadata": {},
   "outputs": [
    {
     "data": {
      "text/plain": [
       "(1382, 7)"
      ]
     },
     "execution_count": 87,
     "metadata": {},
     "output_type": "execute_result"
    }
   ],
   "source": [
    "df_ALL.shape"
   ]
  },
  {
   "cell_type": "code",
   "execution_count": 88,
   "id": "b8c66d10",
   "metadata": {},
   "outputs": [
    {
     "data": {
      "text/plain": [
       "Date          object\n",
       "Open         float64\n",
       "High         float64\n",
       "Low          float64\n",
       "Close        float64\n",
       "Adj Close    float64\n",
       "Volume         int64\n",
       "dtype: object"
      ]
     },
     "execution_count": 88,
     "metadata": {},
     "output_type": "execute_result"
    }
   ],
   "source": [
    "df_ALL.dtypes"
   ]
  },
  {
   "cell_type": "code",
   "execution_count": 89,
   "id": "ea6b6ce0",
   "metadata": {},
   "outputs": [
    {
     "data": {
      "text/html": [
       "<div>\n",
       "<style scoped>\n",
       "    .dataframe tbody tr th:only-of-type {\n",
       "        vertical-align: middle;\n",
       "    }\n",
       "\n",
       "    .dataframe tbody tr th {\n",
       "        vertical-align: top;\n",
       "    }\n",
       "\n",
       "    .dataframe thead th {\n",
       "        text-align: right;\n",
       "    }\n",
       "</style>\n",
       "<table border=\"1\" class=\"dataframe\">\n",
       "  <thead>\n",
       "    <tr style=\"text-align: right;\">\n",
       "      <th></th>\n",
       "      <th>Open</th>\n",
       "      <th>High</th>\n",
       "      <th>Low</th>\n",
       "      <th>Close</th>\n",
       "      <th>Adj Close</th>\n",
       "      <th>Volume</th>\n",
       "    </tr>\n",
       "  </thead>\n",
       "  <tbody>\n",
       "    <tr>\n",
       "      <th>count</th>\n",
       "      <td>1382.000000</td>\n",
       "      <td>1382.000000</td>\n",
       "      <td>1382.000000</td>\n",
       "      <td>1382.000000</td>\n",
       "      <td>1382.000000</td>\n",
       "      <td>1.382000e+03</td>\n",
       "    </tr>\n",
       "    <tr>\n",
       "      <th>mean</th>\n",
       "      <td>47.627746</td>\n",
       "      <td>48.066592</td>\n",
       "      <td>47.193521</td>\n",
       "      <td>47.650752</td>\n",
       "      <td>47.650752</td>\n",
       "      <td>3.479765e+07</td>\n",
       "    </tr>\n",
       "    <tr>\n",
       "      <th>std</th>\n",
       "      <td>12.790044</td>\n",
       "      <td>12.941852</td>\n",
       "      <td>12.666063</td>\n",
       "      <td>12.815438</td>\n",
       "      <td>12.815438</td>\n",
       "      <td>1.710484e+07</td>\n",
       "    </tr>\n",
       "    <tr>\n",
       "      <th>min</th>\n",
       "      <td>24.664783</td>\n",
       "      <td>24.730902</td>\n",
       "      <td>24.311253</td>\n",
       "      <td>24.560070</td>\n",
       "      <td>24.560070</td>\n",
       "      <td>6.950000e+06</td>\n",
       "    </tr>\n",
       "    <tr>\n",
       "      <th>25%</th>\n",
       "      <td>37.039625</td>\n",
       "      <td>37.255625</td>\n",
       "      <td>36.800625</td>\n",
       "      <td>37.042999</td>\n",
       "      <td>37.042999</td>\n",
       "      <td>2.456500e+07</td>\n",
       "    </tr>\n",
       "    <tr>\n",
       "      <th>50%</th>\n",
       "      <td>48.563249</td>\n",
       "      <td>48.886751</td>\n",
       "      <td>48.226500</td>\n",
       "      <td>48.628999</td>\n",
       "      <td>48.628999</td>\n",
       "      <td>3.040600e+07</td>\n",
       "    </tr>\n",
       "    <tr>\n",
       "      <th>75%</th>\n",
       "      <td>57.438376</td>\n",
       "      <td>58.337350</td>\n",
       "      <td>57.045499</td>\n",
       "      <td>57.691000</td>\n",
       "      <td>57.691000</td>\n",
       "      <td>3.960400e+07</td>\n",
       "    </tr>\n",
       "    <tr>\n",
       "      <th>max</th>\n",
       "      <td>76.253502</td>\n",
       "      <td>76.605301</td>\n",
       "      <td>76.070000</td>\n",
       "      <td>76.334503</td>\n",
       "      <td>76.334503</td>\n",
       "      <td>2.232980e+08</td>\n",
       "    </tr>\n",
       "  </tbody>\n",
       "</table>\n",
       "</div>"
      ],
      "text/plain": [
       "              Open         High          Low        Close    Adj Close  \\\n",
       "count  1382.000000  1382.000000  1382.000000  1382.000000  1382.000000   \n",
       "mean     47.627746    48.066592    47.193521    47.650752    47.650752   \n",
       "std      12.790044    12.941852    12.666063    12.815438    12.815438   \n",
       "min      24.664783    24.730902    24.311253    24.560070    24.560070   \n",
       "25%      37.039625    37.255625    36.800625    37.042999    37.042999   \n",
       "50%      48.563249    48.886751    48.226500    48.628999    48.628999   \n",
       "75%      57.438376    58.337350    57.045499    57.691000    57.691000   \n",
       "max      76.253502    76.605301    76.070000    76.334503    76.334503   \n",
       "\n",
       "             Volume  \n",
       "count  1.382000e+03  \n",
       "mean   3.479765e+07  \n",
       "std    1.710484e+07  \n",
       "min    6.950000e+06  \n",
       "25%    2.456500e+07  \n",
       "50%    3.040600e+07  \n",
       "75%    3.960400e+07  \n",
       "max    2.232980e+08  "
      ]
     },
     "execution_count": 89,
     "metadata": {},
     "output_type": "execute_result"
    }
   ],
   "source": [
    "# Statistic Summary\n",
    "\n",
    "df_ALL.describe()"
   ]
  },
  {
   "cell_type": "markdown",
   "id": "60fe2fba",
   "metadata": {},
   "source": [
    "### Keep only close price and filter out all other attributes"
   ]
  },
  {
   "cell_type": "code",
   "execution_count": 90,
   "id": "ec498b8f",
   "metadata": {},
   "outputs": [],
   "source": [
    "df = df_ALL.iloc[:,4:5]"
   ]
  },
  {
   "cell_type": "code",
   "execution_count": 91,
   "id": "ecd790df",
   "metadata": {},
   "outputs": [
    {
     "data": {
      "text/html": [
       "<div>\n",
       "<style scoped>\n",
       "    .dataframe tbody tr th:only-of-type {\n",
       "        vertical-align: middle;\n",
       "    }\n",
       "\n",
       "    .dataframe tbody tr th {\n",
       "        vertical-align: top;\n",
       "    }\n",
       "\n",
       "    .dataframe thead th {\n",
       "        text-align: right;\n",
       "    }\n",
       "</style>\n",
       "<table border=\"1\" class=\"dataframe\">\n",
       "  <thead>\n",
       "    <tr style=\"text-align: right;\">\n",
       "      <th></th>\n",
       "      <th>Close</th>\n",
       "    </tr>\n",
       "  </thead>\n",
       "  <tbody>\n",
       "    <tr>\n",
       "      <th>0</th>\n",
       "      <td>26.168653</td>\n",
       "    </tr>\n",
       "    <tr>\n",
       "      <th>1</th>\n",
       "      <td>25.623152</td>\n",
       "    </tr>\n",
       "    <tr>\n",
       "      <th>2</th>\n",
       "      <td>25.029282</td>\n",
       "    </tr>\n",
       "    <tr>\n",
       "      <th>3</th>\n",
       "      <td>24.986401</td>\n",
       "    </tr>\n",
       "    <tr>\n",
       "      <th>4</th>\n",
       "      <td>25.065184</td>\n",
       "    </tr>\n",
       "  </tbody>\n",
       "</table>\n",
       "</div>"
      ],
      "text/plain": [
       "       Close\n",
       "0  26.168653\n",
       "1  25.623152\n",
       "2  25.029282\n",
       "3  24.986401\n",
       "4  25.065184"
      ]
     },
     "execution_count": 91,
     "metadata": {},
     "output_type": "execute_result"
    }
   ],
   "source": [
    "df.head()"
   ]
  },
  {
   "cell_type": "code",
   "execution_count": 92,
   "id": "91c57757",
   "metadata": {},
   "outputs": [
    {
     "data": {
      "text/plain": [
       "<AxesSubplot:>"
      ]
     },
     "execution_count": 92,
     "metadata": {},
     "output_type": "execute_result"
    },
    {
     "data": {
      "image/png": "[encoded data removed]",
      "text/plain": [
       "<Figure size 1200x800 with 1 Axes>"
      ]
     },
     "metadata": {},
     "output_type": "display_data"
    }
   ],
   "source": [
    "df.plot(figsize=(12,8))"
   ]
  },
  {
   "cell_type": "markdown",
   "id": "39a84f3d",
   "metadata": {},
   "source": [
    "### Length of input Time Series-Number of Input Time Steps"
   ]
  },
  {
   "cell_type": "code",
   "execution_count": 93,
   "id": "91e0c5ad",
   "metadata": {},
   "outputs": [],
   "source": [
    "length60 = 61"
   ]
  },
  {
   "cell_type": "code",
   "execution_count": 94,
   "id": "db4e1ad5",
   "metadata": {},
   "outputs": [
    {
     "data": {
      "text/plain": [
       "61"
      ]
     },
     "execution_count": 94,
     "metadata": {},
     "output_type": "execute_result"
    }
   ],
   "source": [
    "length60"
   ]
  },
  {
   "cell_type": "markdown",
   "id": "a056c5c4",
   "metadata": {},
   "source": [
    "### Time Series Dataset: Train/ test split"
   ]
  },
  {
   "cell_type": "code",
   "execution_count": 95,
   "id": "ae533f94",
   "metadata": {},
   "outputs": [
    {
     "data": {
      "text/plain": [
       "1382"
      ]
     },
     "execution_count": 95,
     "metadata": {},
     "output_type": "execute_result"
    }
   ],
   "source": [
    "len(df)"
   ]
  },
  {
   "cell_type": "code",
   "execution_count": 96,
   "id": "a66dbe7d",
   "metadata": {},
   "outputs": [],
   "source": [
    "# Set percentage of data used for testing\n",
    "\n",
    "test_percent = 0.2"
   ]
  },
  {
   "cell_type": "code",
   "execution_count": 97,
   "id": "4fd38333",
   "metadata": {},
   "outputs": [
    {
     "data": {
      "text/plain": [
       "276.40000000000003"
      ]
     },
     "execution_count": 97,
     "metadata": {},
     "output_type": "execute_result"
    }
   ],
   "source": [
    "len(df)*test_percent"
   ]
  },
  {
   "cell_type": "markdown",
   "id": "9678272a",
   "metadata": {},
   "source": [
    "### Split Data -> Train/Test"
   ]
  },
  {
   "cell_type": "code",
   "execution_count": 98,
   "id": "f961768d",
   "metadata": {},
   "outputs": [
    {
     "data": {
      "text/plain": [
       "276.0"
      ]
     },
     "execution_count": 98,
     "metadata": {},
     "output_type": "execute_result"
    }
   ],
   "source": [
    "test_length = np.round(len(df)*test_percent)\n",
    "test_length"
   ]
  },
  {
   "cell_type": "code",
   "execution_count": 99,
   "id": "92f163d3",
   "metadata": {},
   "outputs": [
    {
     "data": {
      "text/plain": [
       "1106"
      ]
     },
     "execution_count": 99,
     "metadata": {},
     "output_type": "execute_result"
    }
   ],
   "source": [
    "split_index = int(len(df)-test_length)\n",
    "\n",
    "split_index"
   ]
  },
  {
   "cell_type": "code",
   "execution_count": 100,
   "id": "93c7577f",
   "metadata": {},
   "outputs": [],
   "source": [
    "data_train = df.iloc[:split_index]"
   ]
  },
  {
   "cell_type": "code",
   "execution_count": 101,
   "id": "2056a645",
   "metadata": {},
   "outputs": [],
   "source": [
    "data_test = df.iloc[split_index - length60:]"
   ]
  },
  {
   "cell_type": "code",
   "execution_count": 102,
   "id": "cd4ab5c8",
   "metadata": {},
   "outputs": [
    {
     "data": {
      "text/html": [
       "<div>\n",
       "<style scoped>\n",
       "    .dataframe tbody tr th:only-of-type {\n",
       "        vertical-align: middle;\n",
       "    }\n",
       "\n",
       "    .dataframe tbody tr th {\n",
       "        vertical-align: top;\n",
       "    }\n",
       "\n",
       "    .dataframe thead th {\n",
       "        text-align: right;\n",
       "    }\n",
       "</style>\n",
       "<table border=\"1\" class=\"dataframe\">\n",
       "  <thead>\n",
       "    <tr style=\"text-align: right;\">\n",
       "      <th></th>\n",
       "      <th>Close</th>\n",
       "    </tr>\n",
       "  </thead>\n",
       "  <tbody>\n",
       "    <tr>\n",
       "      <th>0</th>\n",
       "      <td>26.168653</td>\n",
       "    </tr>\n",
       "    <tr>\n",
       "      <th>1</th>\n",
       "      <td>25.623152</td>\n",
       "    </tr>\n",
       "    <tr>\n",
       "      <th>2</th>\n",
       "      <td>25.029282</td>\n",
       "    </tr>\n",
       "    <tr>\n",
       "      <th>3</th>\n",
       "      <td>24.986401</td>\n",
       "    </tr>\n",
       "    <tr>\n",
       "      <th>4</th>\n",
       "      <td>25.065184</td>\n",
       "    </tr>\n",
       "  </tbody>\n",
       "</table>\n",
       "</div>"
      ],
      "text/plain": [
       "       Close\n",
       "0  26.168653\n",
       "1  25.623152\n",
       "2  25.029282\n",
       "3  24.986401\n",
       "4  25.065184"
      ]
     },
     "execution_count": 102,
     "metadata": {},
     "output_type": "execute_result"
    }
   ],
   "source": [
    "data_train.head(5)"
   ]
  },
  {
   "cell_type": "code",
   "execution_count": 103,
   "id": "4b6b90db",
   "metadata": {},
   "outputs": [
    {
     "data": {
      "text/html": [
       "<div>\n",
       "<style scoped>\n",
       "    .dataframe tbody tr th:only-of-type {\n",
       "        vertical-align: middle;\n",
       "    }\n",
       "\n",
       "    .dataframe tbody tr th {\n",
       "        vertical-align: top;\n",
       "    }\n",
       "\n",
       "    .dataframe thead th {\n",
       "        text-align: right;\n",
       "    }\n",
       "</style>\n",
       "<table border=\"1\" class=\"dataframe\">\n",
       "  <thead>\n",
       "    <tr style=\"text-align: right;\">\n",
       "      <th></th>\n",
       "      <th>Close</th>\n",
       "    </tr>\n",
       "  </thead>\n",
       "  <tbody>\n",
       "    <tr>\n",
       "      <th>1101</th>\n",
       "      <td>56.942501</td>\n",
       "    </tr>\n",
       "    <tr>\n",
       "      <th>1102</th>\n",
       "      <td>57.481499</td>\n",
       "    </tr>\n",
       "    <tr>\n",
       "      <th>1103</th>\n",
       "      <td>57.570999</td>\n",
       "    </tr>\n",
       "    <tr>\n",
       "      <th>1104</th>\n",
       "      <td>57.038502</td>\n",
       "    </tr>\n",
       "    <tr>\n",
       "      <th>1105</th>\n",
       "      <td>56.673500</td>\n",
       "    </tr>\n",
       "  </tbody>\n",
       "</table>\n",
       "</div>"
      ],
      "text/plain": [
       "          Close\n",
       "1101  56.942501\n",
       "1102  57.481499\n",
       "1103  57.570999\n",
       "1104  57.038502\n",
       "1105  56.673500"
      ]
     },
     "execution_count": 103,
     "metadata": {},
     "output_type": "execute_result"
    }
   ],
   "source": [
    "data_train.tail()"
   ]
  },
  {
   "cell_type": "code",
   "execution_count": 104,
   "id": "37fe0191",
   "metadata": {},
   "outputs": [
    {
     "data": {
      "text/html": [
       "<div>\n",
       "<style scoped>\n",
       "    .dataframe tbody tr th:only-of-type {\n",
       "        vertical-align: middle;\n",
       "    }\n",
       "\n",
       "    .dataframe tbody tr th {\n",
       "        vertical-align: top;\n",
       "    }\n",
       "\n",
       "    .dataframe thead th {\n",
       "        text-align: right;\n",
       "    }\n",
       "</style>\n",
       "<table border=\"1\" class=\"dataframe\">\n",
       "  <thead>\n",
       "    <tr style=\"text-align: right;\">\n",
       "      <th></th>\n",
       "      <th>Close</th>\n",
       "    </tr>\n",
       "  </thead>\n",
       "  <tbody>\n",
       "    <tr>\n",
       "      <th>1045</th>\n",
       "      <td>55.995998</td>\n",
       "    </tr>\n",
       "    <tr>\n",
       "      <th>1046</th>\n",
       "      <td>57.049500</td>\n",
       "    </tr>\n",
       "    <tr>\n",
       "      <th>1047</th>\n",
       "      <td>57.389999</td>\n",
       "    </tr>\n",
       "    <tr>\n",
       "      <th>1048</th>\n",
       "      <td>58.101501</td>\n",
       "    </tr>\n",
       "    <tr>\n",
       "      <th>1049</th>\n",
       "      <td>57.893002</td>\n",
       "    </tr>\n",
       "  </tbody>\n",
       "</table>\n",
       "</div>"
      ],
      "text/plain": [
       "          Close\n",
       "1045  55.995998\n",
       "1046  57.049500\n",
       "1047  57.389999\n",
       "1048  58.101501\n",
       "1049  57.893002"
      ]
     },
     "execution_count": 104,
     "metadata": {},
     "output_type": "execute_result"
    }
   ],
   "source": [
    "data_test.head(5)"
   ]
  },
  {
   "cell_type": "code",
   "execution_count": 105,
   "id": "d491ff77",
   "metadata": {},
   "outputs": [
    {
     "data": {
      "text/html": [
       "<div>\n",
       "<style scoped>\n",
       "    .dataframe tbody tr th:only-of-type {\n",
       "        vertical-align: middle;\n",
       "    }\n",
       "\n",
       "    .dataframe tbody tr th {\n",
       "        vertical-align: top;\n",
       "    }\n",
       "\n",
       "    .dataframe thead th {\n",
       "        text-align: right;\n",
       "    }\n",
       "</style>\n",
       "<table border=\"1\" class=\"dataframe\">\n",
       "  <thead>\n",
       "    <tr style=\"text-align: right;\">\n",
       "      <th></th>\n",
       "      <th>Close</th>\n",
       "    </tr>\n",
       "  </thead>\n",
       "  <tbody>\n",
       "    <tr>\n",
       "      <th>1377</th>\n",
       "      <td>73.220497</td>\n",
       "    </tr>\n",
       "    <tr>\n",
       "      <th>1378</th>\n",
       "      <td>71.598503</td>\n",
       "    </tr>\n",
       "    <tr>\n",
       "      <th>1379</th>\n",
       "      <td>72.066498</td>\n",
       "    </tr>\n",
       "    <tr>\n",
       "      <th>1380</th>\n",
       "      <td>67.995003</td>\n",
       "    </tr>\n",
       "    <tr>\n",
       "      <th>1381</th>\n",
       "      <td>69.748497</td>\n",
       "    </tr>\n",
       "  </tbody>\n",
       "</table>\n",
       "</div>"
      ],
      "text/plain": [
       "          Close\n",
       "1377  73.220497\n",
       "1378  71.598503\n",
       "1379  72.066498\n",
       "1380  67.995003\n",
       "1381  69.748497"
      ]
     },
     "execution_count": 105,
     "metadata": {},
     "output_type": "execute_result"
    }
   ],
   "source": [
    "data_test.tail()"
   ]
  },
  {
   "cell_type": "markdown",
   "id": "9a2e3ae7",
   "metadata": {},
   "source": [
    "### Normalize Data in range [0, 1]"
   ]
  },
  {
   "cell_type": "code",
   "execution_count": 106,
   "id": "01eca84b",
   "metadata": {},
   "outputs": [],
   "source": [
    "scaler = MinMaxScaler()"
   ]
  },
  {
   "cell_type": "code",
   "execution_count": 107,
   "id": "4b431ab6",
   "metadata": {},
   "outputs": [
    {
     "data": {
      "text/plain": [
       "MinMaxScaler()"
      ]
     },
     "execution_count": 107,
     "metadata": {},
     "output_type": "execute_result"
    }
   ],
   "source": [
    "scaler.fit(data_train)"
   ]
  },
  {
   "cell_type": "code",
   "execution_count": 108,
   "id": "cef13901",
   "metadata": {},
   "outputs": [],
   "source": [
    "normalized_train = scaler.transform(data_train)\n",
    "normalized_test = scaler.transform(data_test)"
   ]
  },
  {
   "cell_type": "markdown",
   "id": "d7ea9dbe",
   "metadata": {},
   "source": [
    "### Create TimeseriesGenerator for Training"
   ]
  },
  {
   "cell_type": "code",
   "execution_count": 109,
   "id": "53983dba",
   "metadata": {},
   "outputs": [],
   "source": [
    "batch_size32 = 40\n",
    "\n",
    "train_tsGenerator60 = TimeseriesGenerator(normalized_train, normalized_train, length=length60, batch_size=batch_size32)"
   ]
  },
  {
   "cell_type": "code",
   "execution_count": 110,
   "id": "adb0eb5b",
   "metadata": {},
   "outputs": [
    {
     "data": {
      "text/plain": [
       "1106"
      ]
     },
     "execution_count": 110,
     "metadata": {},
     "output_type": "execute_result"
    }
   ],
   "source": [
    "len(normalized_train)"
   ]
  },
  {
   "cell_type": "code",
   "execution_count": 111,
   "id": "14c1d97a",
   "metadata": {},
   "outputs": [
    {
     "data": {
      "text/plain": [
       "27"
      ]
     },
     "execution_count": 111,
     "metadata": {},
     "output_type": "execute_result"
    }
   ],
   "source": [
    "len(train_tsGenerator60)"
   ]
  },
  {
   "cell_type": "code",
   "execution_count": 112,
   "id": "13646299",
   "metadata": {},
   "outputs": [],
   "source": [
    "x,y = train_tsGenerator60[0]"
   ]
  },
  {
   "cell_type": "code",
   "execution_count": 113,
   "id": "18ba0865",
   "metadata": {},
   "outputs": [
    {
     "data": {
      "text/plain": [
       "array([[[0.04039745],\n",
       "        [0.02669791],\n",
       "        [0.01178364],\n",
       "        ...,\n",
       "        [0.0698628 ],\n",
       "        [0.07448362],\n",
       "        [0.06943708]],\n",
       "\n",
       "       [[0.02669791],\n",
       "        [0.01178364],\n",
       "        [0.01070674],\n",
       "        ...,\n",
       "        [0.07448362],\n",
       "        [0.06943708],\n",
       "        [0.06262484]],\n",
       "\n",
       "       [[0.01178364],\n",
       "        [0.01070674],\n",
       "        [0.01268527],\n",
       "        ...,\n",
       "        [0.06943708],\n",
       "        [0.06262484],\n",
       "        [0.05382154]],\n",
       "\n",
       "       ...,\n",
       "\n",
       "       [[0.07880383],\n",
       "        [0.08246041],\n",
       "        [0.09866451],\n",
       "        ...,\n",
       "        [0.06035896],\n",
       "        [0.0644274 ],\n",
       "        [0.06141378]],\n",
       "\n",
       "       [[0.08246041],\n",
       "        [0.09866451],\n",
       "        [0.10154467],\n",
       "        ...,\n",
       "        [0.0644274 ],\n",
       "        [0.06141378],\n",
       "        [0.05163195]],\n",
       "\n",
       "       [[0.09866451],\n",
       "        [0.10154467],\n",
       "        [0.10120654],\n",
       "        ...,\n",
       "        [0.06141378],\n",
       "        [0.05163195],\n",
       "        [0.06101194]]])"
      ]
     },
     "execution_count": 113,
     "metadata": {},
     "output_type": "execute_result"
    }
   ],
   "source": [
    "x"
   ]
  },
  {
   "cell_type": "code",
   "execution_count": 114,
   "id": "52f93d43",
   "metadata": {},
   "outputs": [
    {
     "data": {
      "text/plain": [
       "array([[0.06262484],\n",
       "       [0.05382154],\n",
       "       [0.05536807],\n",
       "       [0.05568736],\n",
       "       [0.06143518],\n",
       "       [0.06039585],\n",
       "       [0.05943161],\n",
       "       [0.0583797 ],\n",
       "       [0.047385  ],\n",
       "       [0.05006478],\n",
       "       [0.05165513],\n",
       "       [0.03944576],\n",
       "       [0.05363371],\n",
       "       [0.05186807],\n",
       "       [0.0586239 ],\n",
       "       [0.06818481],\n",
       "       [0.09080039],\n",
       "       [0.08057547],\n",
       "       [0.07845339],\n",
       "       [0.07267725],\n",
       "       [0.05793554],\n",
       "       [0.0586387 ],\n",
       "       [0.06225507],\n",
       "       [0.04972336],\n",
       "       [0.04146094],\n",
       "       [0.04959777],\n",
       "       [0.05904049],\n",
       "       [0.05587619],\n",
       "       [0.04751333],\n",
       "       [0.04824166],\n",
       "       [0.05926654],\n",
       "       [0.05355315],\n",
       "       [0.05160686],\n",
       "       [0.05796063],\n",
       "       [0.06035896],\n",
       "       [0.0644274 ],\n",
       "       [0.06141378],\n",
       "       [0.05163195],\n",
       "       [0.06101194],\n",
       "       [0.06099938]])"
      ]
     },
     "execution_count": 114,
     "metadata": {},
     "output_type": "execute_result"
    }
   ],
   "source": [
    "y"
   ]
  },
  {
   "cell_type": "markdown",
   "id": "af53bca7",
   "metadata": {},
   "source": [
    "### Build LSTM Model"
   ]
  },
  {
   "cell_type": "code",
   "execution_count": 115,
   "id": "4fb537dc",
   "metadata": {},
   "outputs": [],
   "source": [
    "n_features = 1"
   ]
  },
  {
   "cell_type": "code",
   "execution_count": 116,
   "id": "7a29ce32",
   "metadata": {},
   "outputs": [],
   "source": [
    "model = Sequential()\n",
    "model.add(LSTM(60, activation='relu', return_sequences=True, input_shape=(length60, n_features)))\n",
    "model.add(Dropout(0.2))\n",
    "model.add(LSTM(units=60, activation='relu',return_sequences=True))\n",
    "model.add(Dropout(0.2))\n",
    "model.add(LSTM(units=60, activation='relu'))\n",
    "model.add(Dense(1))"
   ]
  },
  {
   "cell_type": "markdown",
   "id": "ff47f904",
   "metadata": {},
   "source": [
    "### Compile model"
   ]
  },
  {
   "cell_type": "code",
   "execution_count": 117,
   "id": "fac48af3",
   "metadata": {},
   "outputs": [
    {
     "name": "stdout",
     "output_type": "stream",
     "text": [
      "Model: \"sequential_2\"\n",
      "_________________________________________________________________\n",
      " Layer (type)                Output Shape              Param #   \n",
      "=================================================================\n",
      " lstm_3 (LSTM)               (None, 61, 60)            14880     \n",
      "                                                                 \n",
      " dropout_2 (Dropout)         (None, 61, 60)            0         \n",
      "                                                                 \n",
      " lstm_4 (LSTM)               (None, 61, 60)            29040     \n",
      "                                                                 \n",
      " dropout_3 (Dropout)         (None, 61, 60)            0         \n",
      "                                                                 \n",
      " lstm_5 (LSTM)               (None, 60)                29040     \n",
      "                                                                 \n",
      " dense_1 (Dense)             (None, 1)                 61        \n",
      "                                                                 \n",
      "=================================================================\n",
      "Total params: 73,021\n",
      "Trainable params: 73,021\n",
      "Non-trainable params: 0\n",
      "_________________________________________________________________\n"
     ]
    }
   ],
   "source": [
    "model.compile(optimizer='adam',loss='mse')\n",
    "model.summary()"
   ]
  },
  {
   "cell_type": "markdown",
   "id": "117858a8",
   "metadata": {},
   "source": [
    "### Train(Fit) Model using fit_generator()"
   ]
  },
  {
   "cell_type": "code",
   "execution_count": 118,
   "id": "8d7d354e",
   "metadata": {},
   "outputs": [
    {
     "name": "stdout",
     "output_type": "stream",
     "text": [
      "Epoch 1/100\n"
     ]
    },
    {
     "name": "stderr",
     "output_type": "stream",
     "text": [
      "/opt/conda/lib/python3.7/site-packages/ipykernel_launcher.py:1: UserWarning: `Model.fit_generator` is deprecated and will be removed in a future version. Please use `Model.fit`, which supports generators.\n",
      "  \"\"\"Entry point for launching an IPython kernel.\n"
     ]
    },
    {
     "name": "stdout",
     "output_type": "stream",
     "text": [
      "27/27 [==============================] - 5s 66ms/step - loss: 0.1560\n",
      "Epoch 2/100\n",
      "27/27 [==============================] - 2s 65ms/step - loss: 0.0105\n",
      "Epoch 3/100\n",
      "27/27 [==============================] - 2s 67ms/step - loss: 0.0065\n",
      "Epoch 4/100\n",
      "27/27 [==============================] - 2s 66ms/step - loss: 0.0053\n",
      "Epoch 5/100\n",
      "27/27 [==============================] - 2s 66ms/step - loss: 0.0109\n",
      "Epoch 6/100\n",
      "27/27 [==============================] - 2s 68ms/step - loss: 0.0123\n",
      "Epoch 7/100\n",
      "27/27 [==============================] - 2s 67ms/step - loss: 0.0046\n",
      "Epoch 8/100\n",
      "27/27 [==============================] - 2s 65ms/step - loss: 0.0044\n",
      "Epoch 9/100\n",
      "27/27 [==============================] - 2s 66ms/step - loss: 0.0043\n",
      "Epoch 10/100\n",
      "27/27 [==============================] - 2s 67ms/step - loss: 0.0040\n",
      "Epoch 11/100\n",
      "27/27 [==============================] - 2s 66ms/step - loss: 0.0052\n",
      "Epoch 12/100\n",
      "27/27 [==============================] - 2s 67ms/step - loss: 0.0031\n",
      "Epoch 13/100\n",
      "27/27 [==============================] - 2s 67ms/step - loss: 0.0049\n",
      "Epoch 14/100\n",
      "27/27 [==============================] - 2s 67ms/step - loss: 0.0080\n",
      "Epoch 15/100\n",
      "27/27 [==============================] - 2s 66ms/step - loss: 0.0048\n",
      "Epoch 16/100\n",
      "27/27 [==============================] - 2s 67ms/step - loss: 0.0027\n",
      "Epoch 17/100\n",
      "27/27 [==============================] - 2s 67ms/step - loss: 0.0030\n",
      "Epoch 18/100\n",
      "27/27 [==============================] - 2s 66ms/step - loss: 0.0027\n",
      "Epoch 19/100\n",
      "27/27 [==============================] - 2s 65ms/step - loss: 0.0022\n",
      "Epoch 20/100\n",
      "27/27 [==============================] - 2s 67ms/step - loss: 0.0040\n",
      "Epoch 21/100\n",
      "27/27 [==============================] - 2s 67ms/step - loss: 0.0029\n",
      "Epoch 22/100\n",
      "27/27 [==============================] - 2s 69ms/step - loss: 0.0030\n",
      "Epoch 23/100\n",
      "27/27 [==============================] - 2s 74ms/step - loss: 0.0025\n",
      "Epoch 24/100\n",
      "27/27 [==============================] - 2s 67ms/step - loss: 0.0024\n",
      "Epoch 25/100\n",
      "27/27 [==============================] - 2s 67ms/step - loss: 0.0023\n",
      "Epoch 26/100\n",
      "27/27 [==============================] - 2s 65ms/step - loss: 0.0026\n",
      "Epoch 27/100\n",
      "27/27 [==============================] - 2s 67ms/step - loss: 0.0026\n",
      "Epoch 28/100\n",
      "27/27 [==============================] - 2s 67ms/step - loss: 0.0032\n",
      "Epoch 29/100\n",
      "27/27 [==============================] - 2s 66ms/step - loss: 0.0023\n",
      "Epoch 30/100\n",
      "27/27 [==============================] - 2s 66ms/step - loss: 0.0028\n",
      "Epoch 31/100\n",
      "27/27 [==============================] - 2s 65ms/step - loss: 0.0036\n",
      "Epoch 32/100\n",
      "27/27 [==============================] - 2s 67ms/step - loss: 0.0023\n",
      "Epoch 33/100\n",
      "27/27 [==============================] - 2s 66ms/step - loss: 0.0023\n",
      "Epoch 34/100\n",
      "27/27 [==============================] - 2s 67ms/step - loss: 0.0024\n",
      "Epoch 35/100\n",
      "27/27 [==============================] - 2s 67ms/step - loss: 0.0020\n",
      "Epoch 36/100\n",
      "27/27 [==============================] - 2s 66ms/step - loss: 0.0023\n",
      "Epoch 37/100\n",
      "27/27 [==============================] - 2s 67ms/step - loss: 0.0021\n",
      "Epoch 38/100\n",
      "27/27 [==============================] - 2s 68ms/step - loss: 0.0020\n",
      "Epoch 39/100\n",
      "27/27 [==============================] - 2s 66ms/step - loss: 0.0022\n",
      "Epoch 40/100\n",
      "27/27 [==============================] - 2s 67ms/step - loss: 0.0024\n",
      "Epoch 41/100\n",
      "27/27 [==============================] - 2s 68ms/step - loss: 0.0021\n",
      "Epoch 42/100\n",
      "27/27 [==============================] - 2s 66ms/step - loss: 0.0024\n",
      "Epoch 43/100\n",
      "27/27 [==============================] - 2s 64ms/step - loss: 0.0024\n",
      "Epoch 44/100\n",
      "27/27 [==============================] - 2s 66ms/step - loss: 0.0021\n",
      "Epoch 45/100\n",
      "27/27 [==============================] - 2s 67ms/step - loss: 0.0020\n",
      "Epoch 46/100\n",
      "27/27 [==============================] - 2s 66ms/step - loss: 0.0024\n",
      "Epoch 47/100\n",
      "27/27 [==============================] - 2s 66ms/step - loss: 0.0024\n",
      "Epoch 48/100\n",
      "27/27 [==============================] - 2s 68ms/step - loss: 0.0022\n",
      "Epoch 49/100\n",
      "27/27 [==============================] - 2s 66ms/step - loss: 0.0018\n",
      "Epoch 50/100\n",
      "27/27 [==============================] - 2s 67ms/step - loss: 0.0019\n",
      "Epoch 51/100\n",
      "27/27 [==============================] - 2s 67ms/step - loss: 0.0017\n",
      "Epoch 52/100\n",
      "27/27 [==============================] - 2s 66ms/step - loss: 0.0020\n",
      "Epoch 53/100\n",
      "27/27 [==============================] - 2s 68ms/step - loss: 0.0019\n",
      "Epoch 54/100\n",
      "27/27 [==============================] - 2s 73ms/step - loss: 0.0022\n",
      "Epoch 55/100\n",
      "27/27 [==============================] - 2s 67ms/step - loss: 0.0022\n",
      "Epoch 56/100\n",
      "27/27 [==============================] - 2s 68ms/step - loss: 0.0025\n",
      "Epoch 57/100\n",
      "27/27 [==============================] - 2s 69ms/step - loss: 0.0021\n",
      "Epoch 58/100\n",
      "27/27 [==============================] - 2s 68ms/step - loss: 0.0022\n",
      "Epoch 59/100\n",
      "27/27 [==============================] - 2s 67ms/step - loss: 0.0028\n",
      "Epoch 60/100\n",
      "27/27 [==============================] - 2s 68ms/step - loss: 0.0023\n",
      "Epoch 61/100\n",
      "27/27 [==============================] - 2s 66ms/step - loss: 0.0025\n",
      "Epoch 62/100\n",
      "27/27 [==============================] - 2s 68ms/step - loss: 0.0022\n",
      "Epoch 63/100\n",
      "27/27 [==============================] - 2s 66ms/step - loss: 0.0018\n",
      "Epoch 64/100\n",
      "27/27 [==============================] - 2s 68ms/step - loss: 0.0027\n",
      "Epoch 65/100\n",
      "27/27 [==============================] - 2s 66ms/step - loss: 0.0021\n",
      "Epoch 66/100\n",
      "27/27 [==============================] - 2s 67ms/step - loss: 0.0019\n",
      "Epoch 67/100\n",
      "27/27 [==============================] - 2s 67ms/step - loss: 0.0019\n",
      "Epoch 68/100\n",
      "27/27 [==============================] - 2s 66ms/step - loss: 0.0019\n",
      "Epoch 69/100\n",
      "27/27 [==============================] - 2s 67ms/step - loss: 0.0031\n",
      "Epoch 70/100\n",
      "27/27 [==============================] - 2s 65ms/step - loss: 0.0021\n",
      "Epoch 71/100\n",
      "27/27 [==============================] - 2s 65ms/step - loss: 0.0017\n",
      "Epoch 72/100\n",
      "27/27 [==============================] - 2s 66ms/step - loss: 0.0020\n",
      "Epoch 73/100\n",
      "27/27 [==============================] - 2s 67ms/step - loss: 0.0019\n",
      "Epoch 74/100\n",
      "27/27 [==============================] - 2s 67ms/step - loss: 0.0032\n",
      "Epoch 75/100\n",
      "27/27 [==============================] - 2s 67ms/step - loss: 0.0020\n",
      "Epoch 76/100\n",
      "27/27 [==============================] - 2s 66ms/step - loss: 0.0017\n",
      "Epoch 77/100\n",
      "27/27 [==============================] - 2s 65ms/step - loss: 0.0022\n",
      "Epoch 78/100\n",
      "27/27 [==============================] - 2s 66ms/step - loss: 0.0029\n",
      "Epoch 79/100\n",
      "27/27 [==============================] - 2s 67ms/step - loss: 0.0058\n",
      "Epoch 80/100\n",
      "27/27 [==============================] - 2s 67ms/step - loss: 0.0055\n",
      "Epoch 81/100\n",
      "27/27 [==============================] - 2s 66ms/step - loss: 0.0029\n",
      "Epoch 82/100\n",
      "27/27 [==============================] - 2s 65ms/step - loss: 0.0019\n",
      "Epoch 83/100\n",
      "27/27 [==============================] - 2s 67ms/step - loss: 0.0019\n",
      "Epoch 84/100\n",
      "27/27 [==============================] - 2s 67ms/step - loss: 0.0025\n",
      "Epoch 85/100\n",
      "27/27 [==============================] - 2s 70ms/step - loss: 0.0019\n",
      "Epoch 86/100\n",
      "27/27 [==============================] - 2s 73ms/step - loss: 0.0015\n",
      "Epoch 87/100\n",
      "27/27 [==============================] - 2s 65ms/step - loss: 0.0020\n",
      "Epoch 88/100\n",
      "27/27 [==============================] - 2s 67ms/step - loss: 0.0020\n",
      "Epoch 89/100\n",
      "27/27 [==============================] - 2s 68ms/step - loss: 0.0018\n",
      "Epoch 90/100\n",
      "27/27 [==============================] - 2s 66ms/step - loss: 0.0017\n",
      "Epoch 91/100\n",
      "27/27 [==============================] - 2s 66ms/step - loss: 0.0020\n",
      "Epoch 92/100\n",
      "27/27 [==============================] - 2s 66ms/step - loss: 0.0017\n",
      "Epoch 93/100\n",
      "27/27 [==============================] - 2s 67ms/step - loss: 0.0017\n",
      "Epoch 94/100\n",
      "27/27 [==============================] - 2s 67ms/step - loss: 0.0015\n",
      "Epoch 95/100\n",
      "27/27 [==============================] - 2s 66ms/step - loss: 0.0020\n",
      "Epoch 96/100\n",
      "27/27 [==============================] - 2s 65ms/step - loss: 0.0017\n",
      "Epoch 97/100\n",
      "27/27 [==============================] - 2s 68ms/step - loss: 0.0016\n",
      "Epoch 98/100\n",
      "27/27 [==============================] - 2s 65ms/step - loss: 0.0018\n",
      "Epoch 99/100\n",
      "27/27 [==============================] - 2s 65ms/step - loss: 0.0019\n",
      "Epoch 100/100\n",
      "27/27 [==============================] - 2s 68ms/step - loss: 0.0021\n"
     ]
    },
    {
     "data": {
      "text/plain": [
       "<keras.callbacks.History at 0x7f7bffd40e50>"
      ]
     },
     "execution_count": 118,
     "metadata": {},
     "output_type": "execute_result"
    }
   ],
   "source": [
    "model.fit_generator(train_tsGenerator60, epochs=100)"
   ]
  },
  {
   "cell_type": "markdown",
   "id": "00bd68d2",
   "metadata": {},
   "source": [
    "### Visualize model"
   ]
  },
  {
   "cell_type": "code",
   "execution_count": 119,
   "id": "140c3e1c",
   "metadata": {},
   "outputs": [
    {
     "data": {
      "text/plain": [
       "dict_keys(['loss'])"
      ]
     },
     "execution_count": 119,
     "metadata": {},
     "output_type": "execute_result"
    }
   ],
   "source": [
    "loss_history_keys = model.history.history.keys()\n",
    "loss_history_keys"
   ]
  },
  {
   "cell_type": "code",
   "execution_count": 120,
   "id": "7b555ad4",
   "metadata": {},
   "outputs": [
    {
     "data": {
      "text/plain": [
       "<AxesSubplot:>"
      ]
     },
     "execution_count": 120,
     "metadata": {},
     "output_type": "execute_result"
    },
    {
     "data": {
      "image/png": "[encoded data removed]",
      "text/plain": [
       "<Figure size 640x480 with 1 Axes>"
      ]
     },
     "metadata": {},
     "output_type": "display_data"
    }
   ],
   "source": [
    "df_model_loss = pd.DataFrame(model.history.history)\n",
    "df_model_loss.plot()"
   ]
  },
  {
   "cell_type": "markdown",
   "id": "647b962c",
   "metadata": {},
   "source": [
    "### Prediction for testing: Using TimeSeriesGenerator"
   ]
  },
  {
   "cell_type": "code",
   "execution_count": 121,
   "id": "f244d8f8",
   "metadata": {},
   "outputs": [],
   "source": [
    "batch_size1 = 1"
   ]
  },
  {
   "cell_type": "code",
   "execution_count": 76,
   "id": "3ff61969",
   "metadata": {},
   "outputs": [],
   "source": [
    "test_tsGenerator61 = TimeseriesGenerator(normalized_test, normalized_test, length=length60, batch_size=batch_size1)"
   ]
  },
  {
   "cell_type": "markdown",
   "id": "77b1dfed",
   "metadata": {},
   "source": [
    "### Predict Future Data Points for Testing"
   ]
  },
  {
   "cell_type": "code",
   "execution_count": 77,
   "id": "1743ea78",
   "metadata": {},
   "outputs": [
    {
     "name": "stdout",
     "output_type": "stream",
     "text": [
      "276/276 [==============================] - 4s 12ms/step\n"
     ]
    }
   ],
   "source": [
    "normalized_prediction = model.predict(test_tsGenerator60)"
   ]
  },
  {
   "cell_type": "code",
   "execution_count": 78,
   "id": "867d517b",
   "metadata": {},
   "outputs": [
    {
     "data": {
      "text/plain": [
       "array([[0.77462345],\n",
       "       [0.772095  ],\n",
       "       [0.7683899 ],\n",
       "       [0.7640103 ],\n",
       "       [0.7586643 ],\n",
       "       [0.7493279 ],\n",
       "       [0.7379589 ],\n",
       "       [0.725463  ],\n",
       "       [0.713117  ],\n",
       "       [0.70282745],\n",
       "       [0.69574803],\n",
       "       [0.69164574],\n",
       "       [0.68981266],\n",
       "       [0.69017744],\n",
       "       [0.69185024],\n",
       "       [0.69454175],\n",
       "       [0.6983478 ],\n",
       "       [0.7027851 ],\n",
       "       [0.7077478 ],\n",
       "       [0.7133637 ],\n",
       "       [0.71871334],\n",
       "       [0.7215944 ],\n",
       "       [0.7216995 ],\n",
       "       [0.719495  ],\n",
       "       [0.7162464 ],\n",
       "       [0.713638  ],\n",
       "       [0.7127023 ],\n",
       "       [0.71403956],\n",
       "       [0.71766216],\n",
       "       [0.72178996],\n",
       "       [0.7261608 ],\n",
       "       [0.7312837 ],\n",
       "       [0.736941  ],\n",
       "       [0.742662  ],\n",
       "       [0.74830574],\n",
       "       [0.75370955],\n",
       "       [0.75814027],\n",
       "       [0.76145023],\n",
       "       [0.7627094 ],\n",
       "       [0.7627889 ],\n",
       "       [0.76269996],\n",
       "       [0.76220745],\n",
       "       [0.7611138 ],\n",
       "       [0.76433027],\n",
       "       [0.77131236],\n",
       "       [0.7804135 ],\n",
       "       [0.7901    ],\n",
       "       [0.7990928 ],\n",
       "       [0.80594045],\n",
       "       [0.80794793],\n",
       "       [0.80711514],\n",
       "       [0.8049948 ],\n",
       "       [0.8042561 ],\n",
       "       [0.80422115],\n",
       "       [0.8038536 ],\n",
       "       [0.8044433 ],\n",
       "       [0.8039154 ],\n",
       "       [0.80245167],\n",
       "       [0.80105567],\n",
       "       [0.8011758 ],\n",
       "       [0.80180925],\n",
       "       [0.803135  ],\n",
       "       [0.8047804 ],\n",
       "       [0.80409986],\n",
       "       [0.8024237 ],\n",
       "       [0.8002784 ],\n",
       "       [0.79827756],\n",
       "       [0.79789037],\n",
       "       [0.79875   ],\n",
       "       [0.7992144 ],\n",
       "       [0.79982275],\n",
       "       [0.8019691 ],\n",
       "       [0.8052122 ],\n",
       "       [0.80899525],\n",
       "       [0.81289834],\n",
       "       [0.8172658 ],\n",
       "       [0.822294  ],\n",
       "       [0.82781297],\n",
       "       [0.8330765 ],\n",
       "       [0.83759844],\n",
       "       [0.8414143 ],\n",
       "       [0.84484255],\n",
       "       [0.8473586 ],\n",
       "       [0.8492559 ],\n",
       "       [0.8497325 ],\n",
       "       [0.8506377 ],\n",
       "       [0.85188556],\n",
       "       [0.85237736],\n",
       "       [0.851757  ],\n",
       "       [0.849456  ],\n",
       "       [0.84422636],\n",
       "       [0.83785814],\n",
       "       [0.83273613],\n",
       "       [0.8292479 ],\n",
       "       [0.8261528 ],\n",
       "       [0.8241324 ],\n",
       "       [0.8234586 ],\n",
       "       [0.8241998 ],\n",
       "       [0.8260062 ],\n",
       "       [0.82937175],\n",
       "       [0.8338313 ],\n",
       "       [0.8391116 ],\n",
       "       [0.8444281 ],\n",
       "       [0.8493551 ],\n",
       "       [0.853465  ],\n",
       "       [0.8574493 ],\n",
       "       [0.8613459 ],\n",
       "       [0.86518687],\n",
       "       [0.86964244],\n",
       "       [0.87336016],\n",
       "       [0.87607443],\n",
       "       [0.877797  ],\n",
       "       [0.8794574 ],\n",
       "       [0.88182485],\n",
       "       [0.8848016 ],\n",
       "       [0.8881012 ],\n",
       "       [0.89199483],\n",
       "       [0.89627385],\n",
       "       [0.90015686],\n",
       "       [0.903406  ],\n",
       "       [0.9059475 ],\n",
       "       [0.9084535 ],\n",
       "       [0.9117146 ],\n",
       "       [0.9150791 ],\n",
       "       [0.9180519 ],\n",
       "       [0.9198468 ],\n",
       "       [0.920523  ],\n",
       "       [0.920062  ],\n",
       "       [0.9195146 ],\n",
       "       [0.919475  ],\n",
       "       [0.9199002 ],\n",
       "       [0.9202462 ],\n",
       "       [0.9195531 ],\n",
       "       [0.9183859 ],\n",
       "       [0.91816854],\n",
       "       [0.91915095],\n",
       "       [0.92144096],\n",
       "       [0.9246869 ],\n",
       "       [0.9284482 ],\n",
       "       [0.9323343 ],\n",
       "       [0.9362316 ],\n",
       "       [0.93985456],\n",
       "       [0.94352007],\n",
       "       [0.9469029 ],\n",
       "       [0.94981784],\n",
       "       [0.9523588 ],\n",
       "       [0.9542557 ],\n",
       "       [0.9555411 ],\n",
       "       [0.95608175],\n",
       "       [0.95680606],\n",
       "       [0.9574545 ],\n",
       "       [0.9571803 ],\n",
       "       [0.9562536 ],\n",
       "       [0.95621014],\n",
       "       [0.956834  ],\n",
       "       [0.95903593],\n",
       "       [0.9623685 ],\n",
       "       [0.9666719 ],\n",
       "       [0.9719514 ],\n",
       "       [0.97800964],\n",
       "       [0.984634  ],\n",
       "       [0.991027  ],\n",
       "       [0.9971285 ],\n",
       "       [1.003157  ],\n",
       "       [1.0099024 ],\n",
       "       [1.0171156 ],\n",
       "       [1.0243726 ],\n",
       "       [1.0312884 ],\n",
       "       [1.0368774 ],\n",
       "       [1.0396116 ],\n",
       "       [1.041066  ],\n",
       "       [1.0420061 ],\n",
       "       [1.0426309 ],\n",
       "       [1.0421034 ],\n",
       "       [1.0427581 ],\n",
       "       [1.04315   ],\n",
       "       [1.0432653 ],\n",
       "       [1.0441384 ],\n",
       "       [1.0457479 ],\n",
       "       [1.0488648 ],\n",
       "       [1.0529919 ],\n",
       "       [1.0579071 ],\n",
       "       [1.06295   ],\n",
       "       [1.0679544 ],\n",
       "       [1.0726095 ],\n",
       "       [1.0770121 ],\n",
       "       [1.0807309 ],\n",
       "       [1.0823771 ],\n",
       "       [1.0781875 ],\n",
       "       [1.068007  ],\n",
       "       [1.055181  ],\n",
       "       [1.0371411 ],\n",
       "       [1.0184534 ],\n",
       "       [1.0043652 ],\n",
       "       [0.9925675 ],\n",
       "       [0.9849676 ],\n",
       "       [0.9775397 ],\n",
       "       [0.9689514 ],\n",
       "       [0.9551408 ],\n",
       "       [0.94175243],\n",
       "       [0.92657757],\n",
       "       [0.9053631 ],\n",
       "       [0.88636863],\n",
       "       [0.86402625],\n",
       "       [0.8416658 ],\n",
       "       [0.81979984],\n",
       "       [0.8004034 ],\n",
       "       [0.7820704 ],\n",
       "       [0.7645033 ],\n",
       "       [0.75187737],\n",
       "       [0.7429046 ],\n",
       "       [0.739281  ],\n",
       "       [0.73804635],\n",
       "       [0.73965675],\n",
       "       [0.7438207 ],\n",
       "       [0.74674016],\n",
       "       [0.7486038 ],\n",
       "       [0.74821   ],\n",
       "       [0.75007766],\n",
       "       [0.7545567 ],\n",
       "       [0.76171833],\n",
       "       [0.7706472 ],\n",
       "       [0.78051054],\n",
       "       [0.7920661 ],\n",
       "       [0.80430686],\n",
       "       [0.81640255],\n",
       "       [0.82835245],\n",
       "       [0.83917564],\n",
       "       [0.8457554 ],\n",
       "       [0.85111463],\n",
       "       [0.85631156],\n",
       "       [0.86158997],\n",
       "       [0.8667197 ],\n",
       "       [0.86904943],\n",
       "       [0.8733329 ],\n",
       "       [0.87990487],\n",
       "       [0.8871659 ],\n",
       "       [0.89457124],\n",
       "       [0.90242875],\n",
       "       [0.91019356],\n",
       "       [0.9183238 ],\n",
       "       [0.9269676 ],\n",
       "       [0.93615365],\n",
       "       [0.9444178 ],\n",
       "       [0.950297  ],\n",
       "       [0.9543747 ],\n",
       "       [0.95775914],\n",
       "       [0.96109205],\n",
       "       [0.96405315],\n",
       "       [0.96773934],\n",
       "       [0.9718203 ],\n",
       "       [0.9762489 ],\n",
       "       [0.98094475],\n",
       "       [0.9856388 ],\n",
       "       [0.9900471 ],\n",
       "       [0.99443597],\n",
       "       [0.99875593],\n",
       "       [1.0030997 ],\n",
       "       [1.0071895 ],\n",
       "       [1.0099611 ],\n",
       "       [1.0125362 ],\n",
       "       [1.0152955 ],\n",
       "       [1.0184921 ],\n",
       "       [1.0222484 ],\n",
       "       [1.023338  ],\n",
       "       [1.0228806 ],\n",
       "       [1.0219291 ],\n",
       "       [1.0217135 ],\n",
       "       [1.0225434 ],\n",
       "       [1.0236287 ],\n",
       "       [1.0245924 ],\n",
       "       [1.0260507 ],\n",
       "       [1.0282989 ],\n",
       "       [1.0298835 ],\n",
       "       [1.0310931 ],\n",
       "       [1.027071  ]], dtype=float32)"
      ]
     },
     "execution_count": 78,
     "metadata": {},
     "output_type": "execute_result"
    }
   ],
   "source": [
    "normalized_prediction"
   ]
  },
  {
   "cell_type": "code",
   "execution_count": 79,
   "id": "aa71eeb9",
   "metadata": {},
   "outputs": [
    {
     "data": {
      "text/plain": [
       "276"
      ]
     },
     "execution_count": 79,
     "metadata": {},
     "output_type": "execute_result"
    }
   ],
   "source": [
    "len(normalized_prediction)"
   ]
  },
  {
   "cell_type": "code",
   "execution_count": 80,
   "id": "8849e5a8",
   "metadata": {},
   "outputs": [],
   "source": [
    "prediction = scaler.inverse_transform(normalized_prediction)"
   ]
  },
  {
   "cell_type": "code",
   "execution_count": 122,
   "id": "f3413368",
   "metadata": {},
   "outputs": [],
   "source": [
    "prediction_index = np.arange(1106, 1382, step=1)\n",
    "df_prediction = pd.DataFrame(data=prediction,index=prediction_index,columns=['Prediction'])"
   ]
  },
  {
   "cell_type": "code",
   "execution_count": 123,
   "id": "59246ce2",
   "metadata": {},
   "outputs": [
    {
     "data": {
      "text/html": [
       "<div>\n",
       "<style scoped>\n",
       "    .dataframe tbody tr th:only-of-type {\n",
       "        vertical-align: middle;\n",
       "    }\n",
       "\n",
       "    .dataframe tbody tr th {\n",
       "        vertical-align: top;\n",
       "    }\n",
       "\n",
       "    .dataframe thead th {\n",
       "        text-align: right;\n",
       "    }\n",
       "</style>\n",
       "<table border=\"1\" class=\"dataframe\">\n",
       "  <thead>\n",
       "    <tr style=\"text-align: right;\">\n",
       "      <th></th>\n",
       "      <th>Prediction</th>\n",
       "    </tr>\n",
       "  </thead>\n",
       "  <tbody>\n",
       "    <tr>\n",
       "      <th>1106</th>\n",
       "      <td>55.404743</td>\n",
       "    </tr>\n",
       "    <tr>\n",
       "      <th>1107</th>\n",
       "      <td>55.304066</td>\n",
       "    </tr>\n",
       "    <tr>\n",
       "      <th>1108</th>\n",
       "      <td>55.156528</td>\n",
       "    </tr>\n",
       "    <tr>\n",
       "      <th>1109</th>\n",
       "      <td>54.982143</td>\n",
       "    </tr>\n",
       "    <tr>\n",
       "      <th>1110</th>\n",
       "      <td>54.769268</td>\n",
       "    </tr>\n",
       "    <tr>\n",
       "      <th>...</th>\n",
       "      <td>...</td>\n",
       "    </tr>\n",
       "    <tr>\n",
       "      <th>1377</th>\n",
       "      <td>65.416306</td>\n",
       "    </tr>\n",
       "    <tr>\n",
       "      <th>1378</th>\n",
       "      <td>65.505829</td>\n",
       "    </tr>\n",
       "    <tr>\n",
       "      <th>1379</th>\n",
       "      <td>65.568932</td>\n",
       "    </tr>\n",
       "    <tr>\n",
       "      <th>1380</th>\n",
       "      <td>65.617096</td>\n",
       "    </tr>\n",
       "    <tr>\n",
       "      <th>1381</th>\n",
       "      <td>65.456940</td>\n",
       "    </tr>\n",
       "  </tbody>\n",
       "</table>\n",
       "<p>276 rows × 1 columns</p>\n",
       "</div>"
      ],
      "text/plain": [
       "      Prediction\n",
       "1106   55.404743\n",
       "1107   55.304066\n",
       "1108   55.156528\n",
       "1109   54.982143\n",
       "1110   54.769268\n",
       "...          ...\n",
       "1377   65.416306\n",
       "1378   65.505829\n",
       "1379   65.568932\n",
       "1380   65.617096\n",
       "1381   65.456940\n",
       "\n",
       "[276 rows x 1 columns]"
      ]
     },
     "execution_count": 123,
     "metadata": {},
     "output_type": "execute_result"
    }
   ],
   "source": [
    "df_prediction"
   ]
  },
  {
   "cell_type": "markdown",
   "id": "e30d6db7",
   "metadata": {},
   "source": [
    "### Visualize Prediction"
   ]
  },
  {
   "cell_type": "code",
   "execution_count": 124,
   "id": "709294e4",
   "metadata": {},
   "outputs": [
    {
     "data": {
      "text/plain": [
       "<AxesSubplot:>"
      ]
     },
     "execution_count": 124,
     "metadata": {},
     "output_type": "execute_result"
    },
    {
     "data": {
      "image/png": "[encoded data removed]",
      "text/plain": [
       "<Figure size 800x1200 with 1 Axes>"
      ]
     },
     "metadata": {},
     "output_type": "display_data"
    }
   ],
   "source": [
    "ax = data_train.plot()\n",
    "df_prediction.plot(ax=ax, figsize=(8,12))"
   ]
  },
  {
   "cell_type": "markdown",
   "id": "4b6206bd",
   "metadata": {},
   "source": [
    "### visualize prediction and compare actual close price"
   ]
  },
  {
   "cell_type": "code",
   "execution_count": 125,
   "id": "d2a82ccc",
   "metadata": {},
   "outputs": [
    {
     "data": {
      "text/plain": [
       "<AxesSubplot:>"
      ]
     },
     "execution_count": 125,
     "metadata": {},
     "output_type": "execute_result"
    },
    {
     "data": {
      "image/png": "[encoded data removed]",
      "text/plain": [
       "<Figure size 800x1200 with 1 Axes>"
      ]
     },
     "metadata": {},
     "output_type": "display_data"
    }
   ],
   "source": [
    "ax=df.plot()\n",
    "df_prediction.plot(ax=ax, figsize=(8,12))"
   ]
  },
  {
   "cell_type": "markdown",
   "id": "7989eeb5",
   "metadata": {},
   "source": [
    "### Time series data Forecasting with LSTM"
   ]
  },
  {
   "cell_type": "code",
   "execution_count": 126,
   "id": "d8b852f6",
   "metadata": {},
   "outputs": [],
   "source": [
    "full_scaler=MinMaxScaler()\n",
    "normalized_full_data = full_scaler.fit_transform(df)"
   ]
  },
  {
   "cell_type": "code",
   "execution_count": 127,
   "id": "5b4cee62",
   "metadata": {},
   "outputs": [
    {
     "data": {
      "text/plain": [
       "61"
      ]
     },
     "execution_count": 127,
     "metadata": {},
     "output_type": "execute_result"
    }
   ],
   "source": [
    "length60"
   ]
  },
  {
   "cell_type": "code",
   "execution_count": 128,
   "id": "b3691372",
   "metadata": {},
   "outputs": [],
   "source": [
    "forecast_tsGenerator = TimeseriesGenerator(normalized_full_data, normalized_full_data, length=length60, batch_size=batch_size32)"
   ]
  },
  {
   "cell_type": "markdown",
   "id": "79255a7f",
   "metadata": {},
   "source": [
    "### Build, Compile, and Fit LSTM Model for Forecasting"
   ]
  },
  {
   "cell_type": "code",
   "execution_count": 129,
   "id": "8a0260ca",
   "metadata": {},
   "outputs": [
    {
     "name": "stdout",
     "output_type": "stream",
     "text": [
      "Epoch 1/100\n",
      " 2/34 [>.............................] - ETA: 2s - loss: 9.6947e-04"
     ]
    },
    {
     "name": "stderr",
     "output_type": "stream",
     "text": [
      "/opt/conda/lib/python3.7/site-packages/ipykernel_launcher.py:1: UserWarning: `Model.fit_generator` is deprecated and will be removed in a future version. Please use `Model.fit`, which supports generators.\n",
      "  \"\"\"Entry point for launching an IPython kernel.\n"
     ]
    },
    {
     "name": "stdout",
     "output_type": "stream",
     "text": [
      "34/34 [==============================] - 2s 68ms/step - loss: 0.0017\n",
      "Epoch 2/100\n",
      "34/34 [==============================] - 2s 67ms/step - loss: 0.0017\n",
      "Epoch 3/100\n",
      "34/34 [==============================] - 2s 66ms/step - loss: 0.0015\n",
      "Epoch 4/100\n",
      "34/34 [==============================] - 2s 66ms/step - loss: 0.0015\n",
      "Epoch 5/100\n",
      "34/34 [==============================] - 2s 67ms/step - loss: 0.0020\n",
      "Epoch 6/100\n",
      "34/34 [==============================] - 2s 66ms/step - loss: 0.0024\n",
      "Epoch 7/100\n",
      "34/34 [==============================] - 2s 67ms/step - loss: 0.0016\n",
      "Epoch 8/100\n",
      "34/34 [==============================] - 2s 67ms/step - loss: 0.0016\n",
      "Epoch 9/100\n",
      "34/34 [==============================] - 2s 66ms/step - loss: 0.0018\n",
      "Epoch 10/100\n",
      "34/34 [==============================] - 2s 65ms/step - loss: 0.0014\n",
      "Epoch 11/100\n",
      "34/34 [==============================] - 2s 66ms/step - loss: 0.0015\n",
      "Epoch 12/100\n",
      "34/34 [==============================] - 2s 67ms/step - loss: 0.0024\n",
      "Epoch 13/100\n",
      "34/34 [==============================] - 2s 67ms/step - loss: 0.0019\n",
      "Epoch 14/100\n",
      "34/34 [==============================] - 2s 66ms/step - loss: 0.0014\n",
      "Epoch 15/100\n",
      "34/34 [==============================] - 2s 67ms/step - loss: 0.0013\n",
      "Epoch 16/100\n",
      "34/34 [==============================] - 2s 66ms/step - loss: 0.0013\n",
      "Epoch 17/100\n",
      "34/34 [==============================] - 2s 65ms/step - loss: 0.0020\n",
      "Epoch 18/100\n",
      "34/34 [==============================] - 2s 65ms/step - loss: 0.0012\n",
      "Epoch 19/100\n",
      "34/34 [==============================] - 2s 65ms/step - loss: 0.0016\n",
      "Epoch 20/100\n",
      "34/34 [==============================] - 2s 66ms/step - loss: 0.0021\n",
      "Epoch 21/100\n",
      "34/34 [==============================] - 2s 66ms/step - loss: 0.0015\n",
      "Epoch 22/100\n",
      "34/34 [==============================] - 2s 65ms/step - loss: 0.0013\n",
      "Epoch 23/100\n",
      "34/34 [==============================] - 2s 66ms/step - loss: 0.0016\n",
      "Epoch 24/100\n",
      "34/34 [==============================] - 2s 65ms/step - loss: 0.0012\n",
      "Epoch 25/100\n",
      "34/34 [==============================] - 2s 70ms/step - loss: 0.0014\n",
      "Epoch 26/100\n",
      "34/34 [==============================] - 2s 69ms/step - loss: 0.0017\n",
      "Epoch 27/100\n",
      "34/34 [==============================] - 2s 65ms/step - loss: 0.0014\n",
      "Epoch 28/100\n",
      "34/34 [==============================] - 2s 65ms/step - loss: 0.0017\n",
      "Epoch 29/100\n",
      "34/34 [==============================] - 2s 66ms/step - loss: 0.0020\n",
      "Epoch 30/100\n",
      "34/34 [==============================] - 2s 65ms/step - loss: 0.0014\n",
      "Epoch 31/100\n",
      "34/34 [==============================] - 2s 66ms/step - loss: 0.0014\n",
      "Epoch 32/100\n",
      "34/34 [==============================] - 2s 65ms/step - loss: 0.0023\n",
      "Epoch 33/100\n",
      "34/34 [==============================] - 2s 66ms/step - loss: 0.0015\n",
      "Epoch 34/100\n",
      "34/34 [==============================] - 2s 65ms/step - loss: 0.0014\n",
      "Epoch 35/100\n",
      "34/34 [==============================] - 2s 67ms/step - loss: 0.0019\n",
      "Epoch 36/100\n",
      "34/34 [==============================] - 2s 67ms/step - loss: 0.0011\n",
      "Epoch 37/100\n",
      "34/34 [==============================] - 2s 66ms/step - loss: 0.0014\n",
      "Epoch 38/100\n",
      "34/34 [==============================] - 2s 67ms/step - loss: 0.0013\n",
      "Epoch 39/100\n",
      "34/34 [==============================] - 2s 66ms/step - loss: 0.0012\n",
      "Epoch 40/100\n",
      "34/34 [==============================] - 2s 66ms/step - loss: 0.0014\n",
      "Epoch 41/100\n",
      "34/34 [==============================] - 2s 66ms/step - loss: 0.0012\n",
      "Epoch 42/100\n",
      "34/34 [==============================] - 2s 66ms/step - loss: 0.0015\n",
      "Epoch 43/100\n",
      "34/34 [==============================] - 2s 66ms/step - loss: 0.0014\n",
      "Epoch 44/100\n",
      "34/34 [==============================] - 2s 65ms/step - loss: 0.0013\n",
      "Epoch 45/100\n",
      "34/34 [==============================] - 2s 66ms/step - loss: 0.0011\n",
      "Epoch 46/100\n",
      "34/34 [==============================] - 2s 65ms/step - loss: 0.0012\n",
      "Epoch 47/100\n",
      "34/34 [==============================] - 2s 67ms/step - loss: 0.0010\n",
      "Epoch 48/100\n",
      "34/34 [==============================] - 2s 66ms/step - loss: 0.0011\n",
      "Epoch 49/100\n",
      "34/34 [==============================] - 2s 65ms/step - loss: 0.0017\n",
      "Epoch 50/100\n",
      "34/34 [==============================] - 2s 66ms/step - loss: 0.0015\n",
      "Epoch 51/100\n",
      "34/34 [==============================] - 2s 68ms/step - loss: 0.0026\n",
      "Epoch 52/100\n",
      "34/34 [==============================] - 2s 70ms/step - loss: 0.0019\n",
      "Epoch 53/100\n",
      "34/34 [==============================] - 2s 66ms/step - loss: 0.0019\n",
      "Epoch 54/100\n",
      "34/34 [==============================] - 2s 65ms/step - loss: 0.0024\n",
      "Epoch 55/100\n",
      "34/34 [==============================] - 2s 65ms/step - loss: 0.0014\n",
      "Epoch 56/100\n",
      "34/34 [==============================] - 2s 65ms/step - loss: 0.0016\n",
      "Epoch 57/100\n",
      "34/34 [==============================] - 2s 65ms/step - loss: 0.0019\n",
      "Epoch 58/100\n",
      "34/34 [==============================] - 2s 66ms/step - loss: 0.0019\n",
      "Epoch 59/100\n",
      "34/34 [==============================] - 2s 65ms/step - loss: 0.0012\n",
      "Epoch 60/100\n",
      "34/34 [==============================] - 2s 64ms/step - loss: 0.0013\n",
      "Epoch 61/100\n",
      "34/34 [==============================] - 2s 67ms/step - loss: 0.0012\n",
      "Epoch 62/100\n",
      "34/34 [==============================] - 2s 65ms/step - loss: 0.0012\n",
      "Epoch 63/100\n",
      "34/34 [==============================] - 2s 65ms/step - loss: 0.0018\n",
      "Epoch 64/100\n",
      "34/34 [==============================] - 2s 65ms/step - loss: 0.0017\n",
      "Epoch 65/100\n",
      "34/34 [==============================] - 2s 66ms/step - loss: 0.0012\n",
      "Epoch 66/100\n",
      "34/34 [==============================] - 2s 66ms/step - loss: 0.0014\n",
      "Epoch 67/100\n",
      "34/34 [==============================] - 2s 66ms/step - loss: 0.0012\n",
      "Epoch 68/100\n",
      "34/34 [==============================] - 2s 66ms/step - loss: 0.0014\n",
      "Epoch 69/100\n",
      "34/34 [==============================] - 2s 66ms/step - loss: 0.0014\n",
      "Epoch 70/100\n",
      "34/34 [==============================] - 2s 66ms/step - loss: 0.0019\n",
      "Epoch 71/100\n",
      "34/34 [==============================] - 2s 65ms/step - loss: 0.0052\n",
      "Epoch 72/100\n",
      "34/34 [==============================] - 2s 65ms/step - loss: 0.0028\n",
      "Epoch 73/100\n",
      "34/34 [==============================] - 2s 66ms/step - loss: 0.0019\n",
      "Epoch 74/100\n",
      "34/34 [==============================] - 2s 67ms/step - loss: 0.0011\n",
      "Epoch 75/100\n",
      "34/34 [==============================] - 2s 65ms/step - loss: 0.0014\n",
      "Epoch 76/100\n",
      "34/34 [==============================] - 2s 65ms/step - loss: 0.0017\n",
      "Epoch 77/100\n",
      "34/34 [==============================] - 2s 68ms/step - loss: 0.0011\n",
      "Epoch 78/100\n",
      "34/34 [==============================] - 2s 69ms/step - loss: 0.0011\n",
      "Epoch 79/100\n",
      "34/34 [==============================] - 2s 65ms/step - loss: 0.0011\n",
      "Epoch 80/100\n",
      "34/34 [==============================] - 2s 65ms/step - loss: 0.0011\n",
      "Epoch 81/100\n",
      "34/34 [==============================] - 2s 65ms/step - loss: 0.0012\n",
      "Epoch 82/100\n",
      "34/34 [==============================] - 2s 65ms/step - loss: 0.0013\n",
      "Epoch 83/100\n",
      "34/34 [==============================] - 2s 65ms/step - loss: 0.0012\n",
      "Epoch 84/100\n",
      "34/34 [==============================] - 2s 65ms/step - loss: 0.0014\n",
      "Epoch 85/100\n",
      "34/34 [==============================] - 2s 65ms/step - loss: 0.0012\n",
      "Epoch 86/100\n",
      "34/34 [==============================] - 2s 68ms/step - loss: 0.0023\n",
      "Epoch 87/100\n",
      "34/34 [==============================] - 2s 66ms/step - loss: 0.0013\n",
      "Epoch 88/100\n",
      "34/34 [==============================] - 2s 66ms/step - loss: 0.0012\n",
      "Epoch 89/100\n",
      "34/34 [==============================] - 2s 68ms/step - loss: 0.0011\n",
      "Epoch 90/100\n",
      "34/34 [==============================] - 2s 66ms/step - loss: 0.0012\n",
      "Epoch 91/100\n",
      "34/34 [==============================] - 2s 66ms/step - loss: 0.0014\n",
      "Epoch 92/100\n",
      "34/34 [==============================] - 2s 67ms/step - loss: 0.0010\n",
      "Epoch 93/100\n",
      "34/34 [==============================] - 2s 66ms/step - loss: 0.0010\n",
      "Epoch 94/100\n",
      "34/34 [==============================] - 2s 65ms/step - loss: 0.0012\n",
      "Epoch 95/100\n",
      "34/34 [==============================] - 2s 66ms/step - loss: 0.0011\n",
      "Epoch 96/100\n",
      "34/34 [==============================] - 2s 65ms/step - loss: 0.0020\n",
      "Epoch 97/100\n",
      "34/34 [==============================] - 2s 64ms/step - loss: 0.0017\n",
      "Epoch 98/100\n",
      "34/34 [==============================] - 2s 65ms/step - loss: 0.0014\n",
      "Epoch 99/100\n",
      "34/34 [==============================] - 2s 66ms/step - loss: 0.0011\n",
      "Epoch 100/100\n",
      "34/34 [==============================] - 2s 66ms/step - loss: 0.0010\n"
     ]
    },
    {
     "data": {
      "text/plain": [
       "<keras.callbacks.History at 0x7f7bff3d63d0>"
      ]
     },
     "execution_count": 129,
     "metadata": {},
     "output_type": "execute_result"
    }
   ],
   "source": [
    "model.fit_generator(forecast_tsGenerator, epochs=100)"
   ]
  },
  {
   "cell_type": "code",
   "execution_count": 130,
   "id": "997c24f8",
   "metadata": {},
   "outputs": [
    {
     "name": "stdout",
     "output_type": "stream",
     "text": [
      "1/1 [==============================] - 0s 375ms/step\n",
      "1/1 [==============================] - 0s 31ms/step\n",
      "1/1 [==============================] - 0s 25ms/step\n",
      "1/1 [==============================] - 0s 25ms/step\n",
      "1/1 [==============================] - 0s 29ms/step\n",
      "1/1 [==============================] - 0s 28ms/step\n",
      "1/1 [==============================] - 0s 25ms/step\n",
      "1/1 [==============================] - 0s 26ms/step\n",
      "1/1 [==============================] - 0s 25ms/step\n",
      "1/1 [==============================] - 0s 26ms/step\n",
      "1/1 [==============================] - 0s 28ms/step\n",
      "1/1 [==============================] - 0s 27ms/step\n",
      "1/1 [==============================] - 0s 27ms/step\n",
      "1/1 [==============================] - 0s 27ms/step\n",
      "1/1 [==============================] - 0s 27ms/step\n",
      "1/1 [==============================] - 0s 25ms/step\n",
      "1/1 [==============================] - 0s 27ms/step\n",
      "1/1 [==============================] - 0s 25ms/step\n",
      "1/1 [==============================] - 0s 27ms/step\n",
      "1/1 [==============================] - 0s 30ms/step\n",
      "1/1 [==============================] - 0s 29ms/step\n",
      "1/1 [==============================] - 0s 27ms/step\n",
      "1/1 [==============================] - 0s 26ms/step\n",
      "1/1 [==============================] - 0s 27ms/step\n",
      "1/1 [==============================] - 0s 27ms/step\n",
      "1/1 [==============================] - 0s 26ms/step\n",
      "1/1 [==============================] - 0s 27ms/step\n",
      "1/1 [==============================] - 0s 26ms/step\n",
      "1/1 [==============================] - 0s 25ms/step\n",
      "1/1 [==============================] - 0s 27ms/step\n",
      "1/1 [==============================] - 0s 27ms/step\n",
      "1/1 [==============================] - 0s 27ms/step\n",
      "1/1 [==============================] - 0s 26ms/step\n",
      "1/1 [==============================] - 0s 25ms/step\n",
      "1/1 [==============================] - 0s 27ms/step\n",
      "1/1 [==============================] - 0s 29ms/step\n",
      "1/1 [==============================] - 0s 28ms/step\n",
      "1/1 [==============================] - 0s 26ms/step\n",
      "1/1 [==============================] - 0s 26ms/step\n",
      "1/1 [==============================] - 0s 28ms/step\n",
      "1/1 [==============================] - 0s 28ms/step\n",
      "1/1 [==============================] - 0s 27ms/step\n",
      "1/1 [==============================] - 0s 28ms/step\n",
      "1/1 [==============================] - 0s 27ms/step\n",
      "1/1 [==============================] - 0s 27ms/step\n",
      "1/1 [==============================] - 0s 29ms/step\n",
      "1/1 [==============================] - 0s 28ms/step\n",
      "1/1 [==============================] - 0s 28ms/step\n",
      "1/1 [==============================] - 0s 28ms/step\n",
      "1/1 [==============================] - 0s 26ms/step\n",
      "1/1 [==============================] - 0s 26ms/step\n",
      "1/1 [==============================] - 0s 26ms/step\n",
      "1/1 [==============================] - 0s 26ms/step\n",
      "1/1 [==============================] - 0s 25ms/step\n",
      "1/1 [==============================] - 0s 27ms/step\n",
      "1/1 [==============================] - 0s 26ms/step\n",
      "1/1 [==============================] - 0s 25ms/step\n",
      "1/1 [==============================] - 0s 27ms/step\n",
      "1/1 [==============================] - 0s 26ms/step\n",
      "1/1 [==============================] - 0s 29ms/step\n",
      "1/1 [==============================] - 0s 26ms/step\n",
      "1/1 [==============================] - 0s 27ms/step\n",
      "1/1 [==============================] - 0s 29ms/step\n",
      "1/1 [==============================] - 0s 26ms/step\n",
      "1/1 [==============================] - 0s 25ms/step\n",
      "1/1 [==============================] - 0s 26ms/step\n",
      "1/1 [==============================] - 0s 26ms/step\n",
      "1/1 [==============================] - 0s 25ms/step\n",
      "1/1 [==============================] - 0s 26ms/step\n",
      "1/1 [==============================] - 0s 26ms/step\n",
      "1/1 [==============================] - 0s 27ms/step\n",
      "1/1 [==============================] - 0s 26ms/step\n",
      "1/1 [==============================] - 0s 28ms/step\n",
      "1/1 [==============================] - 0s 25ms/step\n",
      "1/1 [==============================] - 0s 27ms/step\n",
      "1/1 [==============================] - 0s 29ms/step\n",
      "1/1 [==============================] - 0s 25ms/step\n",
      "1/1 [==============================] - 0s 26ms/step\n",
      "1/1 [==============================] - 0s 25ms/step\n",
      "1/1 [==============================] - 0s 26ms/step\n",
      "1/1 [==============================] - 0s 27ms/step\n",
      "1/1 [==============================] - 0s 24ms/step\n",
      "1/1 [==============================] - 0s 27ms/step\n",
      "1/1 [==============================] - 0s 26ms/step\n",
      "1/1 [==============================] - 0s 26ms/step\n",
      "1/1 [==============================] - 0s 26ms/step\n",
      "1/1 [==============================] - 0s 26ms/step\n",
      "1/1 [==============================] - 0s 27ms/step\n",
      "1/1 [==============================] - 0s 26ms/step\n",
      "1/1 [==============================] - 0s 25ms/step\n",
      "1/1 [==============================] - 0s 26ms/step\n",
      "1/1 [==============================] - 0s 27ms/step\n",
      "1/1 [==============================] - 0s 26ms/step\n",
      "1/1 [==============================] - 0s 27ms/step\n",
      "1/1 [==============================] - 0s 28ms/step\n",
      "1/1 [==============================] - 0s 27ms/step\n",
      "1/1 [==============================] - 0s 28ms/step\n",
      "1/1 [==============================] - 0s 26ms/step\n",
      "1/1 [==============================] - 0s 26ms/step\n",
      "1/1 [==============================] - 0s 26ms/step\n",
      "1/1 [==============================] - 0s 25ms/step\n",
      "1/1 [==============================] - 0s 25ms/step\n",
      "1/1 [==============================] - 0s 25ms/step\n",
      "1/1 [==============================] - 0s 27ms/step\n",
      "1/1 [==============================] - 0s 28ms/step\n",
      "1/1 [==============================] - 0s 27ms/step\n"
     ]
    }
   ],
   "source": [
    "forecast = []\n",
    "periods = 106\n",
    "first_eval_batch = normalized_full_data[-length60:]\n",
    "current_batch = first_eval_batch.reshape((1,length60,n_features))\n",
    "for i in range(periods):\n",
    "    current_pred = model.predict(current_batch)[0]\n",
    "    forecast.append(current_pred)\n",
    "    current_batch=np.append(current_batch[:,1:,:],[[current_pred]],axis=1)"
   ]
  },
  {
   "cell_type": "code",
   "execution_count": 131,
   "id": "db8e1089",
   "metadata": {},
   "outputs": [
    {
     "data": {
      "text/plain": [
       "array([[69.23390853],\n",
       "       [68.660805  ],\n",
       "       [68.23694953],\n",
       "       [67.9139722 ],\n",
       "       [67.66398796],\n",
       "       [67.46765993],\n",
       "       [67.30683939],\n",
       "       [67.16893237],\n",
       "       [67.04432291],\n",
       "       [66.92606751],\n",
       "       [66.80960817],\n",
       "       [66.69238041],\n",
       "       [66.57337204],\n",
       "       [66.45265093],\n",
       "       [66.330967  ],\n",
       "       [66.20935404],\n",
       "       [66.08895697],\n",
       "       [65.97078798],\n",
       "       [65.85564327],\n",
       "       [65.74407523],\n",
       "       [65.63641407],\n",
       "       [65.53272766],\n",
       "       [65.43296048],\n",
       "       [65.33690575],\n",
       "       [65.2443135 ],\n",
       "       [65.15487206],\n",
       "       [65.06828825],\n",
       "       [64.98427508],\n",
       "       [64.90259492],\n",
       "       [64.82303175],\n",
       "       [64.74540967],\n",
       "       [64.66959599],\n",
       "       [64.59548578],\n",
       "       [64.52300189],\n",
       "       [64.45206717],\n",
       "       [64.38262916],\n",
       "       [64.31464465],\n",
       "       [64.24806736],\n",
       "       [64.18286642],\n",
       "       [64.11898629],\n",
       "       [64.05640228],\n",
       "       [63.99505575],\n",
       "       [63.93490968],\n",
       "       [63.87594245],\n",
       "       [63.8180831 ],\n",
       "       [63.76131002],\n",
       "       [63.70557692],\n",
       "       [63.65084059],\n",
       "       [63.59707327],\n",
       "       [63.54423175],\n",
       "       [63.49229443],\n",
       "       [63.44121501],\n",
       "       [63.3909719 ],\n",
       "       [63.34153732],\n",
       "       [63.29289275],\n",
       "       [63.24499808],\n",
       "       [63.1978348 ],\n",
       "       [63.15139055],\n",
       "       [63.1056283 ],\n",
       "       [63.06052646],\n",
       "       [63.01608502],\n",
       "       [62.97226078],\n",
       "       [62.92904449],\n",
       "       [62.8864207 ],\n",
       "       [62.84436474],\n",
       "       [62.80286734],\n",
       "       [62.76190691],\n",
       "       [62.72146492],\n",
       "       [62.68153212],\n",
       "       [62.64208691],\n",
       "       [62.60312929],\n",
       "       [62.56462839],\n",
       "       [62.52657497],\n",
       "       [62.48896901],\n",
       "       [62.45177967],\n",
       "       [62.41500076],\n",
       "       [62.37863229],\n",
       "       [62.34264648],\n",
       "       [62.30704334],\n",
       "       [62.27180434],\n",
       "       [62.23692641],\n",
       "       [62.20240028],\n",
       "       [62.16821052],\n",
       "       [62.13434788],\n",
       "       [62.10080926],\n",
       "       [62.06757617],\n",
       "       [62.0346455 ],\n",
       "       [62.00202034],\n",
       "       [61.96966984],\n",
       "       [61.93760633],\n",
       "       [61.90580513],\n",
       "       [61.87427551],\n",
       "       [61.84299276],\n",
       "       [61.81196923],\n",
       "       [61.78118333],\n",
       "       [61.75063505],\n",
       "       [61.72030896],\n",
       "       [61.69021432],\n",
       "       [61.66033261],\n",
       "       [61.63066384],\n",
       "       [61.60119875],\n",
       "       [61.57193732],\n",
       "       [61.54286106],\n",
       "       [61.51397922],\n",
       "       [61.48527637],\n",
       "       [61.45674941]])"
      ]
     },
     "execution_count": 131,
     "metadata": {},
     "output_type": "execute_result"
    }
   ],
   "source": [
    "forecast = full_scaler.inverse_transform(forecast)\n",
    "forecast"
   ]
  },
  {
   "cell_type": "code",
   "execution_count": 132,
   "id": "91041802",
   "metadata": {},
   "outputs": [
    {
     "data": {
      "text/html": [
       "<div>\n",
       "<style scoped>\n",
       "    .dataframe tbody tr th:only-of-type {\n",
       "        vertical-align: middle;\n",
       "    }\n",
       "\n",
       "    .dataframe tbody tr th {\n",
       "        vertical-align: top;\n",
       "    }\n",
       "\n",
       "    .dataframe thead th {\n",
       "        text-align: right;\n",
       "    }\n",
       "</style>\n",
       "<table border=\"1\" class=\"dataframe\">\n",
       "  <thead>\n",
       "    <tr style=\"text-align: right;\">\n",
       "      <th></th>\n",
       "      <th>Close</th>\n",
       "    </tr>\n",
       "  </thead>\n",
       "  <tbody>\n",
       "    <tr>\n",
       "      <th>0</th>\n",
       "      <td>26.168653</td>\n",
       "    </tr>\n",
       "    <tr>\n",
       "      <th>1</th>\n",
       "      <td>25.623152</td>\n",
       "    </tr>\n",
       "    <tr>\n",
       "      <th>2</th>\n",
       "      <td>25.029282</td>\n",
       "    </tr>\n",
       "    <tr>\n",
       "      <th>3</th>\n",
       "      <td>24.986401</td>\n",
       "    </tr>\n",
       "    <tr>\n",
       "      <th>4</th>\n",
       "      <td>25.065184</td>\n",
       "    </tr>\n",
       "    <tr>\n",
       "      <th>...</th>\n",
       "      <td>...</td>\n",
       "    </tr>\n",
       "    <tr>\n",
       "      <th>1377</th>\n",
       "      <td>73.220497</td>\n",
       "    </tr>\n",
       "    <tr>\n",
       "      <th>1378</th>\n",
       "      <td>71.598503</td>\n",
       "    </tr>\n",
       "    <tr>\n",
       "      <th>1379</th>\n",
       "      <td>72.066498</td>\n",
       "    </tr>\n",
       "    <tr>\n",
       "      <th>1380</th>\n",
       "      <td>67.995003</td>\n",
       "    </tr>\n",
       "    <tr>\n",
       "      <th>1381</th>\n",
       "      <td>69.748497</td>\n",
       "    </tr>\n",
       "  </tbody>\n",
       "</table>\n",
       "<p>1382 rows × 1 columns</p>\n",
       "</div>"
      ],
      "text/plain": [
       "          Close\n",
       "0     26.168653\n",
       "1     25.623152\n",
       "2     25.029282\n",
       "3     24.986401\n",
       "4     25.065184\n",
       "...         ...\n",
       "1377  73.220497\n",
       "1378  71.598503\n",
       "1379  72.066498\n",
       "1380  67.995003\n",
       "1381  69.748497\n",
       "\n",
       "[1382 rows x 1 columns]"
      ]
     },
     "execution_count": 132,
     "metadata": {},
     "output_type": "execute_result"
    }
   ],
   "source": [
    "df"
   ]
  },
  {
   "cell_type": "code",
   "execution_count": 133,
   "id": "35c5effd",
   "metadata": {},
   "outputs": [],
   "source": [
    "forecast_index=np.arange(1382,1488,step=1)\n"
   ]
  },
  {
   "cell_type": "code",
   "execution_count": 134,
   "id": "55369b1e",
   "metadata": {},
   "outputs": [],
   "source": [
    "forecast_df = pd.DataFrame(data=forecast,index=forecast_index,columns=['Forecast'])"
   ]
  },
  {
   "cell_type": "code",
   "execution_count": 135,
   "id": "aea95612",
   "metadata": {},
   "outputs": [
    {
     "data": {
      "text/html": [
       "<div>\n",
       "<style scoped>\n",
       "    .dataframe tbody tr th:only-of-type {\n",
       "        vertical-align: middle;\n",
       "    }\n",
       "\n",
       "    .dataframe tbody tr th {\n",
       "        vertical-align: top;\n",
       "    }\n",
       "\n",
       "    .dataframe thead th {\n",
       "        text-align: right;\n",
       "    }\n",
       "</style>\n",
       "<table border=\"1\" class=\"dataframe\">\n",
       "  <thead>\n",
       "    <tr style=\"text-align: right;\">\n",
       "      <th></th>\n",
       "      <th>Forecast</th>\n",
       "    </tr>\n",
       "  </thead>\n",
       "  <tbody>\n",
       "    <tr>\n",
       "      <th>1382</th>\n",
       "      <td>69.233909</td>\n",
       "    </tr>\n",
       "    <tr>\n",
       "      <th>1383</th>\n",
       "      <td>68.660805</td>\n",
       "    </tr>\n",
       "    <tr>\n",
       "      <th>1384</th>\n",
       "      <td>68.236950</td>\n",
       "    </tr>\n",
       "    <tr>\n",
       "      <th>1385</th>\n",
       "      <td>67.913972</td>\n",
       "    </tr>\n",
       "    <tr>\n",
       "      <th>1386</th>\n",
       "      <td>67.663988</td>\n",
       "    </tr>\n",
       "    <tr>\n",
       "      <th>...</th>\n",
       "      <td>...</td>\n",
       "    </tr>\n",
       "    <tr>\n",
       "      <th>1483</th>\n",
       "      <td>61.571937</td>\n",
       "    </tr>\n",
       "    <tr>\n",
       "      <th>1484</th>\n",
       "      <td>61.542861</td>\n",
       "    </tr>\n",
       "    <tr>\n",
       "      <th>1485</th>\n",
       "      <td>61.513979</td>\n",
       "    </tr>\n",
       "    <tr>\n",
       "      <th>1486</th>\n",
       "      <td>61.485276</td>\n",
       "    </tr>\n",
       "    <tr>\n",
       "      <th>1487</th>\n",
       "      <td>61.456749</td>\n",
       "    </tr>\n",
       "  </tbody>\n",
       "</table>\n",
       "<p>106 rows × 1 columns</p>\n",
       "</div>"
      ],
      "text/plain": [
       "       Forecast\n",
       "1382  69.233909\n",
       "1383  68.660805\n",
       "1384  68.236950\n",
       "1385  67.913972\n",
       "1386  67.663988\n",
       "...         ...\n",
       "1483  61.571937\n",
       "1484  61.542861\n",
       "1485  61.513979\n",
       "1486  61.485276\n",
       "1487  61.456749\n",
       "\n",
       "[106 rows x 1 columns]"
      ]
     },
     "execution_count": 135,
     "metadata": {},
     "output_type": "execute_result"
    }
   ],
   "source": [
    "forecast_df"
   ]
  },
  {
   "cell_type": "code",
   "execution_count": 136,
   "id": "42a13f9f",
   "metadata": {},
   "outputs": [
    {
     "data": {
      "text/plain": [
       "<AxesSubplot:>"
      ]
     },
     "execution_count": 136,
     "metadata": {},
     "output_type": "execute_result"
    },
    {
     "data": {
      "image/png": "[encoded data removed]",
      "text/plain": [
       "<Figure size 640x480 with 1 Axes>"
      ]
     },
     "metadata": {},
     "output_type": "display_data"
    },
    {
     "data": {
      "image/png": "[encoded data removed]",
      "text/plain": [
       "<Figure size 640x480 with 1 Axes>"
      ]
     },
     "metadata": {},
     "output_type": "display_data"
    }
   ],
   "source": [
    "df.plot()\n",
    "forecast_df.plot()"
   ]
  },
  {
   "cell_type": "code",
   "execution_count": 137,
   "id": "d8276b7f",
   "metadata": {},
   "outputs": [
    {
     "data": {
      "text/plain": [
       "<AxesSubplot:>"
      ]
     },
     "execution_count": 137,
     "metadata": {},
     "output_type": "execute_result"
    },
    {
     "data": {
      "image/png": "[encoded data removed]",
      "text/plain": [
       "<Figure size 1200x800 with 1 Axes>"
      ]
     },
     "metadata": {},
     "output_type": "display_data"
    }
   ],
   "source": [
    "ax=df.plot()\n",
    "forecast_df.plot(ax=ax, figsize=(12,8))"
   ]
  },
  {
   "cell_type": "code",
   "execution_count": 138,
   "id": "541ebb4f",
   "metadata": {},
   "outputs": [],
   "source": [
    "dir_path_dataset_2 = 'GOOG_2.csv'"
   ]
  },
  {
   "cell_type": "code",
   "execution_count": 139,
   "id": "e8ae75e0",
   "metadata": {},
   "outputs": [],
   "source": [
    "df_ALL_JUL_DEC_2019 = pd.read_csv(dir_path_dataset_2)\n"
   ]
  },
  {
   "cell_type": "code",
   "execution_count": 140,
   "id": "b545d34c",
   "metadata": {},
   "outputs": [
    {
     "data": {
      "text/html": [
       "<div>\n",
       "<style scoped>\n",
       "    .dataframe tbody tr th:only-of-type {\n",
       "        vertical-align: middle;\n",
       "    }\n",
       "\n",
       "    .dataframe tbody tr th {\n",
       "        vertical-align: top;\n",
       "    }\n",
       "\n",
       "    .dataframe thead th {\n",
       "        text-align: right;\n",
       "    }\n",
       "</style>\n",
       "<table border=\"1\" class=\"dataframe\">\n",
       "  <thead>\n",
       "    <tr style=\"text-align: right;\">\n",
       "      <th></th>\n",
       "      <th>Date</th>\n",
       "      <th>Open</th>\n",
       "      <th>High</th>\n",
       "      <th>Low</th>\n",
       "      <th>Close</th>\n",
       "      <th>Adj Close</th>\n",
       "      <th>Volume</th>\n",
       "    </tr>\n",
       "  </thead>\n",
       "  <tbody>\n",
       "    <tr>\n",
       "      <th>0</th>\n",
       "      <td>2022-06-30</td>\n",
       "      <td>110.499496</td>\n",
       "      <td>111.329803</td>\n",
       "      <td>107.309998</td>\n",
       "      <td>109.372498</td>\n",
       "      <td>109.372498</td>\n",
       "      <td>38046000</td>\n",
       "    </tr>\n",
       "    <tr>\n",
       "      <th>1</th>\n",
       "      <td>2022-07-01</td>\n",
       "      <td>108.336998</td>\n",
       "      <td>109.806351</td>\n",
       "      <td>107.105003</td>\n",
       "      <td>109.081001</td>\n",
       "      <td>109.081001</td>\n",
       "      <td>31028000</td>\n",
       "    </tr>\n",
       "    <tr>\n",
       "      <th>2</th>\n",
       "      <td>2022-07-05</td>\n",
       "      <td>107.514503</td>\n",
       "      <td>114.052597</td>\n",
       "      <td>106.249496</td>\n",
       "      <td>113.887001</td>\n",
       "      <td>113.887001</td>\n",
       "      <td>36398000</td>\n",
       "    </tr>\n",
       "    <tr>\n",
       "      <th>3</th>\n",
       "      <td>2022-07-06</td>\n",
       "      <td>114.092003</td>\n",
       "      <td>116.351997</td>\n",
       "      <td>112.250504</td>\n",
       "      <td>115.213501</td>\n",
       "      <td>115.213501</td>\n",
       "      <td>28852000</td>\n",
       "    </tr>\n",
       "    <tr>\n",
       "      <th>4</th>\n",
       "      <td>2022-07-07</td>\n",
       "      <td>116.008003</td>\n",
       "      <td>119.862000</td>\n",
       "      <td>115.533997</td>\n",
       "      <td>119.306000</td>\n",
       "      <td>119.306000</td>\n",
       "      <td>32184000</td>\n",
       "    </tr>\n",
       "    <tr>\n",
       "      <th>...</th>\n",
       "      <td>...</td>\n",
       "      <td>...</td>\n",
       "      <td>...</td>\n",
       "      <td>...</td>\n",
       "      <td>...</td>\n",
       "      <td>...</td>\n",
       "      <td>...</td>\n",
       "    </tr>\n",
       "    <tr>\n",
       "      <th>101</th>\n",
       "      <td>2022-11-22</td>\n",
       "      <td>96.160004</td>\n",
       "      <td>97.547997</td>\n",
       "      <td>94.410004</td>\n",
       "      <td>97.330002</td>\n",
       "      <td>97.330002</td>\n",
       "      <td>18868900</td>\n",
       "    </tr>\n",
       "    <tr>\n",
       "      <th>102</th>\n",
       "      <td>2022-11-23</td>\n",
       "      <td>97.339996</td>\n",
       "      <td>99.069000</td>\n",
       "      <td>97.339996</td>\n",
       "      <td>98.820000</td>\n",
       "      <td>98.820000</td>\n",
       "      <td>17568900</td>\n",
       "    </tr>\n",
       "    <tr>\n",
       "      <th>103</th>\n",
       "      <td>2022-11-25</td>\n",
       "      <td>98.464996</td>\n",
       "      <td>98.940002</td>\n",
       "      <td>97.529999</td>\n",
       "      <td>97.599998</td>\n",
       "      <td>97.599998</td>\n",
       "      <td>8567800</td>\n",
       "    </tr>\n",
       "    <tr>\n",
       "      <th>104</th>\n",
       "      <td>2022-11-28</td>\n",
       "      <td>97.199997</td>\n",
       "      <td>97.830002</td>\n",
       "      <td>95.889999</td>\n",
       "      <td>96.250000</td>\n",
       "      <td>96.250000</td>\n",
       "      <td>19974500</td>\n",
       "    </tr>\n",
       "    <tr>\n",
       "      <th>105</th>\n",
       "      <td>2022-11-29</td>\n",
       "      <td>96.000000</td>\n",
       "      <td>96.389999</td>\n",
       "      <td>94.389999</td>\n",
       "      <td>95.440002</td>\n",
       "      <td>95.440002</td>\n",
       "      <td>20220000</td>\n",
       "    </tr>\n",
       "  </tbody>\n",
       "</table>\n",
       "<p>106 rows × 7 columns</p>\n",
       "</div>"
      ],
      "text/plain": [
       "           Date        Open        High         Low       Close   Adj Close  \\\n",
       "0    2022-06-30  110.499496  111.329803  107.309998  109.372498  109.372498   \n",
       "1    2022-07-01  108.336998  109.806351  107.105003  109.081001  109.081001   \n",
       "2    2022-07-05  107.514503  114.052597  106.249496  113.887001  113.887001   \n",
       "3    2022-07-06  114.092003  116.351997  112.250504  115.213501  115.213501   \n",
       "4    2022-07-07  116.008003  119.862000  115.533997  119.306000  119.306000   \n",
       "..          ...         ...         ...         ...         ...         ...   \n",
       "101  2022-11-22   96.160004   97.547997   94.410004   97.330002   97.330002   \n",
       "102  2022-11-23   97.339996   99.069000   97.339996   98.820000   98.820000   \n",
       "103  2022-11-25   98.464996   98.940002   97.529999   97.599998   97.599998   \n",
       "104  2022-11-28   97.199997   97.830002   95.889999   96.250000   96.250000   \n",
       "105  2022-11-29   96.000000   96.389999   94.389999   95.440002   95.440002   \n",
       "\n",
       "       Volume  \n",
       "0    38046000  \n",
       "1    31028000  \n",
       "2    36398000  \n",
       "3    28852000  \n",
       "4    32184000  \n",
       "..        ...  \n",
       "101  18868900  \n",
       "102  17568900  \n",
       "103   8567800  \n",
       "104  19974500  \n",
       "105  20220000  \n",
       "\n",
       "[106 rows x 7 columns]"
      ]
     },
     "execution_count": 140,
     "metadata": {},
     "output_type": "execute_result"
    }
   ],
   "source": [
    "df_ALL_JUL_DEC_2019"
   ]
  },
  {
   "cell_type": "code",
   "execution_count": 141,
   "id": "d434679b",
   "metadata": {},
   "outputs": [],
   "source": [
    "df_JUL_DEC_2019=df_ALL_JUL_DEC_2019.iloc[:,4:5]"
   ]
  },
  {
   "cell_type": "code",
   "execution_count": 142,
   "id": "5fcb2ae6",
   "metadata": {},
   "outputs": [
    {
     "data": {
      "text/html": [
       "<div>\n",
       "<style scoped>\n",
       "    .dataframe tbody tr th:only-of-type {\n",
       "        vertical-align: middle;\n",
       "    }\n",
       "\n",
       "    .dataframe tbody tr th {\n",
       "        vertical-align: top;\n",
       "    }\n",
       "\n",
       "    .dataframe thead th {\n",
       "        text-align: right;\n",
       "    }\n",
       "</style>\n",
       "<table border=\"1\" class=\"dataframe\">\n",
       "  <thead>\n",
       "    <tr style=\"text-align: right;\">\n",
       "      <th></th>\n",
       "      <th>Close</th>\n",
       "    </tr>\n",
       "  </thead>\n",
       "  <tbody>\n",
       "    <tr>\n",
       "      <th>0</th>\n",
       "      <td>109.372498</td>\n",
       "    </tr>\n",
       "    <tr>\n",
       "      <th>1</th>\n",
       "      <td>109.081001</td>\n",
       "    </tr>\n",
       "    <tr>\n",
       "      <th>2</th>\n",
       "      <td>113.887001</td>\n",
       "    </tr>\n",
       "    <tr>\n",
       "      <th>3</th>\n",
       "      <td>115.213501</td>\n",
       "    </tr>\n",
       "    <tr>\n",
       "      <th>4</th>\n",
       "      <td>119.306000</td>\n",
       "    </tr>\n",
       "    <tr>\n",
       "      <th>...</th>\n",
       "      <td>...</td>\n",
       "    </tr>\n",
       "    <tr>\n",
       "      <th>101</th>\n",
       "      <td>97.330002</td>\n",
       "    </tr>\n",
       "    <tr>\n",
       "      <th>102</th>\n",
       "      <td>98.820000</td>\n",
       "    </tr>\n",
       "    <tr>\n",
       "      <th>103</th>\n",
       "      <td>97.599998</td>\n",
       "    </tr>\n",
       "    <tr>\n",
       "      <th>104</th>\n",
       "      <td>96.250000</td>\n",
       "    </tr>\n",
       "    <tr>\n",
       "      <th>105</th>\n",
       "      <td>95.440002</td>\n",
       "    </tr>\n",
       "  </tbody>\n",
       "</table>\n",
       "<p>106 rows × 1 columns</p>\n",
       "</div>"
      ],
      "text/plain": [
       "          Close\n",
       "0    109.372498\n",
       "1    109.081001\n",
       "2    113.887001\n",
       "3    115.213501\n",
       "4    119.306000\n",
       "..          ...\n",
       "101   97.330002\n",
       "102   98.820000\n",
       "103   97.599998\n",
       "104   96.250000\n",
       "105   95.440002\n",
       "\n",
       "[106 rows x 1 columns]"
      ]
     },
     "execution_count": 142,
     "metadata": {},
     "output_type": "execute_result"
    }
   ],
   "source": [
    "df_JUL_DEC_2019"
   ]
  },
  {
   "cell_type": "code",
   "execution_count": 143,
   "id": "6e6fd3b5",
   "metadata": {},
   "outputs": [
    {
     "data": {
      "text/plain": [
       "<AxesSubplot:>"
      ]
     },
     "execution_count": 143,
     "metadata": {},
     "output_type": "execute_result"
    },
    {
     "data": {
      "image/png": "[encoded data removed]",
      "text/plain": [
       "<Figure size 640x480 with 1 Axes>"
      ]
     },
     "metadata": {},
     "output_type": "display_data"
    }
   ],
   "source": [
    "df_JUL_DEC_2019.plot()"
   ]
  },
  {
   "cell_type": "code",
   "execution_count": 144,
   "id": "2acfeed7",
   "metadata": {},
   "outputs": [
    {
     "data": {
      "text/plain": [
       "array([69.23390853, 68.660805  , 68.23694953, 67.9139722 , 67.66398796,\n",
       "       67.46765993, 67.30683939, 67.16893237, 67.04432291, 66.92606751,\n",
       "       66.80960817, 66.69238041, 66.57337204, 66.45265093, 66.330967  ,\n",
       "       66.20935404, 66.08895697, 65.97078798, 65.85564327, 65.74407523,\n",
       "       65.63641407, 65.53272766, 65.43296048, 65.33690575, 65.2443135 ,\n",
       "       65.15487206, 65.06828825, 64.98427508, 64.90259492, 64.82303175,\n",
       "       64.74540967, 64.66959599, 64.59548578, 64.52300189, 64.45206717,\n",
       "       64.38262916, 64.31464465, 64.24806736, 64.18286642, 64.11898629,\n",
       "       64.05640228, 63.99505575, 63.93490968, 63.87594245, 63.8180831 ,\n",
       "       63.76131002, 63.70557692, 63.65084059, 63.59707327, 63.54423175,\n",
       "       63.49229443, 63.44121501, 63.3909719 , 63.34153732, 63.29289275,\n",
       "       63.24499808, 63.1978348 , 63.15139055, 63.1056283 , 63.06052646,\n",
       "       63.01608502, 62.97226078, 62.92904449, 62.8864207 , 62.84436474,\n",
       "       62.80286734, 62.76190691, 62.72146492, 62.68153212, 62.64208691,\n",
       "       62.60312929, 62.56462839, 62.52657497, 62.48896901, 62.45177967,\n",
       "       62.41500076, 62.37863229, 62.34264648, 62.30704334, 62.27180434,\n",
       "       62.23692641, 62.20240028, 62.16821052, 62.13434788, 62.10080926,\n",
       "       62.06757617, 62.0346455 , 62.00202034, 61.96966984, 61.93760633,\n",
       "       61.90580513, 61.87427551, 61.84299276, 61.81196923, 61.78118333,\n",
       "       61.75063505, 61.72030896, 61.69021432, 61.66033261, 61.63066384,\n",
       "       61.60119875, 61.57193732, 61.54286106, 61.51397922, 61.48527637,\n",
       "       61.45674941])"
      ]
     },
     "execution_count": 144,
     "metadata": {},
     "output_type": "execute_result"
    }
   ],
   "source": [
    "forecast_df['Forecast'].values"
   ]
  },
  {
   "cell_type": "code",
   "execution_count": 145,
   "id": "7826b05a",
   "metadata": {},
   "outputs": [],
   "source": [
    "df_JUL_DEC_2019['Forecast']=forecast_df['Forecast'].values"
   ]
  },
  {
   "cell_type": "code",
   "execution_count": 146,
   "id": "c8b3219f",
   "metadata": {},
   "outputs": [
    {
     "data": {
      "text/html": [
       "<div>\n",
       "<style scoped>\n",
       "    .dataframe tbody tr th:only-of-type {\n",
       "        vertical-align: middle;\n",
       "    }\n",
       "\n",
       "    .dataframe tbody tr th {\n",
       "        vertical-align: top;\n",
       "    }\n",
       "\n",
       "    .dataframe thead th {\n",
       "        text-align: right;\n",
       "    }\n",
       "</style>\n",
       "<table border=\"1\" class=\"dataframe\">\n",
       "  <thead>\n",
       "    <tr style=\"text-align: right;\">\n",
       "      <th></th>\n",
       "      <th>Close</th>\n",
       "      <th>Forecast</th>\n",
       "    </tr>\n",
       "  </thead>\n",
       "  <tbody>\n",
       "    <tr>\n",
       "      <th>0</th>\n",
       "      <td>109.372498</td>\n",
       "      <td>69.233909</td>\n",
       "    </tr>\n",
       "    <tr>\n",
       "      <th>1</th>\n",
       "      <td>109.081001</td>\n",
       "      <td>68.660805</td>\n",
       "    </tr>\n",
       "    <tr>\n",
       "      <th>2</th>\n",
       "      <td>113.887001</td>\n",
       "      <td>68.236950</td>\n",
       "    </tr>\n",
       "    <tr>\n",
       "      <th>3</th>\n",
       "      <td>115.213501</td>\n",
       "      <td>67.913972</td>\n",
       "    </tr>\n",
       "    <tr>\n",
       "      <th>4</th>\n",
       "      <td>119.306000</td>\n",
       "      <td>67.663988</td>\n",
       "    </tr>\n",
       "    <tr>\n",
       "      <th>...</th>\n",
       "      <td>...</td>\n",
       "      <td>...</td>\n",
       "    </tr>\n",
       "    <tr>\n",
       "      <th>101</th>\n",
       "      <td>97.330002</td>\n",
       "      <td>61.571937</td>\n",
       "    </tr>\n",
       "    <tr>\n",
       "      <th>102</th>\n",
       "      <td>98.820000</td>\n",
       "      <td>61.542861</td>\n",
       "    </tr>\n",
       "    <tr>\n",
       "      <th>103</th>\n",
       "      <td>97.599998</td>\n",
       "      <td>61.513979</td>\n",
       "    </tr>\n",
       "    <tr>\n",
       "      <th>104</th>\n",
       "      <td>96.250000</td>\n",
       "      <td>61.485276</td>\n",
       "    </tr>\n",
       "    <tr>\n",
       "      <th>105</th>\n",
       "      <td>95.440002</td>\n",
       "      <td>61.456749</td>\n",
       "    </tr>\n",
       "  </tbody>\n",
       "</table>\n",
       "<p>106 rows × 2 columns</p>\n",
       "</div>"
      ],
      "text/plain": [
       "          Close   Forecast\n",
       "0    109.372498  69.233909\n",
       "1    109.081001  68.660805\n",
       "2    113.887001  68.236950\n",
       "3    115.213501  67.913972\n",
       "4    119.306000  67.663988\n",
       "..          ...        ...\n",
       "101   97.330002  61.571937\n",
       "102   98.820000  61.542861\n",
       "103   97.599998  61.513979\n",
       "104   96.250000  61.485276\n",
       "105   95.440002  61.456749\n",
       "\n",
       "[106 rows x 2 columns]"
      ]
     },
     "execution_count": 146,
     "metadata": {},
     "output_type": "execute_result"
    }
   ],
   "source": [
    "df_JUL_DEC_2019"
   ]
  },
  {
   "cell_type": "code",
   "execution_count": 147,
   "id": "5099555f",
   "metadata": {},
   "outputs": [
    {
     "data": {
      "text/plain": [
       "<AxesSubplot:>"
      ]
     },
     "execution_count": 147,
     "metadata": {},
     "output_type": "execute_result"
    },
    {
     "data": {
      "image/png": "[encoded data removed]",
      "text/plain": [
       "<Figure size 640x480 with 1 Axes>"
      ]
     },
     "metadata": {},
     "output_type": "display_data"
    }
   ],
   "source": [
    "df_JUL_DEC_2019.plot()"
   ]
  },
  {
   "cell_type": "code",
   "execution_count": null,
   "id": "50c30c90",
   "metadata": {},
   "outputs": [],
   "source": []
  }
 ],
 "metadata": {
  "kernelspec": {
   "display_name": "Python 3",
   "language": "python",
   "name": "python3"
  },
  "language_info": {
   "codemirror_mode": {
    "name": "ipython",
    "version": 3
   },
   "file_extension": ".py",
   "mimetype": "text/x-python",
   "name": "python",
   "nbconvert_exporter": "python",
   "pygments_lexer": "ipython3",
   "version": "3.7.12"
  }
 },
 "nbformat": 4,
 "nbformat_minor": 5
}
